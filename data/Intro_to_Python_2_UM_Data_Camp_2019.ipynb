{
 "cells": [
  {
   "cell_type": "markdown",
   "metadata": {},
   "source": [
    "# <center> Introduction to Python Session 2\n",
    "\n",
    "Instructor: Jerry Qiushi Yu\n",
    "    \n",
    "Topics for this session:\n",
    "\n",
    "0. List\n",
    "1. Function\n",
    "2. I/O stream\n",
    "3. Numpy\n",
    "\n",
    "\n",
    "<span style=\"font-family:Papyrus; font-size:em;\"> *Thanks to Professor Kerby Shedden and Professor Marcio Mourao for making their teaching materials available. Part of this session's material is based on theirs.* </span>"
   ]
  },
  {
   "cell_type": "markdown",
   "metadata": {},
   "source": [
    "## <center> List\n",
    "    \n",
    "A list is the most basic container in Python. We can put homogeneous or heterogeenous objects in a list.\n",
    "\n",
    "We can index and slice a list. Indexing in Python starts with $0$.\n",
    "\n",
    "We can use an iterator to loop through a list."
   ]
  },
  {
   "cell_type": "code",
   "execution_count": 22,
   "metadata": {},
   "outputs": [
    {
     "name": "stdout",
     "output_type": "stream",
     "text": [
      "[1, 2, 3]\n",
      "[1, 2, [2, 4]]\n",
      "[1, 2, 'cat']\n"
     ]
    }
   ],
   "source": [
    "la=[1,2,3]\n",
    "print(la)\n",
    "lb=[1,2,[2,4]]\n",
    "print(lb)\n",
    "lc=[1,2,\"cat\"]\n",
    "print(lc)"
   ]
  },
  {
   "cell_type": "code",
   "execution_count": 19,
   "metadata": {},
   "outputs": [
    {
     "name": "stdout",
     "output_type": "stream",
     "text": [
      "1\n",
      "1\n",
      "[1, 2]\n",
      "2932254011272 2932244995400\n"
     ]
    }
   ],
   "source": [
    "print(la[0])\n",
    "la_one=la[0]\n",
    "print(la_one)\n",
    "la_onetwo=la[0:2:1] # the pattern for slicing: begin(inclusive):end(exclusive):step\n",
    "print(la_onetwo)\n",
    "la_all=la[:]\n",
    "print(id(la), id(la_all)) # id gives the unique label for an object in computer memory"
   ]
  },
  {
   "cell_type": "code",
   "execution_count": 4,
   "metadata": {},
   "outputs": [
    {
     "name": "stdout",
     "output_type": "stream",
     "text": [
      "1\n",
      "2\n",
      "3\n"
     ]
    }
   ],
   "source": [
    "for element in la:\n",
    "    print(element)"
   ]
  },
  {
   "cell_type": "code",
   "execution_count": 6,
   "metadata": {},
   "outputs": [
    {
     "data": {
      "text/plain": [
       "range(0, 6)"
      ]
     },
     "execution_count": 6,
     "metadata": {},
     "output_type": "execute_result"
    }
   ],
   "source": [
    "# a range object behaves almost the same as a list\n",
    "# we usually use a range oject for indexing in a loop\n",
    "range(6)"
   ]
  },
  {
   "cell_type": "code",
   "execution_count": 8,
   "metadata": {},
   "outputs": [
    {
     "name": "stdout",
     "output_type": "stream",
     "text": [
      "0\n",
      "1\n",
      "4\n",
      "9\n",
      "16\n",
      "25\n"
     ]
    }
   ],
   "source": [
    "for number in range(0,6):\n",
    "    print(number**2)"
   ]
  },
  {
   "cell_type": "markdown",
   "metadata": {},
   "source": [
    "## <center> Function Definitions"
   ]
  },
  {
   "cell_type": "markdown",
   "metadata": {},
   "source": [
    "We use the keyword def in Python to define functions. The string right in the next line after 'def' has a special status. It is called a docstring of the function. Various tools for automatically preparing documentation from source code will use the docstring - make a habit of always supplying one! Also, docstrings are typically triple-quoted even if it fits one line to allow for later expansion."
   ]
  },
  {
   "cell_type": "code",
   "execution_count": 127,
   "metadata": {},
   "outputs": [],
   "source": [
    "def get_strings(lst):\n",
    "    \"\"\"Returns from lst the elements whose type is 'str'.\"\"\"\n",
    "    out = []\n",
    "    for i in lst:\n",
    "        if type(i) is str:\n",
    "            out.append(i) # Adds i to the list.\n",
    "    return out       "
   ]
  },
  {
   "cell_type": "code",
   "execution_count": 128,
   "metadata": {},
   "outputs": [
    {
     "name": "stdout",
     "output_type": "stream",
     "text": [
      "<function get_strings at 0x0000018C54A0C158>\n"
     ]
    }
   ],
   "source": [
    "print(get_strings) # Prints the function object."
   ]
  },
  {
   "cell_type": "code",
   "execution_count": 129,
   "metadata": {},
   "outputs": [
    {
     "name": "stdout",
     "output_type": "stream",
     "text": [
      "Returns from lst the elements whose type is 'str'.\n"
     ]
    }
   ],
   "source": [
    "print(get_strings.__doc__) # Prints the docstring of the function."
   ]
  },
  {
   "cell_type": "code",
   "execution_count": 130,
   "metadata": {},
   "outputs": [
    {
     "name": "stdout",
     "output_type": "stream",
     "text": [
      "['one', 'two']\n"
     ]
    }
   ],
   "source": [
    "strings = get_strings([1,2.0,'one',10,'two']) # Obtain the 'str' elements from the list.\n",
    "print(strings)"
   ]
  },
  {
   "cell_type": "markdown",
   "metadata": {},
   "source": [
    "Now lets generalize the type of the elements filtered by the function."
   ]
  },
  {
   "cell_type": "code",
   "execution_count": 131,
   "metadata": {},
   "outputs": [],
   "source": [
    "def get_type_elements(lst, retType):\n",
    "    \"\"\"Returns from lst the elements whose type is 'retType'.\"\"\"\n",
    "    out = []\n",
    "    for i in lst:\n",
    "        if type(i) is retType:\n",
    "            out.append(i) \n",
    "    return out"
   ]
  },
  {
   "cell_type": "code",
   "execution_count": 132,
   "metadata": {},
   "outputs": [
    {
     "ename": "TypeError",
     "evalue": "get_type_elements() missing 1 required positional argument: 'retType'",
     "output_type": "error",
     "traceback": [
      "\u001b[1;31m---------------------------------------------------------------------------\u001b[0m",
      "\u001b[1;31mTypeError\u001b[0m                                 Traceback (most recent call last)",
      "\u001b[1;32m<ipython-input-132-837a1c4e5af7>\u001b[0m in \u001b[0;36m<module>\u001b[1;34m()\u001b[0m\n\u001b[1;32m----> 1\u001b[1;33m \u001b[0mget_type_elements\u001b[0m\u001b[1;33m(\u001b[0m\u001b[1;33m[\u001b[0m\u001b[1;36m1\u001b[0m\u001b[1;33m,\u001b[0m\u001b[1;36m2.0\u001b[0m\u001b[1;33m,\u001b[0m\u001b[1;34m'one'\u001b[0m\u001b[1;33m,\u001b[0m\u001b[1;36m10\u001b[0m\u001b[1;33m,\u001b[0m\u001b[1;34m'two'\u001b[0m\u001b[1;33m]\u001b[0m\u001b[1;33m)\u001b[0m\u001b[1;33m\u001b[0m\u001b[0m\n\u001b[0m",
      "\u001b[1;31mTypeError\u001b[0m: get_type_elements() missing 1 required positional argument: 'retType'"
     ]
    }
   ],
   "source": [
    "get_type_elements([1,2.0,'one',10,'two'])"
   ]
  },
  {
   "cell_type": "code",
   "execution_count": 39,
   "metadata": {},
   "outputs": [
    {
     "data": {
      "text/plain": [
       "[1, 10]"
      ]
     },
     "execution_count": 39,
     "metadata": {},
     "output_type": "execute_result"
    }
   ],
   "source": [
    "get_type_elements([1,2.0,'one',10,'two'], int)"
   ]
  },
  {
   "cell_type": "markdown",
   "metadata": {},
   "source": [
    "Now lets assume that most of the times you'll be calling this function to return strings from the list. You can create a default parameter value in the function."
   ]
  },
  {
   "cell_type": "code",
   "execution_count": 133,
   "metadata": {},
   "outputs": [],
   "source": [
    "def get_type_elements(lst, retType=str):\n",
    "    \"\"\"Returns from lst the elements whose type is 'retType'.\"\"\"\n",
    "    out = []\n",
    "    for i in lst:\n",
    "        if type(i) is retType:\n",
    "            out.append(i)\n",
    "    return out"
   ]
  },
  {
   "cell_type": "code",
   "execution_count": 134,
   "metadata": {},
   "outputs": [
    {
     "data": {
      "text/plain": [
       "['one', 'two']"
      ]
     },
     "execution_count": 134,
     "metadata": {},
     "output_type": "execute_result"
    }
   ],
   "source": [
    "get_type_elements([1,2.0,'one',10,'two']) # Calls the function with one positional argument."
   ]
  },
  {
   "cell_type": "code",
   "execution_count": 135,
   "metadata": {},
   "outputs": [
    {
     "data": {
      "text/plain": [
       "[1, 10]"
      ]
     },
     "execution_count": 135,
     "metadata": {},
     "output_type": "execute_result"
    }
   ],
   "source": [
    "get_type_elements([1,2.0,'one',10,'two'], int) # Calls the function with two positional arguments."
   ]
  },
  {
   "cell_type": "code",
   "execution_count": 136,
   "metadata": {},
   "outputs": [
    {
     "data": {
      "text/plain": [
       "['one', 'two']"
      ]
     },
     "execution_count": 136,
     "metadata": {},
     "output_type": "execute_result"
    }
   ],
   "source": [
    "get_type_elements(lst=[1,2.0,'one',10,'two'], retType=str) # Calls the function with keyword arguments."
   ]
  },
  {
   "cell_type": "code",
   "execution_count": 137,
   "metadata": {},
   "outputs": [
    {
     "data": {
      "text/plain": [
       "['one', 'two']"
      ]
     },
     "execution_count": 137,
     "metadata": {},
     "output_type": "execute_result"
    }
   ],
   "source": [
    "get_type_elements(retType=str, lst=[1,2.0,'one',10,'two']) # If using only keyword arguments, the order does not matter."
   ]
  },
  {
   "cell_type": "code",
   "execution_count": 138,
   "metadata": {},
   "outputs": [
    {
     "data": {
      "text/plain": [
       "[2.0]"
      ]
     },
     "execution_count": 138,
     "metadata": {},
     "output_type": "execute_result"
    }
   ],
   "source": [
    "get_type_elements([1,2.0,'one',10,'two'], float) # You can combine positional and keyword arguments."
   ]
  },
  {
   "cell_type": "code",
   "execution_count": 140,
   "metadata": {},
   "outputs": [
    {
     "ename": "SyntaxError",
     "evalue": "positional argument follows keyword argument (<ipython-input-140-5e2205a866f7>, line 1)",
     "output_type": "error",
     "traceback": [
      "\u001b[1;36m  File \u001b[1;32m\"<ipython-input-140-5e2205a866f7>\"\u001b[1;36m, line \u001b[1;32m1\u001b[0m\n\u001b[1;33m    get_type_elements(lst=[1,2.0,'one',10,'two'], float)\u001b[0m\n\u001b[1;37m                                                 ^\u001b[0m\n\u001b[1;31mSyntaxError\u001b[0m\u001b[1;31m:\u001b[0m positional argument follows keyword argument\n"
     ]
    }
   ],
   "source": [
    "get_type_elements(lst=[1,2.0,'one',10,'two'], float) \n",
    "# The positional arguments must precede keyword arguments.\n",
    "# in this example, the first argument is keyword argument, and the second is positional.\n",
    "# Therefore, there is an error about this. "
   ]
  },
  {
   "cell_type": "markdown",
   "metadata": {},
   "source": [
    "We can also create anonymous or lambda functions in Python. This can be used to create temporary objects to be used in higher order functions."
   ]
  },
  {
   "cell_type": "code",
   "execution_count": 44,
   "metadata": {},
   "outputs": [
    {
     "data": {
      "text/plain": [
       "9"
      ]
     },
     "execution_count": 44,
     "metadata": {},
     "output_type": "execute_result"
    }
   ],
   "source": [
    "triple = lambda x: x * 3 # Defines a lambda or anonymous function\n",
    "triple(3)\n",
    "# you use these temporary functions as arguments in other functions."
   ]
  },
  {
   "cell_type": "code",
   "execution_count": 45,
   "metadata": {},
   "outputs": [
    {
     "data": {
      "text/plain": [
       "[2, 4, 6, 8, 10, 12, 14, 16, 18]"
      ]
     },
     "execution_count": 45,
     "metadata": {},
     "output_type": "execute_result"
    }
   ],
   "source": [
    "list(filter(lambda x: x%2==0, range(1,20))) # Creates a list with even numbers"
   ]
  },
  {
   "cell_type": "markdown",
   "metadata": {},
   "source": [
    "# <center> Scoping Rules"
   ]
  },
  {
   "cell_type": "markdown",
   "metadata": {},
   "source": [
    "Python scripts can contain function definitions, class definitions, and executable code. A script is executed by the interpreter from top to bottom. Statements are executed as they are encountered. Function and class definitions are processed when encountered (they are compiled to byte code and stored), but they are not immediately evaluated. Therefore, variables referenced inside a function or class definition do not need to exist at the point where the function definition appears in the script. This is a slightly subtle point and we will elaborate below with examples.\n",
    "\n",
    "Python function bodies create their own scope. This means that a variable with a given name that is defined inside a function is unrelated to any variable with the same name defined outside the function. However, if a variable is referred to but not defined inside the function, it will resolve (or bind) to a variable that was created outside of the function body. This is also a subtle point that will hopefully be clarified below."
   ]
  },
  {
   "cell_type": "markdown",
   "metadata": {},
   "source": [
    "First, the simplest possible setting is a pure function that only refers to its arguments and to variables defined inside its own scope."
   ]
  },
  {
   "cell_type": "code",
   "execution_count": 56,
   "metadata": {},
   "outputs": [
    {
     "name": "stdout",
     "output_type": "stream",
     "text": [
      "From f1 - var is:  5\n"
     ]
    }
   ],
   "source": [
    "def f1():\n",
    "    var=5\n",
    "    print(\"From f1 - var is: \", var)\n",
    "\n",
    "f1()"
   ]
  },
  {
   "cell_type": "markdown",
   "metadata": {},
   "source": [
    "The following output shows an error, because we are trying to access a local variable var in a global scope whereas the local variable only works inside function 'f1' or local scope."
   ]
  },
  {
   "cell_type": "code",
   "execution_count": 57,
   "metadata": {},
   "outputs": [
    {
     "ename": "NameError",
     "evalue": "name 'var' is not defined",
     "output_type": "error",
     "traceback": [
      "\u001b[1;31m---------------------------------------------------------------------------\u001b[0m",
      "\u001b[1;31mNameError\u001b[0m                                 Traceback (most recent call last)",
      "\u001b[1;32m<ipython-input-57-fb9539d7f61c>\u001b[0m in \u001b[0;36m<module>\u001b[1;34m()\u001b[0m\n\u001b[1;32m----> 1\u001b[1;33m \u001b[0mprint\u001b[0m\u001b[1;33m(\u001b[0m\u001b[0mvar\u001b[0m\u001b[1;33m)\u001b[0m \u001b[1;31m# This variable is not recognized outside the scope of the function 'f1'\u001b[0m\u001b[1;33m\u001b[0m\u001b[0m\n\u001b[0m",
      "\u001b[1;31mNameError\u001b[0m: name 'var' is not defined"
     ]
    }
   ],
   "source": [
    "print(var) # This variable is not recognized outside the scope of the function 'f1'"
   ]
  },
  {
   "cell_type": "markdown",
   "metadata": {},
   "source": [
    "Python is a statically scoped and a lexically scoped language. This means that a variable used inside a function (that is not local to the function scope) resolves to a variable defined outside the function based on the position of that variable in the source file, rather than to the current state of the environment. "
   ]
  },
  {
   "cell_type": "markdown",
   "metadata": {},
   "source": [
    "For example, if var is referenced inside a function f1, but var is not defined inside f1, then var resolves to the first variable named var that is defined in the enclosing scope of the definition of f1. Note that var did not need to be defined before f1 was defined, it was only necessary for it to be defined before f was called."
   ]
  },
  {
   "cell_type": "code",
   "execution_count": 58,
   "metadata": {},
   "outputs": [
    {
     "name": "stdout",
     "output_type": "stream",
     "text": [
      "From f1 - var is:  10\n",
      "From outside - var is:  10\n"
     ]
    }
   ],
   "source": [
    "var = 10\n",
    "\n",
    "def f1():\n",
    "    print(\"From f1 - var is: \", var)\n",
    "    \n",
    "f1()\n",
    "print(\"From outside - var is: \", var)"
   ]
  },
  {
   "cell_type": "markdown",
   "metadata": {},
   "source": [
    "The two 'vars' below correspond to two different variables."
   ]
  },
  {
   "cell_type": "code",
   "execution_count": 59,
   "metadata": {},
   "outputs": [
    {
     "name": "stdout",
     "output_type": "stream",
     "text": [
      "From f1 - var is:  5\n",
      "From outside - var is:  10\n"
     ]
    }
   ],
   "source": [
    "var = 10\n",
    "\n",
    "def f1():\n",
    "    var = 5\n",
    "    print(\"From f1 - var is: \", var)\n",
    "\n",
    "f1()\n",
    "print(\"From outside - var is: \", var)"
   ]
  },
  {
   "cell_type": "markdown",
   "metadata": {},
   "source": [
    "The following output generates an error because var is being defined locally but referenced before that happens."
   ]
  },
  {
   "cell_type": "code",
   "execution_count": 3,
   "metadata": {},
   "outputs": [
    {
     "ename": "UnboundLocalError",
     "evalue": "local variable 'var' referenced before assignment",
     "output_type": "error",
     "traceback": [
      "\u001b[1;31m---------------------------------------------------------------------------\u001b[0m",
      "\u001b[1;31mUnboundLocalError\u001b[0m                         Traceback (most recent call last)",
      "\u001b[1;32m<ipython-input-3-eb0afdcfb1b1>\u001b[0m in \u001b[0;36m<module>\u001b[1;34m()\u001b[0m\n\u001b[0;32m      5\u001b[0m     \u001b[0mprint\u001b[0m\u001b[1;33m(\u001b[0m\u001b[1;34m\"From f1 - var is: \"\u001b[0m\u001b[1;33m,\u001b[0m \u001b[0mvar\u001b[0m\u001b[1;33m)\u001b[0m\u001b[1;33m\u001b[0m\u001b[0m\n\u001b[0;32m      6\u001b[0m \u001b[1;33m\u001b[0m\u001b[0m\n\u001b[1;32m----> 7\u001b[1;33m \u001b[0mf1\u001b[0m\u001b[1;33m(\u001b[0m\u001b[1;33m)\u001b[0m\u001b[1;33m\u001b[0m\u001b[0m\n\u001b[0m\u001b[0;32m      8\u001b[0m \u001b[0mprint\u001b[0m\u001b[1;33m(\u001b[0m\u001b[1;34m\"From outside - var is: \"\u001b[0m\u001b[1;33m,\u001b[0m \u001b[0mvar\u001b[0m\u001b[1;33m)\u001b[0m\u001b[1;33m\u001b[0m\u001b[0m\n",
      "\u001b[1;32m<ipython-input-3-eb0afdcfb1b1>\u001b[0m in \u001b[0;36mf1\u001b[1;34m()\u001b[0m\n\u001b[0;32m      2\u001b[0m \u001b[1;33m\u001b[0m\u001b[0m\n\u001b[0;32m      3\u001b[0m \u001b[1;32mdef\u001b[0m \u001b[0mf1\u001b[0m\u001b[1;33m(\u001b[0m\u001b[1;33m)\u001b[0m\u001b[1;33m:\u001b[0m\u001b[1;33m\u001b[0m\u001b[0m\n\u001b[1;32m----> 4\u001b[1;33m     \u001b[0mvar\u001b[0m \u001b[1;33m=\u001b[0m \u001b[0mvar\u001b[0m \u001b[1;33m*\u001b[0m \u001b[1;36m10\u001b[0m\u001b[1;33m\u001b[0m\u001b[0m\n\u001b[0m\u001b[0;32m      5\u001b[0m     \u001b[0mprint\u001b[0m\u001b[1;33m(\u001b[0m\u001b[1;34m\"From f1 - var is: \"\u001b[0m\u001b[1;33m,\u001b[0m \u001b[0mvar\u001b[0m\u001b[1;33m)\u001b[0m\u001b[1;33m\u001b[0m\u001b[0m\n\u001b[0;32m      6\u001b[0m \u001b[1;33m\u001b[0m\u001b[0m\n",
      "\u001b[1;31mUnboundLocalError\u001b[0m: local variable 'var' referenced before assignment"
     ]
    }
   ],
   "source": [
    "var = 10\n",
    "\n",
    "def f1():\n",
    "    var = var * 10\n",
    "    print(\"From f1 - var is: \", var)\n",
    "\n",
    "f1()\n",
    "print(\"From outside - var is: \", var)"
   ]
  },
  {
   "cell_type": "markdown",
   "metadata": {},
   "source": [
    "This problem can be solved by using the 'global' keyword and modifying a variable defined outside the function."
   ]
  },
  {
   "cell_type": "code",
   "execution_count": 63,
   "metadata": {},
   "outputs": [
    {
     "name": "stdout",
     "output_type": "stream",
     "text": [
      "From f1 - var is:  100\n",
      "From outside - var is:  100\n"
     ]
    }
   ],
   "source": [
    "var = 10\n",
    "\n",
    "def f1():\n",
    "    global var\n",
    "    var = var * 10\n",
    "    print(\"From f1 - var is: \", var)\n",
    "\n",
    "f1()\n",
    "print(\"From outside - var is: \", var)"
   ]
  },
  {
   "cell_type": "markdown",
   "metadata": {},
   "source": [
    "To clarify the notion of lexical scope, in the following example we have a function f1 that refers to a non-local variable var. The “most local” var relative to the definition of f1 determines the name resolution. Thus when f1 is called, var holds the value 5. The most local var relative to the call of f1 is a different variable (also called var). This variable holds the value 10, and is not referenced at all in the code below."
   ]
  },
  {
   "cell_type": "code",
   "execution_count": 52,
   "metadata": {},
   "outputs": [
    {
     "name": "stdout",
     "output_type": "stream",
     "text": [
      "6\n",
      "6\n"
     ]
    }
   ],
   "source": [
    "var = 5\n",
    "\n",
    "def f1():\n",
    "    print(var + 1)\n",
    "\n",
    "def f2(f1):\n",
    "    var = 10\n",
    "    f1()\n",
    "    \n",
    "f1()\n",
    "f2(f1)"
   ]
  },
  {
   "cell_type": "markdown",
   "metadata": {},
   "source": [
    "Things get a bit more complicated when we have nested scopes. In the following example, there are two different variables called var. When var is referenced inside of f2, it resolves to the variable in the closest enclosing scope, which is the variable holding the value 5."
   ]
  },
  {
   "cell_type": "code",
   "execution_count": 53,
   "metadata": {},
   "outputs": [
    {
     "name": "stdout",
     "output_type": "stream",
     "text": [
      "5\n"
     ]
    }
   ],
   "source": [
    "var = 3\n",
    "\n",
    "def f1():\n",
    "\n",
    "    var = 5\n",
    "\n",
    "    def f2():\n",
    "        return var\n",
    "\n",
    "    r = f2()\n",
    "    print(r)\n",
    "    \n",
    "f1()"
   ]
  },
  {
   "cell_type": "markdown",
   "metadata": {},
   "source": [
    "If no variable named var is encountered in the first enclosing scope, the interpreter goes out one level, and so on. Thus, in the next example the var referenced in f2 resolves to the var in module scope (holding value 3)."
   ]
  },
  {
   "cell_type": "code",
   "execution_count": 54,
   "metadata": {},
   "outputs": [
    {
     "name": "stdout",
     "output_type": "stream",
     "text": [
      "3\n"
     ]
    }
   ],
   "source": [
    "var = 3\n",
    "\n",
    "def f1():\n",
    "\n",
    "    def f2():\n",
    "        return var\n",
    "    \n",
    "    r = f2()\n",
    "    print(r)\n",
    "\n",
    "f1()"
   ]
  },
  {
   "cell_type": "markdown",
   "metadata": {},
   "source": [
    "One more important concept we must discuss is the closure. Below, the function f defines and returns the function g, and g refers to variables defined in the scope of f. Normally, after f returns its scope becomes unreachable, and all variables defined there are reclaimed. But in this case, since g remains in scope, the scope of f must remain reachable via g. In this case, g is called a closure because it not only contains the statements defining g (its function body), but also encapsulates its enclosing scope (the scope of f)."
   ]
  },
  {
   "cell_type": "code",
   "execution_count": 55,
   "metadata": {},
   "outputs": [
    {
     "name": "stdout",
     "output_type": "stream",
     "text": [
      "9\n"
     ]
    }
   ],
   "source": [
    "def f(y):\n",
    "\n",
    "    z = 3 * y\n",
    "\n",
    "    def g():\n",
    "        return z\n",
    "\n",
    "    return g\n",
    "#g() means executing the function g and return the result\n",
    "#g just points to the function itself\n",
    "g = f(3)\n",
    "r = g()\n",
    "print(r)"
   ]
  },
  {
   "cell_type": "markdown",
   "metadata": {},
   "source": [
    "Finally, note that in Python (unlike in some other languages), only functions and modules (files) create scope. In particular, loops do not have their own scope. Thus the loop index variable in the example below clobbers the existing variable with the same name:"
   ]
  },
  {
   "cell_type": "code",
   "execution_count": 147,
   "metadata": {},
   "outputs": [
    {
     "name": "stdout",
     "output_type": "stream",
     "text": [
      "4\n"
     ]
    }
   ],
   "source": [
    "i = 3\n",
    "\n",
    "for i in range(5):\n",
    "    pass\n",
    "\n",
    "print(i)"
   ]
  },
  {
   "cell_type": "markdown",
   "metadata": {},
   "source": [
    "# <center> Reading and writing files"
   ]
  },
  {
   "cell_type": "markdown",
   "metadata": {},
   "source": [
    "Please run the two cells below first for preparation."
   ]
  },
  {
   "cell_type": "code",
   "execution_count": 160,
   "metadata": {},
   "outputs": [
    {
     "data": {
      "text/plain": [
       "'C:\\\\Users\\\\jerry'"
      ]
     },
     "execution_count": 160,
     "metadata": {},
     "output_type": "execute_result"
    }
   ],
   "source": [
    "# Let's print the current working directory(cwd)\n",
    "import os\n",
    "os.getcwd()\n",
    "#os.chdir('PATH')"
   ]
  },
  {
   "cell_type": "code",
   "execution_count": 161,
   "metadata": {},
   "outputs": [],
   "source": [
    "\n",
    "#create one file in the working directory\n",
    "with open('workfile', 'wt') as fout:\n",
    "    fout.write('')\n",
    "    \n",
    "#create another file in the working directory\n",
    "with open('textFile.txt', 'wt') as fout:\n",
    "    fout.write('first\\nsecond\\n\\nthird\\nfourth\\nfifth\\n')"
   ]
  },
  {
   "cell_type": "markdown",
   "metadata": {},
   "source": [
    "You'll certainly need to read data from files to data structures. For structured data, lets say, a table of data in a excel or csv file, you'll be able to use pandas input/output functions to read the data. But it is very important to know how to work with files in Python, specially if you need to deal with unstructured data."
   ]
  },
  {
   "cell_type": "code",
   "execution_count": 163,
   "metadata": {},
   "outputs": [],
   "source": [
    "f = open('workfile', 'r') \n",
    "# Opens the file specified in the first argument with mode specified in the second argument.\n",
    "# second argument: 'r': reading mode. 'w':writing mode"
   ]
  },
  {
   "cell_type": "code",
   "execution_count": 164,
   "metadata": {},
   "outputs": [],
   "source": [
    "f.close() # You always need to close the file object so to free OS resources."
   ]
  },
  {
   "cell_type": "markdown",
   "metadata": {},
   "source": [
    "Below is a very convenient way of opening files. This is because using the keyword 'with' will guarantee that the file object will be closed."
   ]
  },
  {
   "cell_type": "code",
   "execution_count": 165,
   "metadata": {},
   "outputs": [],
   "source": [
    "with open('workfile') as f:\n",
    "    read_data = f.read()"
   ]
  },
  {
   "cell_type": "code",
   "execution_count": 166,
   "metadata": {},
   "outputs": [
    {
     "data": {
      "text/plain": [
       "True"
      ]
     },
     "execution_count": 166,
     "metadata": {},
     "output_type": "execute_result"
    }
   ],
   "source": [
    "f.closed # Tells whether the file is open or closed."
   ]
  },
  {
   "cell_type": "code",
   "execution_count": 167,
   "metadata": {},
   "outputs": [
    {
     "data": {
      "text/plain": [
       "''"
      ]
     },
     "execution_count": 167,
     "metadata": {},
     "output_type": "execute_result"
    }
   ],
   "source": [
    "read_data # This file is actually completely empty."
   ]
  },
  {
   "cell_type": "markdown",
   "metadata": {},
   "source": [
    "I created a file named 'textFile.txt' with the content below."
   ]
  },
  {
   "cell_type": "markdown",
   "metadata": {},
   "source": [
    "first\n",
    "second\n",
    "\n",
    "third\n",
    "fourth\n",
    "fifth"
   ]
  },
  {
   "cell_type": "code",
   "execution_count": 169,
   "metadata": {},
   "outputs": [
    {
     "data": {
      "text/plain": [
       "'first\\nsecond\\n\\nthird\\nfourth\\nfifth\\n'"
      ]
     },
     "execution_count": 169,
     "metadata": {},
     "output_type": "execute_result"
    }
   ],
   "source": [
    "f = open('textFile.txt', 'r') # If you don't specify the second argument, the file will be opened in reading mode.\n",
    "read_data = f.read() # Notice that function 'read' reads the entire content of the file.\n",
    "read_data"
   ]
  },
  {
   "cell_type": "code",
   "execution_count": 170,
   "metadata": {},
   "outputs": [
    {
     "name": "stdout",
     "output_type": "stream",
     "text": [
      "first\n",
      "second\n",
      "\n",
      "third\n",
      "fourth\n",
      "fifth\n"
     ]
    }
   ],
   "source": [
    "print(read_data, end='') # The print function (as seen before) will interpret the end of line characters."
   ]
  },
  {
   "cell_type": "code",
   "execution_count": 171,
   "metadata": {},
   "outputs": [
    {
     "data": {
      "text/plain": [
       "''"
      ]
     },
     "execution_count": 171,
     "metadata": {},
     "output_type": "execute_result"
    }
   ],
   "source": [
    "f.read() # You have reached the end of the file. There is nothing more to be read.\n",
    "#you read through all the the pointers of a file, and in the end, f.read() is empty"
   ]
  },
  {
   "cell_type": "code",
   "execution_count": 172,
   "metadata": {},
   "outputs": [
    {
     "data": {
      "text/plain": [
       "0"
      ]
     },
     "execution_count": 172,
     "metadata": {},
     "output_type": "execute_result"
    }
   ],
   "source": [
    "f.seek(0) # This will redirect file to the beginning of the file."
   ]
  },
  {
   "cell_type": "code",
   "execution_count": 173,
   "metadata": {},
   "outputs": [
    {
     "name": "stdout",
     "output_type": "stream",
     "text": [
      "first\n"
     ]
    }
   ],
   "source": [
    "print(f.readline(), end='')"
   ]
  },
  {
   "cell_type": "code",
   "execution_count": 174,
   "metadata": {},
   "outputs": [
    {
     "name": "stdout",
     "output_type": "stream",
     "text": [
      "second\n"
     ]
    }
   ],
   "source": [
    "print(f.readline(), end='')"
   ]
  },
  {
   "cell_type": "code",
   "execution_count": 175,
   "metadata": {},
   "outputs": [
    {
     "name": "stdout",
     "output_type": "stream",
     "text": [
      "\n",
      "third\n",
      "fourth\n",
      "fifth\n"
     ]
    }
   ],
   "source": [
    "for line in f: # This is a very convenient, fast way of accessing lines of a file.\n",
    "    print(line, end='')"
   ]
  },
  {
   "cell_type": "code",
   "execution_count": 176,
   "metadata": {},
   "outputs": [
    {
     "data": {
      "text/plain": [
       "['first\\n', 'second\\n', '\\n', 'third\\n', 'fourth\\n', 'fifth\\n']"
      ]
     },
     "execution_count": 176,
     "metadata": {},
     "output_type": "execute_result"
    }
   ],
   "source": [
    "f.seek(0)\n",
    "list(f) # You can also create a list out of lines in a file."
   ]
  },
  {
   "cell_type": "code",
   "execution_count": 180,
   "metadata": {},
   "outputs": [
    {
     "data": {
      "text/plain": [
       "['first\\n', 'second\\n', '\\n', 'third\\n', 'fourth\\n', 'fifth\\n']"
      ]
     },
     "execution_count": 180,
     "metadata": {},
     "output_type": "execute_result"
    }
   ],
   "source": [
    "f.seek(0)\n",
    "f.readlines() # Returns the same as above."
   ]
  },
  {
   "cell_type": "code",
   "execution_count": 181,
   "metadata": {},
   "outputs": [
    {
     "data": {
      "text/plain": [
       "['first', 'second', '', 'third', 'fourth', 'fifth']"
      ]
     },
     "execution_count": 181,
     "metadata": {},
     "output_type": "execute_result"
    }
   ],
   "source": [
    "f.seek(0)\n",
    "lines = [x.rstrip() for x in f] # Now cleaning up the list while reading lines from the file.\n",
    "lines"
   ]
  },
  {
   "cell_type": "markdown",
   "metadata": {},
   "source": [
    "You can also supply an argument to the read function. This argument has different meanings based on the opening mode. If you open the file in text mode, the argument represent the number of characters and what determines a character is determined by the file's encoding ('utf-8' is the default). If you opened the file in binary mode (you can do that using the character 'b' in the mode), the read argument represent raw bytes."
   ]
  },
  {
   "cell_type": "code",
   "execution_count": 182,
   "metadata": {},
   "outputs": [
    {
     "data": {
      "text/plain": [
       "'fir'"
      ]
     },
     "execution_count": 182,
     "metadata": {},
     "output_type": "execute_result"
    }
   ],
   "source": [
    "f.seek(0)\n",
    "f.read(3) # Reads a number of bytes equivalent to the number of characters requested."
   ]
  },
  {
   "cell_type": "code",
   "execution_count": 17,
   "metadata": {},
   "outputs": [
    {
     "data": {
      "text/plain": [
       "'st\\nseco'"
      ]
     },
     "execution_count": 17,
     "metadata": {},
     "output_type": "execute_result"
    }
   ],
   "source": [
    "f.read(7) # Again, notice that the read method advances the file handler position everytime is used."
   ]
  },
  {
   "cell_type": "markdown",
   "metadata": {},
   "source": [
    "If you want to get to know the default encoding, you can find it out using the sys module, as below."
   ]
  },
  {
   "cell_type": "code",
   "execution_count": 18,
   "metadata": {},
   "outputs": [
    {
     "data": {
      "text/plain": [
       "'utf-8'"
      ]
     },
     "execution_count": 18,
     "metadata": {},
     "output_type": "execute_result"
    }
   ],
   "source": [
    "import sys\n",
    "sys.getdefaultencoding() "
   ]
  },
  {
   "cell_type": "markdown",
   "metadata": {},
   "source": [
    "Now, if you want to write to a file..."
   ]
  },
  {
   "cell_type": "code",
   "execution_count": 183,
   "metadata": {},
   "outputs": [
    {
     "data": {
      "text/plain": [
       "20"
      ]
     },
     "execution_count": 183,
     "metadata": {},
     "output_type": "execute_result"
    }
   ],
   "source": [
    "import os\n",
    "os.getcwd()\n",
    "f = open('newtextfile.txt', 'w') # Make sure you open the file in writing mode.\n",
    "f.write('This is a new line!\\n')"
   ]
  },
  {
   "cell_type": "markdown",
   "metadata": {},
   "source": [
    "What if we would like to write a tuple to a file?"
   ]
  },
  {
   "cell_type": "code",
   "execution_count": 184,
   "metadata": {},
   "outputs": [
    {
     "name": "stdout",
     "output_type": "stream",
     "text": [
      "('A string', 10)"
     ]
    },
    {
     "data": {
      "text/plain": [
       "16"
      ]
     },
     "execution_count": 184,
     "metadata": {},
     "output_type": "execute_result"
    }
   ],
   "source": [
    "value = ('A string', 10)\n",
    "s = str(value)  # convert the tuple to string\n",
    "print(s, end='')\n",
    "f.write(s)"
   ]
  },
  {
   "cell_type": "code",
   "execution_count": 185,
   "metadata": {},
   "outputs": [],
   "source": [
    "f.close()"
   ]
  },
  {
   "cell_type": "code",
   "execution_count": 186,
   "metadata": {},
   "outputs": [
    {
     "data": {
      "text/plain": [
       "['This is a new line!', \"('A string', 10)\"]"
      ]
     },
     "execution_count": 186,
     "metadata": {},
     "output_type": "execute_result"
    }
   ],
   "source": [
    "with open('newtextfile.txt') as f:\n",
    "    lines = [x.rstrip() for x in f]\n",
    "lines"
   ]
  },
  {
   "cell_type": "markdown",
   "metadata": {},
   "source": [
    "# <center> Numpy"
   ]
  },
  {
   "cell_type": "markdown",
   "metadata": {},
   "source": [
    "NumPy is the fundamental package for scientific computing in Python. It is a Python library that provides several array-like data structures, including a multidimensional array object, various derived objects (such as masked arrays and matrices), and an assortment of routines for fast operations on arrays, including mathematical, logical, shape manipulation, sorting, selecting, I/O, discrete Fourier transforms, basic linear algebra, basic statistical operations, random simulation and much more.\n",
    "\n",
    "The most commonly used array-like data structure is the ndarray (“n-dimensional array”) object. An ndarray is a Python wrapper around a contiguous chunk of memory that allows it to be manipulated like an array.\n",
    "\n",
    "Conventionally 'Numpy' is abbreviated as np:"
   ]
  },
  {
   "cell_type": "code",
   "execution_count": 21,
   "metadata": {},
   "outputs": [
    {
     "name": "stdout",
     "output_type": "stream",
     "text": [
      "<class 'numpy.ndarray'>\n"
     ]
    },
    {
     "data": {
      "text/plain": [
       "array([0., 0., 0., 0., 0.])"
      ]
     },
     "execution_count": 21,
     "metadata": {},
     "output_type": "execute_result"
    }
   ],
   "source": [
    "import numpy as np\n",
    "\n",
    "x = np.zeros(5)\n",
    "print(type(x))\n",
    "x"
   ]
  },
  {
   "cell_type": "markdown",
   "metadata": {},
   "source": [
    "Numpy arrays are homogeneous (for most of the times), contiguous, typed arrays. This makes them dramatically faster than core Python lists for many operations, since the Python list stores all values by indirection and is dynamically typed. The main exception to this would be if you need to store heterogeneous data, and/or you need to shrink or grow the array frequently, in which case the Python list type may actually be more efficient."
   ]
  },
  {
   "cell_type": "markdown",
   "metadata": {},
   "source": [
    "There are currently 24 Numpy data types, called “dtypes”, documented here. This includes the usual 12 numeric types (1, 2, 4, and 8 byte signed and unsigned integers, 4 and 8 byte floating point values, and 4 and 8 byte complex number values). In addition there are string, date/time, and Python object dtypes. The default type for many array creation operations is float64, which is an 8 byte floating point value that is mostly interchangeable with a regular Python float value."
   ]
  },
  {
   "cell_type": "markdown",
   "metadata": {},
   "source": [
    "\n",
    "The np.zeros function creates an array of zeros, defaulting to float64 type. The following are all equivalent:"
   ]
  },
  {
   "cell_type": "code",
   "execution_count": 187,
   "metadata": {},
   "outputs": [
    {
     "name": "stdout",
     "output_type": "stream",
     "text": [
      "float64\n",
      "float64\n",
      "float64\n",
      "float64\n",
      "float64\n",
      "float64\n"
     ]
    }
   ],
   "source": [
    "m = 10\n",
    "x = np.zeros(m)\n",
    "print(x.dtype)\n",
    "x = np.zeros(m, np.float64)\n",
    "print(x.dtype)\n",
    "x = np.zeros(m, dtype=np.float64)\n",
    "print(x.dtype)\n",
    "x = np.zeros(m, dtype=float)\n",
    "print(x.dtype)\n",
    "x = np.zeros(m, dtype='d')\n",
    "print(x.dtype)\n",
    "x = np.zeros(m, dtype='double')\n",
    "print(x.dtype)"
   ]
  },
  {
   "cell_type": "markdown",
   "metadata": {},
   "source": [
    "The following examples create arrays of zeros with other data types:"
   ]
  },
  {
   "cell_type": "code",
   "execution_count": 25,
   "metadata": {},
   "outputs": [
    {
     "name": "stdout",
     "output_type": "stream",
     "text": [
      "int32\n",
      "uint8\n",
      "int64\n"
     ]
    }
   ],
   "source": [
    "x = np.zeros(m, np.int32)\n",
    "print(x.dtype)\n",
    "x = np.zeros(m, np.uint8)\n",
    "print(x.dtype)\n",
    "x = np.zeros(m, np.int64)\n",
    "print(x.dtype)"
   ]
  },
  {
   "cell_type": "markdown",
   "metadata": {},
   "source": [
    "Below are some other ways to create arrays. Each of these functions can take the dtype argument specifying any dtype, but we use the default float64 here:"
   ]
  },
  {
   "cell_type": "code",
   "execution_count": 26,
   "metadata": {},
   "outputs": [
    {
     "name": "stdout",
     "output_type": "stream",
     "text": [
      "[1. 1. 1. 1. 1. 1. 1. 1. 1. 1.] float64\n",
      "[0 1 2 3 4 5 6 7 8 9] int32\n"
     ]
    }
   ],
   "source": [
    "x = np.ones(m)   # Sets all values to 1\n",
    "print(x, x.dtype)\n",
    "x = np.arange(m) # 0, 1, 2, ..., m-1\n",
    "print(x, x.dtype)"
   ]
  },
  {
   "cell_type": "markdown",
   "metadata": {},
   "source": [
    "Unlike Python lists, Numpy arrays behave like mathematical vectors and matrices with respect to arithmetic operations, e.g. you can do something like this:"
   ]
  },
  {
   "cell_type": "code",
   "execution_count": 27,
   "metadata": {},
   "outputs": [
    {
     "name": "stdout",
     "output_type": "stream",
     "text": [
      "[0 1 2 3 4]\n",
      "[1 2 3 4 5]\n"
     ]
    },
    {
     "data": {
      "text/plain": [
       "array([ 0,  2,  6, 12, 20])"
      ]
     },
     "execution_count": 27,
     "metadata": {},
     "output_type": "execute_result"
    }
   ],
   "source": [
    "x = np.arange(5)\n",
    "print(x)\n",
    "y = np.arange(1, 6)\n",
    "print(y)\n",
    "\n",
    "x + y  # Pointwise sum\n",
    "x - y  # Pointwise difference\n",
    "x / y  # Pointwise quotient\n",
    "x ** y # Pointwise exponentiation\n",
    "x % y  # Pointwise remainder\n",
    "x * y  # Pointwise product"
   ]
  },
  {
   "cell_type": "markdown",
   "metadata": {},
   "source": [
    "There is a lot more going on here... each of these operators has to be implemented separately for each dtype, i.e. + for int64 is a different function than + for float32. If you pass in mixed dtypes, i.e. multiplying an int64 by a float32, there will be a type promotion, which in this case means that the int64 array will be converted into a float32 array before the addition function is called. These hidden type promotions can degrade performance so sometimes it is better to convert your data to a common dtype before an intensive calculation begins. Conversions can be done with the astype method:"
   ]
  },
  {
   "cell_type": "code",
   "execution_count": 27,
   "metadata": {},
   "outputs": [
    {
     "data": {
      "text/plain": [
       "(array([0., 1., 2., 3., 4.]),\n",
       " array([0, 1, 2, 3, 4], dtype=int32),\n",
       " array([0., 1., 2., 3., 4.], dtype=float32))"
      ]
     },
     "execution_count": 27,
     "metadata": {},
     "output_type": "execute_result"
    }
   ],
   "source": [
    "x = np.arange(5, dtype=np.float64)\n",
    "y = x.astype(np.int32)\n",
    "z = x.astype(np.float32)\n",
    "#change types to be compatible before operations, and this makes it more efficinet.\n",
    "x,y,z"
   ]
  },
  {
   "cell_type": "markdown",
   "metadata": {},
   "source": [
    "Another place where type promotion occurs is in performing division. Division will produce a float64 result unless both inputs are of type float32."
   ]
  },
  {
   "cell_type": "markdown",
   "metadata": {},
   "source": [
    "Indexing and slicing numpy arrays behaves similarly to indexing and slicing Python lists. Note the difference to lists - slices will normally return a “view” of the underlying data, meaning that if you change a slice, the same values will change in the parent array:"
   ]
  },
  {
   "cell_type": "code",
   "execution_count": 28,
   "metadata": {},
   "outputs": [
    {
     "name": "stdout",
     "output_type": "stream",
     "text": [
      "[0, 1, 2, 3, 4, 5, 6, 7, 8, 9] [99, 4, 5]\n"
     ]
    }
   ],
   "source": [
    "x = list(range(10))\n",
    "#slicing in core python creates a new memory for a list.\n",
    "y = x[3:6]\n",
    "y[0] = 99\n",
    "print(x,y)"
   ]
  },
  {
   "cell_type": "code",
   "execution_count": 29,
   "metadata": {},
   "outputs": [
    {
     "name": "stdout",
     "output_type": "stream",
     "text": [
      "[ 0  1  2 99  4  5  6  7  8  9] [99  4  5]\n"
     ]
    }
   ],
   "source": [
    "x = np.arange(10)\n",
    "y = x[3:6]\n",
    "#slicing in numpy creates a new pointer for the same memory.\n",
    "y[0] = 99\n",
    "print(x,y)"
   ]
  },
  {
   "cell_type": "markdown",
   "metadata": {},
   "source": [
    "Note that views can result even for certain types of discontinuous slices. See the following example:"
   ]
  },
  {
   "cell_type": "code",
   "execution_count": 28,
   "metadata": {},
   "outputs": [
    {
     "name": "stdout",
     "output_type": "stream",
     "text": [
      "[ 0  1  2  3  4  5  6  7 99  9 10 11 12 13 14 15 16 17 18 19] [ 0  2  4  6 99 10 12 14 16 18]\n"
     ]
    }
   ],
   "source": [
    "x = np.arange(20)\n",
    "y = x[::2]\n",
    "#x[::2]means all the even indexed elements\n",
    "y[4] = 99\n",
    "print(x,y)"
   ]
  },
  {
   "cell_type": "markdown",
   "metadata": {},
   "source": [
    "Numpy uses a very general approach for indexing from the array to its low-level memory block. As a result, for many operations we do not need to copy the underlying data. For example, we may have a very large array x, and if we create a new variable y = x.T holding the transpose of x, then y and x share the same storage. In addition to the example above, see the following example:"
   ]
  },
  {
   "cell_type": "code",
   "execution_count": 29,
   "metadata": {},
   "outputs": [
    {
     "name": "stdout",
     "output_type": "stream",
     "text": [
      "This is x:\n",
      " [[ 0.15971286 -0.43476738]\n",
      " [-1.43458464 -1.33690231]\n",
      " [-0.31839109  0.58305919]] \n",
      "\n",
      "This is y:\n",
      " [[ 0.15971286 -1.43458464 -0.31839109]\n",
      " [-0.43476738 -1.33690231  0.58305919]] \n",
      "\n",
      "2431678792448\n",
      "2431678774368\n",
      "True\n",
      "False\n"
     ]
    }
   ],
   "source": [
    "x = np.random.normal(size=(3, 2))\n",
    "y = x.T\n",
    "\n",
    "print('This is x:\\n', x, '\\n')\n",
    "print('This is y:\\n', y, '\\n')\n",
    "\n",
    "print(id(x))\n",
    "print(id(y))\n",
    "print(x.flags.owndata)\n",
    "print(y.flags.owndata)"
   ]
  },
  {
   "cell_type": "markdown",
   "metadata": {},
   "source": [
    "The Python data analysis tools (core Python, Numpy, Pandas, and others) lack a high performance and universal way to represent missing values. The current work-around is to use NaN and None to represent missing values, but this approach has limitations. One issue is that by definition, NaN is the only value that is not equal to itself:"
   ]
  },
  {
   "cell_type": "code",
   "execution_count": 32,
   "metadata": {},
   "outputs": [
    {
     "name": "stdout",
     "output_type": "stream",
     "text": [
      "False\n"
     ]
    }
   ],
   "source": [
    "x = float('nan')\n",
    "print(x == x)"
   ]
  },
  {
   "cell_type": "markdown",
   "metadata": {},
   "source": [
    "This means, for example, that you cannot count the NaN values in an array in the obvious way:"
   ]
  },
  {
   "cell_type": "code",
   "execution_count": 33,
   "metadata": {},
   "outputs": [
    {
     "name": "stdout",
     "output_type": "stream",
     "text": [
      "0\n"
     ]
    }
   ],
   "source": [
    "x = np.array([1, np.nan, 2, np.nan])\n",
    "print((x == np.nan).sum())\n",
    "#NaN is not equal to itself."
   ]
  },
  {
   "cell_type": "markdown",
   "metadata": {},
   "source": [
    "The proper way to detect NaN values is with the np.isnan function:"
   ]
  },
  {
   "cell_type": "code",
   "execution_count": 34,
   "metadata": {},
   "outputs": [
    {
     "name": "stdout",
     "output_type": "stream",
     "text": [
      "2\n"
     ]
    }
   ],
   "source": [
    "print(np.isnan(x).sum())"
   ]
  },
  {
   "cell_type": "markdown",
   "metadata": {},
   "source": [
    "Another issue is that NaN exists for float type variables (float32 and float64 in Numpy) but not for other variable types, e.g. integers. Therefore, when you insert a missing value into a Numpy integer array, it will be promoted to float type."
   ]
  },
  {
   "cell_type": "markdown",
   "metadata": {},
   "source": [
    "Numpy provides two main ways to work with string data. The first approach, which is much more common, uses the Python string pool to manage the strings, and simply places the object id’s into the ndarray. This produces an array of type Object, e.g."
   ]
  },
  {
   "cell_type": "code",
   "execution_count": 32,
   "metadata": {},
   "outputs": [
    {
     "data": {
      "text/plain": [
       "dtype('O')"
      ]
     },
     "execution_count": 32,
     "metadata": {},
     "output_type": "execute_result"
    }
   ],
   "source": [
    "x = np.array([\"cat\", \"dog\", \"fish\"], dtype = 'O')\n",
    "x.dtype"
   ]
  },
  {
   "cell_type": "markdown",
   "metadata": {},
   "source": [
    "You can see that this array only contains object id’s by running the following:"
   ]
  },
  {
   "cell_type": "code",
   "execution_count": 33,
   "metadata": {},
   "outputs": [
    {
     "name": "stdout",
     "output_type": "stream",
     "text": [
      "2431628516184 2431628516184\n"
     ]
    },
    {
     "data": {
      "text/plain": [
       "array(['fish', 'dog', 'fish'], dtype=object)"
      ]
     },
     "execution_count": 33,
     "metadata": {},
     "output_type": "execute_result"
    }
   ],
   "source": [
    "s = \"fish\"\n",
    "x[0] = s\n",
    "print(id(s), id(x[0]))\n",
    "x\n",
    "# s and x[0] are pointers to the actual strings."
   ]
  },
  {
   "cell_type": "markdown",
   "metadata": {},
   "source": [
    "Note that this array can actually hold references to any Python object, not just strings:"
   ]
  },
  {
   "cell_type": "code",
   "execution_count": 34,
   "metadata": {},
   "outputs": [
    {
     "data": {
      "text/plain": [
       "array([{0: 0, 1: 1, 2: 2, 3: 3, 4: 4, 5: 5, 6: 6, 7: 7, 8: 8, 9: 9},\n",
       "       'dog', 'fish'], dtype=object)"
      ]
     },
     "execution_count": 34,
     "metadata": {},
     "output_type": "execute_result"
    }
   ],
   "source": [
    "x[0] = {i : i for i in range(10)}\n",
    "x"
   ]
  },
  {
   "cell_type": "markdown",
   "metadata": {},
   "source": [
    "The other way to store strings in a ndarray is to use a fixed string width, in which case the string data is actually packed into the array directly:"
   ]
  },
  {
   "cell_type": "code",
   "execution_count": 150,
   "metadata": {},
   "outputs": [
    {
     "name": "stdout",
     "output_type": "stream",
     "text": [
      "['cat' 'dog']\n"
     ]
    },
    {
     "data": {
      "text/plain": [
       "dtype('<U3')"
      ]
     },
     "execution_count": 150,
     "metadata": {},
     "output_type": "execute_result"
    }
   ],
   "source": [
    "x = np.array([\"cat\", \"dog\"], dtype='U3')\n",
    "print(x)\n",
    "x.dtype"
   ]
  },
  {
   "cell_type": "markdown",
   "metadata": {},
   "source": [
    "The dtype “<U3” refers to a Unicode string of 3 characters. Note that in this setting, if you attempt to assign a string that does not fit into the allotted storage, the string is truncated:"
   ]
  },
  {
   "cell_type": "code",
   "execution_count": 149,
   "metadata": {},
   "outputs": [
    {
     "name": "stdout",
     "output_type": "stream",
     "text": [
      "['fis' 'dog']\n"
     ]
    }
   ],
   "source": [
    "x[0] = \"fish\"\n",
    "print(x)"
   ]
  },
  {
   "cell_type": "markdown",
   "metadata": {},
   "source": [
    "## Arithmetic operations"
   ]
  },
  {
   "cell_type": "markdown",
   "metadata": {},
   "source": [
    "As seen in the last lecture, Numpy arrays behave like mathematical vectors and matrices with respect to arithmetic operations. Lets see an example with a two dimensional Numpy array:"
   ]
  },
  {
   "cell_type": "code",
   "execution_count": 88,
   "metadata": {},
   "outputs": [
    {
     "data": {
      "text/plain": [
       "(array([[1., 1., 1., 1.],\n",
       "        [1., 1., 1., 1.],\n",
       "        [1., 1., 1., 1.]]), dtype('float64'))"
      ]
     },
     "execution_count": 88,
     "metadata": {},
     "output_type": "execute_result"
    }
   ],
   "source": [
    "import numpy as np\n",
    "\n",
    "x = np.ones((3,4)) # Creates a two dimensional numpy array.\n",
    "x, x.dtype"
   ]
  },
  {
   "cell_type": "code",
   "execution_count": 4,
   "metadata": {},
   "outputs": [
    {
     "name": "stdout",
     "output_type": "stream",
     "text": [
      "2\n",
      "(3, 4)\n",
      "12\n"
     ]
    }
   ],
   "source": [
    "print(x.ndim)  # Returns number of dimensions in an array.\n",
    "print(x.shape) # Return tuple desribing array shape.\n",
    "print(x.size)  # Returns number of elements."
   ]
  },
  {
   "cell_type": "code",
   "execution_count": 5,
   "metadata": {},
   "outputs": [],
   "source": [
    "y = np.array([[1, 2], [3, 4]])\n",
    "z = np.array([[5, 6], [7, 8]])"
   ]
  },
  {
   "cell_type": "code",
   "execution_count": 6,
   "metadata": {},
   "outputs": [
    {
     "name": "stdout",
     "output_type": "stream",
     "text": [
      "[[1 2]\n",
      " [3 4]]\n",
      "[[5 6]\n",
      " [7 8]]\n"
     ]
    }
   ],
   "source": [
    "print(y)\n",
    "print(z)"
   ]
  },
  {
   "cell_type": "code",
   "execution_count": 7,
   "metadata": {},
   "outputs": [
    {
     "data": {
      "text/plain": [
       "array([[ 6,  8],\n",
       "       [10, 12]])"
      ]
     },
     "execution_count": 7,
     "metadata": {},
     "output_type": "execute_result"
    }
   ],
   "source": [
    "y + z # Summs element wise."
   ]
  },
  {
   "cell_type": "code",
   "execution_count": 8,
   "metadata": {},
   "outputs": [
    {
     "data": {
      "text/plain": [
       "array([[0.2 , 0.33],\n",
       "       [0.43, 0.5 ]])"
      ]
     },
     "execution_count": 8,
     "metadata": {},
     "output_type": "execute_result"
    }
   ],
   "source": [
    "np.round(y / z, 2) # Divides element wise."
   ]
  },
  {
   "cell_type": "code",
   "execution_count": 9,
   "metadata": {},
   "outputs": [
    {
     "data": {
      "text/plain": [
       "array([[1, 2],\n",
       "       [3, 4],\n",
       "       [5, 6]])"
      ]
     },
     "execution_count": 9,
     "metadata": {},
     "output_type": "execute_result"
    }
   ],
   "source": [
    "w = np.array([[1, 2], [3, 4], [5, 6]]) # Lets create a new Numpy array 3x2.\n",
    "w"
   ]
  },
  {
   "cell_type": "code",
   "execution_count": 10,
   "metadata": {},
   "outputs": [
    {
     "ename": "ValueError",
     "evalue": "operands could not be broadcast together with shapes (3,2) (2,2) ",
     "output_type": "error",
     "traceback": [
      "\u001b[1;31m---------------------------------------------------------------------------\u001b[0m",
      "\u001b[1;31mValueError\u001b[0m                                Traceback (most recent call last)",
      "\u001b[1;32m<ipython-input-10-ea801934cab0>\u001b[0m in \u001b[0;36m<module>\u001b[1;34m()\u001b[0m\n\u001b[1;32m----> 1\u001b[1;33m \u001b[0mw\u001b[0m \u001b[1;33m+\u001b[0m \u001b[0mz\u001b[0m \u001b[1;31m# Notice the error message below. We'll get to it later in this lecture.\u001b[0m\u001b[1;33m\u001b[0m\u001b[0m\n\u001b[0m",
      "\u001b[1;31mValueError\u001b[0m: operands could not be broadcast together with shapes (3,2) (2,2) "
     ]
    }
   ],
   "source": [
    "w + z # Notice the error message below. We'll get to it later in this lecture."
   ]
  },
  {
   "cell_type": "markdown",
   "metadata": {},
   "source": [
    "An easy way to avoid making copies when performing array arithmetic in Numpy is to use the in-place arithmetic operators +=, *=, etc. When we use x = x + y, a new allocation is made to hold the value x + y, and this allocated memory is then assigned to x, with the previous memory block of x (eventually) being garbage collected. But x += y does not result in a new allocation, as seen below:"
   ]
  },
  {
   "cell_type": "code",
   "execution_count": null,
   "metadata": {},
   "outputs": [],
   "source": [
    "y = np.array([[1, 2], [3, 4]])\n",
    "z = np.array([[5, 6], [7, 8]])\n",
    "\n",
    "print(id(y))\n",
    "y = y + z   # Regular sum.\n",
    "print(id(y))\n",
    "print(y)"
   ]
  },
  {
   "cell_type": "code",
   "execution_count": null,
   "metadata": {},
   "outputs": [],
   "source": [
    "y = np.array([[1, 2], [3, 4]])\n",
    "z = np.array([[5, 6], [7, 8]])\n",
    "\n",
    "print(id(y))\n",
    "y += z        # In-place sum.\n",
    "print(id(y))\n",
    "print(y)"
   ]
  },
  {
   "cell_type": "markdown",
   "metadata": {},
   "source": [
    "## Indexing and Slicing"
   ]
  },
  {
   "cell_type": "code",
   "execution_count": null,
   "metadata": {},
   "outputs": [],
   "source": [
    "x = np.array([[1, 2], [3, 4]])\n",
    "x"
   ]
  },
  {
   "cell_type": "code",
   "execution_count": null,
   "metadata": {},
   "outputs": [],
   "source": [
    "print(x[0]) # Returns the first line. # this only extracts the first row, and its dimension is 1\n",
    "print(x[1:]) # Returns a similar structure to x with the second line. # slicing returns the same structure and dimensions.\n",
    "print(x[0][1]) # Returns the second element of the first line.\n",
    "print(x[0,1]) # A more concise way of writing the above lookup."
   ]
  },
  {
   "cell_type": "markdown",
   "metadata": {},
   "source": [
    "Remember that slices will normally return a “view” of the underlying data, meaning that if you change a slice, the same values will change in the parent array:"
   ]
  },
  {
   "cell_type": "code",
   "execution_count": null,
   "metadata": {},
   "outputs": [],
   "source": [
    "x = np.array([[1, 2, 3], [4, 5, 6]])\n",
    "y = x[:,0] # retrieves the first column.\n",
    "y[1]=100 # modifies its element.\n",
    "x\n",
    "#np.array slicing is different from list slicing. List slicing returns an independent object, \n",
    "#but array slicing shares the memory with the original object."
   ]
  },
  {
   "cell_type": "markdown",
   "metadata": {},
   "source": [
    "Now suppose you want to retrieve elements from the first and the third columns of x:"
   ]
  },
  {
   "cell_type": "code",
   "execution_count": null,
   "metadata": {},
   "outputs": [],
   "source": [
    "x = np.array([[1, 2, 3], [4, 5, 6]])\n",
    "y = x[:,[0,2]] # We use a list to index - this is also called advanced or fancy indexing.\n",
    "y[1]=100\n",
    "x\n",
    "# if you use fancy indexing, then an independent memory object will be created. "
   ]
  },
  {
   "cell_type": "markdown",
   "metadata": {},
   "source": [
    "When you use advanced indexing, no view is provided and a copy of the original object will be made."
   ]
  },
  {
   "cell_type": "code",
   "execution_count": 15,
   "metadata": {},
   "outputs": [
    {
     "data": {
      "text/plain": [
       "[1, 2]"
      ]
     },
     "execution_count": 15,
     "metadata": {},
     "output_type": "execute_result"
    }
   ],
   "source": [
    "x = np.array([[1,2], [3,4], [5,6]])\n",
    "y = x[[-1,-2],:] # Another example of advanced indexing with negative indices.\n",
    "y"
   ]
  },
  {
   "cell_type": "code",
   "execution_count": 12,
   "metadata": {},
   "outputs": [
    {
     "name": "stdout",
     "output_type": "stream",
     "text": [
      "[[ 1 -2]\n",
      " [ 3  4]\n",
      " [-5  6]]\n",
      "[[False  True]\n",
      " [False False]\n",
      " [ True False]]\n"
     ]
    }
   ],
   "source": [
    "x = np.array([[1,-2], [3,4], [-5,6]])\n",
    "print(x)\n",
    "print(x<0) # x <0 is a boolean array."
   ]
  },
  {
   "cell_type": "code",
   "execution_count": 13,
   "metadata": {},
   "outputs": [
    {
     "data": {
      "text/plain": [
       "array([-2, -5])"
      ]
     },
     "execution_count": 13,
     "metadata": {},
     "output_type": "execute_result"
    }
   ],
   "source": [
    "x[x<0]=0 # This is called boolean indexing. Here I am setting negative entries to zero.\n",
    "x"
   ]
  },
  {
   "cell_type": "markdown",
   "metadata": {},
   "source": [
    "\n",
    "## Linear Algebra"
   ]
  },
  {
   "cell_type": "markdown",
   "metadata": {},
   "source": [
    "Numpy supports a wide range of matrix and linear algebra operations. For example, you can use:\n",
    "\n",
    "1. 'np.linalg.solve' to solve a linear system of equations\n",
    "2. 'np.linalg.svd' for the singular value decomposition\n",
    "3. 'np.linalg.cholesky' for the cholesky decomposition \n",
    "4. 'np.linalg.inv' for matrix inversion\n",
    "5. 'np.linalg.solve' for getting the exact solutions for a system of equations\n",
    "6. 'np.linalg.lstsq' for getting the least square solutions for a system of equations\n",
    "\n",
    "We will not attempt to describe all of them here. Just a couple of quick examples:"
   ]
  },
  {
   "cell_type": "code",
   "execution_count": 18,
   "metadata": {},
   "outputs": [
    {
     "name": "stdout",
     "output_type": "stream",
     "text": [
      "Inner Product: \n",
      " 5\n",
      "Outer Product: \n",
      " [[1 2]\n",
      " [2 4]]\n"
     ]
    }
   ],
   "source": [
    "u = np.array([1,2])\n",
    "v = np.array([1,2])\n",
    "\n",
    "a = np.dot(u, v)   # inner product or matrix multiplication\n",
    "b = np.outer(u, v) # outer product.\n",
    "print('Inner Product: \\n', a)\n",
    "print('Outer Product: \\n', b)"
   ]
  },
  {
   "cell_type": "code",
   "execution_count": 19,
   "metadata": {},
   "outputs": [
    {
     "name": "stdout",
     "output_type": "stream",
     "text": [
      "Eigen Values: \n",
      " [6. 0.]\n",
      "Eigen Vectors: \n",
      " [[ 1.  -0.8]\n",
      " [ 0.   0.6]]\n"
     ]
    }
   ],
   "source": [
    "A = np.random.randint(0,10,(2,2))\n",
    "A\n",
    "[L,V] = np.linalg.eig(A)\n",
    "print('Eigen Values: \\n', L)\n",
    "print('Eigen Vectors: \\n', V)\n",
    "#the matrix is by rows.\n",
    "# the two eigen vectors are the two rows in the 2-d array."
   ]
  },
  {
   "cell_type": "markdown",
   "metadata": {},
   "source": [
    "## Vectorization"
   ]
  },
  {
   "cell_type": "markdown",
   "metadata": {},
   "source": [
    "Vectorization within NumPy is used to express operations as occurring on entire arrays rather than their individual elements. Here’s a definition from Wes McKinney:\n",
    "\n",
    "\"\n",
    "This practice of replacing explicit loops with array expressions is commonly referred to as vectorization. In general, vectorized array operations will often be one or two (or more) orders of magnitude faster than their pure Python equivalents, with the biggest impact seen in any kind of numerical computations. (see [here](https://www.safaribooksonline.com/library/view/python-for-data/9781449323592/ch04.html?orpq))\n",
    "\"\n",
    "\n",
    "Lets see an example:"
   ]
  },
  {
   "cell_type": "code",
   "execution_count": 188,
   "metadata": {},
   "outputs": [],
   "source": [
    "np.random.seed(52452)\n",
    "values = np.random.choice([True,False], size=500)"
   ]
  },
  {
   "cell_type": "code",
   "execution_count": 189,
   "metadata": {},
   "outputs": [],
   "source": [
    "def count_transitions1(values):\n",
    "    \"\"\"Returns the number of transitions from either False to True or from True to False\"\"\"\n",
    "    output = 0\n",
    "    # to loop through more than one sequnce, I use zip to put two arrays together\n",
    "    for x,y in zip(values[:-1],values[1:]):\n",
    "        if x!=y:\n",
    "            output+=1\n",
    "    return output"
   ]
  },
  {
   "cell_type": "code",
   "execution_count": 190,
   "metadata": {},
   "outputs": [],
   "source": [
    "def count_transitions2(values):\n",
    "    \"\"\"Returns the number of transitions from either False to True or from True to False\"\"\"\n",
    "    output = np.sum(values[:-1]!=values[1:])\n",
    "    return output"
   ]
  },
  {
   "cell_type": "code",
   "execution_count": 191,
   "metadata": {},
   "outputs": [
    {
     "name": "stdout",
     "output_type": "stream",
     "text": [
      "245\n",
      "245\n"
     ]
    }
   ],
   "source": [
    "print(count_transitions1(values))\n",
    "print(count_transitions2(values))"
   ]
  },
  {
   "cell_type": "code",
   "execution_count": 192,
   "metadata": {},
   "outputs": [
    {
     "name": "stdout",
     "output_type": "stream",
     "text": [
      "495 µs ± 22 µs per loop (mean ± std. dev. of 7 runs, 1000 loops each)\n",
      "3.88 µs ± 182 ns per loop (mean ± std. dev. of 7 runs, 1000 loops each)\n"
     ]
    }
   ],
   "source": [
    "%timeit -n 1000 count_transitions1(values)\n",
    "%timeit -n 1000 count_transitions2(values)"
   ]
  },
  {
   "cell_type": "markdown",
   "metadata": {},
   "source": [
    "## Reducing functions"
   ]
  },
  {
   "cell_type": "markdown",
   "metadata": {},
   "source": [
    "Numpy has reducing functions that collapse a multidimensional array to one single axis. The axes are numbered 0 (rows), 1 (columns), etc. For example:"
   ]
  },
  {
   "cell_type": "code",
   "execution_count": 196,
   "metadata": {},
   "outputs": [
    {
     "data": {
      "text/plain": [
       "array([[-0.78123224,  0.77682032,  0.63369182, -1.53993691, -0.20792374,\n",
       "        -1.08904293,  1.79800305, -2.01340275,  0.02558545, -0.72738964],\n",
       "       [-0.34794223, -0.79806307, -0.90678211, -1.05429223, -0.54624062,\n",
       "        -0.35779351, -0.33593238, -0.51285328,  0.4023334 ,  0.76043202],\n",
       "       [-1.14747964, -1.32380239, -0.73932437, -0.45555228, -1.77574302,\n",
       "        -0.68495813,  0.2711496 ,  1.3484854 ,  0.11496398, -0.58343985],\n",
       "       [ 0.22573678, -0.93900494, -0.04295383, -2.43586682,  0.29301177,\n",
       "        -0.30513033, -0.73816706,  2.36734933,  0.20367889,  0.65738482],\n",
       "       [-0.05439771,  0.8440284 ,  0.14541008, -0.45797527, -0.6719289 ,\n",
       "        -0.47676485, -1.50909447,  0.02340448,  1.24607509,  1.03106125]])"
      ]
     },
     "execution_count": 196,
     "metadata": {},
     "output_type": "execute_result"
    }
   ],
   "source": [
    "x = np.random.normal(size=(5,10))\n",
    "x"
   ]
  },
  {
   "cell_type": "code",
   "execution_count": 201,
   "metadata": {},
   "outputs": [
    {
     "name": "stdout",
     "output_type": "stream",
     "text": [
      "[-0.42106301 -0.28800434 -0.18199168 -1.1887247  -0.5817649  -0.58273795\n",
      " -0.10280825  0.24259664  0.39852737  0.22760972]\n"
     ]
    }
   ],
   "source": [
    "print(x.mean(axis=0)) # column-wise means, size=10."
   ]
  },
  {
   "cell_type": "code",
   "execution_count": 202,
   "metadata": {},
   "outputs": [
    {
     "name": "stdout",
     "output_type": "stream",
     "text": [
      "[-0.31248276 -0.3697134  -0.49757007 -0.07139614  0.01198181]\n"
     ]
    }
   ],
   "source": [
    "print(x.mean(axis=1)) # row-wise means, size=5."
   ]
  },
  {
   "cell_type": "markdown",
   "metadata": {},
   "source": [
    "## Broadcasting"
   ]
  },
  {
   "cell_type": "markdown",
   "metadata": {},
   "source": [
    "The term broadcasting describes how numpy treats arrays with different shapes during arithmetic operations. Subject to certain constraints, the smaller array is “broadcast” across the larger array so that they have compatible shapes. Broadcasting provides a means of vectorizing array operations so that looping occurs in C instead of Python."
   ]
  },
  {
   "cell_type": "markdown",
   "metadata": {},
   "source": [
    "One use of broadcasting is if we want to center or scale an array by column:"
   ]
  },
  {
   "cell_type": "code",
   "execution_count": 39,
   "metadata": {},
   "outputs": [
    {
     "name": "stdout",
     "output_type": "stream",
     "text": [
      "2159153825312\n",
      "[0.50196951 0.50373012 0.49870297 0.49596574]\n",
      "[0.28617644 0.28823266 0.2895602  0.28989964]\n",
      "(10000, 4)\n",
      "(4,)\n",
      "[-4.75308681e-16 -3.66739417e-15  1.75690573e-15 -3.78919118e-16]\n",
      "[1. 1. 1. 1.]\n",
      "2159153825312\n"
     ]
    }
   ],
   "source": [
    "x = np.random.random(size=(10000, 4))\n",
    "print(id(x))\n",
    "\n",
    "print(x.mean(0))\n",
    "print(x.std(0))\n",
    "\n",
    "print(x.shape)\n",
    "print(x.mean(0).shape)\n",
    "\n",
    "x -= x.mean(0)\n",
    "x /= x.std(0)\n",
    "\n",
    "print(x.mean(0))\n",
    "print(x.std(0))\n",
    "\n",
    "print(id(x))"
   ]
  },
  {
   "cell_type": "markdown",
   "metadata": {},
   "source": [
    "In the example above, x.mean(0) returns an array with dimension (4,), which matches from the right with the dimension of x, which is (10000,4). Therefore the shapes are compatible for broadcasting. The behavior in this case is that the result of x.mean(0) is only computed one time, and the same result is used for centering each row of x."
   ]
  },
  {
   "cell_type": "markdown",
   "metadata": {},
   "source": [
    "There is a special case of the broadcasting rules that applies when a dimension’s length is equal to 1. In this case, the value in that dimension is copied to match the dimension on the same axis in the other array:"
   ]
  },
  {
   "cell_type": "code",
   "execution_count": 40,
   "metadata": {},
   "outputs": [
    {
     "data": {
      "text/plain": [
       "array([2., 3., 4.])"
      ]
     },
     "execution_count": 40,
     "metadata": {},
     "output_type": "execute_result"
    }
   ],
   "source": [
    "a = np.array([10.0, 15.0, 20.0])\n",
    "b = np.array([5.0, 5.0, 5.0])\n",
    "a / b"
   ]
  },
  {
   "cell_type": "code",
   "execution_count": 41,
   "metadata": {},
   "outputs": [
    {
     "name": "stdout",
     "output_type": "stream",
     "text": [
      "(3,)\n",
      "(1,)\n"
     ]
    },
    {
     "data": {
      "text/plain": [
       "array([2., 3., 4.])"
      ]
     },
     "execution_count": 41,
     "metadata": {},
     "output_type": "execute_result"
    }
   ],
   "source": [
    "a = np.array([10.0, 15.0, 20.0])\n",
    "print(a.shape)\n",
    "b = np.array([5.0])\n",
    "print(b.shape)\n",
    "a / b"
   ]
  },
  {
   "cell_type": "code",
   "execution_count": 42,
   "metadata": {},
   "outputs": [
    {
     "name": "stdout",
     "output_type": "stream",
     "text": [
      "[[-0.09081042 -1.38249452]\n",
      " [ 0.12437537  0.1764374 ]\n",
      " [-3.10067992  1.04663713]\n",
      " [ 0.34642815  0.29682263]\n",
      " [ 1.43060946 -1.16568979]\n",
      " [-0.12527773 -0.31937966]\n",
      " [ 0.54686872 -0.70074562]\n",
      " [ 0.30170236  0.4162724 ]\n",
      " [-2.20153494  0.10991214]\n",
      " [-0.67763269  0.17865969]]\n"
     ]
    }
   ],
   "source": [
    "x = np.random.normal(size=(10, 2))\n",
    "y = np.random.normal(size=(10, 1))\n",
    "print(x + y)"
   ]
  },
  {
   "cell_type": "markdown",
   "metadata": {},
   "source": [
    "There is a special syntax for adding a new axis of length 1 to an array:"
   ]
  },
  {
   "cell_type": "code",
   "execution_count": 43,
   "metadata": {},
   "outputs": [],
   "source": [
    "x = np.zeros(10)  # shape is (10,).\n",
    "y = x[:, None]    # shape is (10,1).\n",
    "z = x[None, :]    # shape is (1,10)."
   ]
  },
  {
   "cell_type": "markdown",
   "metadata": {},
   "source": [
    "A common setting where this is useful is when you want to center or scale a two-dimensional array by row. Adding a new column with dimension 1 allows the broadcasting rules to apply when they otherwise would not:"
   ]
  },
  {
   "cell_type": "code",
   "execution_count": 44,
   "metadata": {},
   "outputs": [],
   "source": [
    "x = np.random.normal(size=(10, 3))\n",
    "x -= x.mean(1)[:, None]\n",
    "x /= x.std(1)[:, None]"
   ]
  },
  {
   "cell_type": "markdown",
   "metadata": {},
   "source": [
    "See the intermediate values below:"
   ]
  },
  {
   "cell_type": "code",
   "execution_count": 45,
   "metadata": {},
   "outputs": [
    {
     "data": {
      "text/plain": [
       "(array([ 7.40148683e-17, -1.48029737e-16,  0.00000000e+00, -3.70074342e-17,\n",
       "        -1.85037171e-17,  1.85037171e-17,  0.00000000e+00, -4.07081776e-16,\n",
       "        -9.71445147e-17,  1.48029737e-16]), (10,))"
      ]
     },
     "execution_count": 45,
     "metadata": {},
     "output_type": "execute_result"
    }
   ],
   "source": [
    "x.mean(1), x.mean(1).shape"
   ]
  },
  {
   "cell_type": "code",
   "execution_count": 46,
   "metadata": {},
   "outputs": [
    {
     "data": {
      "text/plain": [
       "(array([[ 7.40148683e-17],\n",
       "        [-1.48029737e-16],\n",
       "        [ 0.00000000e+00],\n",
       "        [-3.70074342e-17],\n",
       "        [-1.85037171e-17],\n",
       "        [ 1.85037171e-17],\n",
       "        [ 0.00000000e+00],\n",
       "        [-4.07081776e-16],\n",
       "        [-9.71445147e-17],\n",
       "        [ 1.48029737e-16]]), (10, 1))"
      ]
     },
     "execution_count": 46,
     "metadata": {},
     "output_type": "execute_result"
    }
   ],
   "source": [
    "x.mean(1)[:, None], x.mean(1)[:, None].shape"
   ]
  },
  {
   "cell_type": "code",
   "execution_count": 215,
   "metadata": {},
   "outputs": [
    {
     "name": "stdout",
     "output_type": "stream",
     "text": [
      "a:  [[0 1 2]\n",
      " [3 4 5]\n",
      " [6 7 8]] \n",
      " b:  [100 101 102]\n"
     ]
    },
    {
     "data": {
      "text/plain": [
       "array([[100, 102, 104],\n",
       "       [103, 105, 107],\n",
       "       [106, 108, 110]])"
      ]
     },
     "execution_count": 215,
     "metadata": {},
     "output_type": "execute_result"
    }
   ],
   "source": [
    "a=np.array(range(9))\n",
    "a=a.reshape(3,3)\n",
    "b=np.array(range(100, 103))\n",
    "print('a: ', a, '\\n', 'b: ', b)\n"
   ]
  },
  {
   "cell_type": "code",
   "execution_count": 218,
   "metadata": {},
   "outputs": [
    {
     "data": {
      "text/plain": [
       "array([[100, 102, 104],\n",
       "       [103, 105, 107],\n",
       "       [106, 108, 110]])"
      ]
     },
     "execution_count": 218,
     "metadata": {},
     "output_type": "execute_result"
    }
   ],
   "source": [
    "a+b # add by rows"
   ]
  },
  {
   "cell_type": "code",
   "execution_count": 220,
   "metadata": {},
   "outputs": [
    {
     "data": {
      "text/plain": [
       "array([[100, 101, 102],\n",
       "       [104, 105, 106],\n",
       "       [108, 109, 110]])"
      ]
     },
     "execution_count": 220,
     "metadata": {},
     "output_type": "execute_result"
    }
   ],
   "source": [
    "a+b[:,None] # add by columns"
   ]
  },
  {
   "cell_type": "markdown",
   "metadata": {},
   "source": [
    "## Structured Array\n",
    "\n",
    "Numpy has structured array containers to store heterogeneous data types and their names. The structured arrays are helpful for small sized data, but we will soon learn how pandas are much more powerful in dealing with structured data. However, structured numpy arrays give us good intuitions about how pandas function."
   ]
  },
  {
   "cell_type": "code",
   "execution_count": 75,
   "metadata": {},
   "outputs": [
    {
     "data": {
      "text/plain": [
       "dtype([('ID', '<U'), ('age', '<i4'), ('weight', '<f8')])"
      ]
     },
     "execution_count": 75,
     "metadata": {},
     "output_type": "execute_result"
    }
   ],
   "source": [
    "ID=['Alice', 'Bob', 'Cathy']\n",
    "age=[25,45,37]\n",
    "weight=[55.0, 85.5, 68.0]\n",
    "np.dtype({'names':('ID', 'age', 'weight'),'formats':('U', 'i4', 'f8')})\n"
   ]
  },
  {
   "cell_type": "code",
   "execution_count": 76,
   "metadata": {},
   "outputs": [],
   "source": [
    "data=np.zeros(3,dtype={'names':('ID', 'age', 'weight'),\n",
    "                      'formats':('U10', 'i4', 'f8')})\n",
    "# U10 is unicode string with length less than 10, i4 is int32, f8 is float64\n",
    "data['ID']=ID\n",
    "data['age']=age\n",
    "data['weight']=weight\n"
   ]
  },
  {
   "cell_type": "code",
   "execution_count": 87,
   "metadata": {},
   "outputs": [
    {
     "data": {
      "text/plain": [
       "[('Alice', 25, 55.), ('Bob', 45, 85.5), ('Cathy', 37, 68.)]"
      ]
     },
     "execution_count": 87,
     "metadata": {},
     "output_type": "execute_result"
    }
   ],
   "source": [
    "data[-1]['ID']\n",
    "data['ID']\n",
    "data['age']\n",
    "list(data)"
   ]
  },
  {
   "cell_type": "markdown",
   "metadata": {},
   "source": [
    "### Structured Array to Pandas DataFrame"
   ]
  },
  {
   "cell_type": "code",
   "execution_count": 89,
   "metadata": {},
   "outputs": [
    {
     "data": {
      "text/html": [
       "<div>\n",
       "<style scoped>\n",
       "    .dataframe tbody tr th:only-of-type {\n",
       "        vertical-align: middle;\n",
       "    }\n",
       "\n",
       "    .dataframe tbody tr th {\n",
       "        vertical-align: top;\n",
       "    }\n",
       "\n",
       "    .dataframe thead th {\n",
       "        text-align: right;\n",
       "    }\n",
       "</style>\n",
       "<table border=\"1\" class=\"dataframe\">\n",
       "  <thead>\n",
       "    <tr style=\"text-align: right;\">\n",
       "      <th></th>\n",
       "      <th>ID</th>\n",
       "      <th>age</th>\n",
       "      <th>weight</th>\n",
       "    </tr>\n",
       "  </thead>\n",
       "  <tbody>\n",
       "    <tr>\n",
       "      <th>0</th>\n",
       "      <td>Alice</td>\n",
       "      <td>25</td>\n",
       "      <td>55.0</td>\n",
       "    </tr>\n",
       "    <tr>\n",
       "      <th>1</th>\n",
       "      <td>Bob</td>\n",
       "      <td>45</td>\n",
       "      <td>85.5</td>\n",
       "    </tr>\n",
       "    <tr>\n",
       "      <th>2</th>\n",
       "      <td>Cathy</td>\n",
       "      <td>37</td>\n",
       "      <td>68.0</td>\n",
       "    </tr>\n",
       "  </tbody>\n",
       "</table>\n",
       "</div>"
      ],
      "text/plain": [
       "      ID  age  weight\n",
       "0  Alice   25    55.0\n",
       "1    Bob   45    85.5\n",
       "2  Cathy   37    68.0"
      ]
     },
     "execution_count": 89,
     "metadata": {},
     "output_type": "execute_result"
    }
   ],
   "source": [
    "import pandas as pd\n",
    "data_pd=pd.DataFrame(data)\n",
    "data_pd"
   ]
  },
  {
   "cell_type": "markdown",
   "metadata": {},
   "source": [
    "## One Last Example for Practicing What's Covered in This Session"
   ]
  },
  {
   "cell_type": "markdown",
   "metadata": {},
   "source": [
    "Let's simulate a data set with 4 covariates (including the intercept) and a response variable. The dimension of the data set is 100 by 5."
   ]
  },
  {
   "cell_type": "code",
   "execution_count": 122,
   "metadata": {},
   "outputs": [],
   "source": [
    "np.random.seed(15315)\n",
    "X=np.random.normal(size=(100,4))\n",
    "X[:,0]=1\n",
    "beta=[-2,3,5,-4]\n",
    "Y=X.dot(beta)+np.random.normal(size=len(X))\n",
    "data=np.column_stack([X,Y])\n",
    "np.savetxt('SimulatedData.txt', data)\n",
    "del X\n",
    "del Y\n",
    "del data"
   ]
  },
  {
   "cell_type": "markdown",
   "metadata": {},
   "source": [
    "Let's practice reading in the simulated data set file with a Python I/O stream."
   ]
  },
  {
   "cell_type": "raw",
   "metadata": {},
   "source": [
    "data=[]\n",
    "with open('SimulatedData.txt') as fin:\n",
    "    for line in fin:\n",
    "        values=[float(x) for x in line.split(' ')]\n",
    "        data.append(values)\n",
    "data=np.array(data)\n",
    "X=data[:, :4]\n",
    "Y=data[:,4]"
   ]
  },
  {
   "cell_type": "code",
   "execution_count": 227,
   "metadata": {},
   "outputs": [],
   "source": [
    "# Please type the code above for reading in the simulated data.\n",
    "# Please think about what each step is doing"
   ]
  },
  {
   "cell_type": "markdown",
   "metadata": {},
   "source": [
    "The simple OLS model assumes the linear function form: $Y=X \\beta+\\epsilon$.\n",
    "\n",
    "The OLS estimator of $\\beta$ has the formula: $\\hat{\\beta}=(X^T X)^{-1} X^T Y$."
   ]
  },
  {
   "cell_type": "raw",
   "metadata": {},
   "source": [
    "def OLS(X, Y):\n",
    "    '''\n",
    "    input: covariate matrix of X, including intercept\n",
    "           response variable, Y vector\n",
    "    output: OLS estimator of beta hat\n",
    "    '''\n",
    "    X_T_X=np.dot(X.transpose(), X)\n",
    "    X_T_X_inv=np.linalg.inv(X_T_X)\n",
    "    X_T_Y=np.dot(X.transpose(), Y)\n",
    "    beta_hat=X_T_X_inv.dot(X_T_Y)\n",
    "    return beta_hat"
   ]
  },
  {
   "cell_type": "code",
   "execution_count": 223,
   "metadata": {},
   "outputs": [],
   "source": [
    "# Please type the code above for computing the OLS estimator for beta.\n",
    "# Please think about what each step is doing"
   ]
  },
  {
   "cell_type": "code",
   "execution_count": 224,
   "metadata": {},
   "outputs": [
    {
     "name": "stdout",
     "output_type": "stream",
     "text": [
      "Help on function OLS in module __main__:\n",
      "\n",
      "OLS(X, Y)\n",
      "    input: covariate matrix of X, including intercept\n",
      "           response variable, Y vector\n",
      "    output: OLS estimator of beta hat\n",
      "\n"
     ]
    }
   ],
   "source": [
    "#help(OLS)"
   ]
  },
  {
   "cell_type": "code",
   "execution_count": 125,
   "metadata": {},
   "outputs": [
    {
     "data": {
      "text/plain": [
       "array([-2.0184651 ,  2.97390324,  5.15071529, -3.76644403])"
      ]
     },
     "execution_count": 125,
     "metadata": {},
     "output_type": "execute_result"
    }
   ],
   "source": [
    "#OLS(X,Y)"
   ]
  },
  {
   "cell_type": "code",
   "execution_count": 225,
   "metadata": {},
   "outputs": [
    {
     "data": {
      "text/plain": [
       "array([-2.0184651 ,  2.97390324,  5.15071529, -3.76644403])"
      ]
     },
     "execution_count": 225,
     "metadata": {},
     "output_type": "execute_result"
    }
   ],
   "source": [
    "# We can use a numpy function to directly compute the OLS solutions to beta\n",
    "#np.linalg.lstsq(X,Y, rcond=None)[0]"
   ]
  }
 ],
 "metadata": {
  "kernelspec": {
   "display_name": "Python 3",
   "language": "python",
   "name": "python3"
  },
  "language_info": {
   "codemirror_mode": {
    "name": "ipython",
    "version": 3
   },
   "file_extension": ".py",
   "mimetype": "text/x-python",
   "name": "python",
   "nbconvert_exporter": "python",
   "pygments_lexer": "ipython3",
   "version": "3.7.0"
  }
 },
 "nbformat": 4,
 "nbformat_minor": 2
}

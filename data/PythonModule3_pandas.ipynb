{
 "cells": [
  {
   "cell_type": "markdown",
   "metadata": {},
   "source": [
    "# Python for Data and Statistics\n",
    "\n",
    "* **Instructor**: Thomas Fiore \n",
    "* **E-mail**: tmfiore@umich.edu (for any questions)\n",
    "* **File Contributors**: Ronnie (Saerom) Lee, Jeffrey Lockhart, and Thomas Fiore\n",
    "* **File History**: This file is Thomas Fiore's adaptation of Ronnie (Saerom) Lee's and Jeffrey Lockhart's 2018 Big Data Camp presentation file. The main changes are: creation and incorporation of an extract from the General Social Survey to replace earlier dataframe example, discussion of data read-in issues, incorporation of linear regression, and extending and editing text. Two new appendices are also added. Many thanks go to Jeff Lockhart for great suggestions on this adaptation as well. "
   ]
  },
  {
   "cell_type": "markdown",
   "metadata": {},
   "source": [
    "## Overview of Topics\n",
    "\n",
    "* External Requirements for this File\n",
    "\n",
    "* How to Import a Package or Part of a Package \n",
    "\n",
    "* Pandas DataFrames and Their Manipulations\n",
    "\n",
    "* Missing Values\n",
    "\n",
    "* Data Read-in Issues and How to Deal with Them\n",
    "\n",
    "* Descriptive Statistics\n",
    "\n",
    "* Split-Apply-Combine\n",
    "\n",
    "* Linear Regression\n",
    "\n",
    "* Appendices\n",
    "\n",
    "\n"
   ]
  },
  {
   "cell_type": "markdown",
   "metadata": {},
   "source": [
    "## External Requirements: .csv File and Installation of `numpy` and `pandas` and `seaborn`\n",
    "\n",
    "This notebook uses the file `GSS2012Extract_PresApproval_StrongPartyAffiliation_CLEAN.csv`\n",
    "which was extracted from the General Social Survey using\n",
    "[https://gssdataexplorer.norc.org/](https://gssdataexplorer.norc.org/). This extracted data set should *not* be used to draw conclusions since it was extracted in an exaggerated way for illustration purposes: only rows with strong party affiliation have been selected, so this is not a representative sample.    \n",
    "\n",
    "Several other files with similar names are also needed. Please store the files in the same directory as this notebook. \n",
    "\n",
    "This notebook requires `numpy` and `pandas` to be installed on your system. To check if they are already installed on your system: \n",
    "\n",
    "* In Anaconda Navigator, go to `Environments`, set the filter to `Installed`, search for the desired package by scrolling or using the search field, and look at the check box.\n",
    "\n",
    "Installation only needs to be done one time only. If these two packages are not installed, there are several ways to install them (separately):\n",
    "\n",
    "* In Anaconda Navigator, go to `Environments`, then change the filter to `Not Installed`, search for the desired package by scrolling or using the search field, click the package checkbox, and click apply. For more details see the link [https://docs.anaconda.com/anaconda/navigator/tutorials/manage-packages/](https://docs.anaconda.com/anaconda/navigator/tutorials/manage-packages/)\n",
    "\n",
    "OR\n",
    "\n",
    "* At a conda prompt, type `conda install packagename`. See [https://docs.anaconda.com/anaconda/user-guide/tasks/install-packages/](https://docs.anaconda.com/anaconda/user-guide/tasks/install-packages/).\n",
    "\n",
    "OR\n",
    "\n",
    "* If you have the pip installer already installed on your system, at a prompt type `pip install packagname` (or if you're running both Python3 and Python2, specify which, e.g. `pip3 install packagname`). See [https://pip.pypa.io/en/stable/](https://pip.pypa.io/en/stable/).\n",
    "\n",
    "After installation, the external packages `numpy` and `pandas` still need to be loaded into the notebook for present use. We do this below.  "
   ]
  },
  {
   "cell_type": "markdown",
   "metadata": {},
   "source": [
    "### How to Import a Package or Part of a Package (Assuming it is Already Installed on Your System)\n",
    "\n",
    "* Import a package of useful tools and functions:\n",
    "    - `import packagename`\n",
    "\n",
    "* Call a package and abbreviate its name for use in calls to functions from that package\n",
    "    - `import packagename as abbreviation` \n",
    "\n",
    "* Import a specific function from the package (analogously import a class)\n",
    "    - `from packagename import function`\n",
    "\n",
    "* Import a specific function from a package and abbreviate its name (analogously import a class)\n",
    "    - `from packagename import function as abbreviation`"
   ]
  },
  {
   "cell_type": "markdown",
   "metadata": {},
   "source": [
    "## Pandas\n",
    "\n",
    "In order to apply Python tools to a data set, we need to first move the data set into Python. Often a data set is stored in an excel spread sheet or comma separated file. When we read such a file into Python, we store the data set as a `dataframe`. The `pandas` package is designed for working with data frames. Let's learn how to read in a file to store the data set as a data frame, how to save data frames as files, and how to work with data frames using pandas.\n",
    "\n",
    "But first in order to use pandas, we need to import the `numpy` and `pandas` packages. "
   ]
  },
  {
   "cell_type": "code",
   "execution_count": 1,
   "metadata": {},
   "outputs": [],
   "source": [
    "import numpy as np    # import numpy with its standard abbreviation for calls\n",
    "import pandas as pd   # import pandas with its standard abbreviation for call\n",
    "\n",
    "# The following makes plots show up here in the notebook.\n",
    "# You do not need it if you are not using a notebook.\n",
    "%matplotlib inline"
   ]
  },
  {
   "cell_type": "markdown",
   "metadata": {},
   "source": [
    "###  How to Read an External csv, tsv, txt file, or Excel File to an Internal DataFrame in Python\n"
   ]
  },
  {
   "cell_type": "markdown",
   "metadata": {},
   "source": [
    "The following lines are general code for you to adapt in future applications. The commands wouldn't run with general `filename`, so I wrote the general commands inside an `if False` block that never runs. \n",
    "\n",
    "The file must be in the same directory as your noteboook or Python script in the examples below. Otherwise use a directory in the command.\n",
    "\n",
    "**Tip:** remember to specify the **separator**!\n",
    "\n",
    "**Tip:** all of these commands try to infer whether or not your first row contains the column names (i.e. whether or not the first row is a header). "
   ]
  },
  {
   "cell_type": "code",
   "execution_count": 2,
   "metadata": {},
   "outputs": [],
   "source": [
    "if False:# ignore \"if False\", don't indent following when you use it\n",
    "\n",
    "    # Read in a comma separated file as a dataframe called df. \n",
    "    df = pd.read_csv('filename.csv', sep = ',')\n",
    "    df.head() # check the first lines of the read in \n",
    "    \n",
    "    # Read in a tab separated file as a dataframe called df. \n",
    "    df = pd.read_csv('filename.tsv', sep = '\\t')\n",
    "    df.head() # check the first lines of the read in     \n",
    "\n",
    "    # Read in a comma separated txt file as a dataframe called df. \n",
    "    df = pd.read_csv('filename.txt', sep = ',')\n",
    "    df.head() # check the first lines of the read in \n",
    "    \n",
    "    # Read in a tab separated txt file as a dataframe called df. \n",
    "    df = pd.read_csv('filename.txt', sep = '\\t')\n",
    "    df.head() # check the first lines of the read in    "
   ]
  },
  {
   "cell_type": "code",
   "execution_count": 3,
   "metadata": {},
   "outputs": [],
   "source": [
    "if False:# ignore \"if False\", don't indent following when you use it\n",
    "\n",
    "    # Read in an Excel File as a dataframe called df.\n",
    "    with pd.ExcelFile('filename.xlsx') as xlsx:\n",
    "        df = pd.read_excel(xlsx, sheet_name = 'Sheet1') #indent this line\n",
    "    df.head() # check the first lines of the read in \n",
    "    \n",
    "### If there are multiple sheets to read from use:\n",
    "# with pd.ExcelFile('data.xlsx') as xlsx:\n",
    "#    df_sheet1 = pd.read_excel(xlsx, sheet_name = 'Sheet1')\n",
    "#    df_sheet2 = pd.read_excel(xlsx, sheet_name = 'Sheet2')"
   ]
  },
  {
   "cell_type": "markdown",
   "metadata": {},
   "source": [
    "* Other formats you can read\n",
    "    - **Stata**: pd.read_stata()     \n",
    "    - **SAS**: pd.read_sas()         \n",
    "    - **SQL**: pd.read_sql_table()   \n",
    "    - **JSON**: pd.read_json()      \n",
    "        - Especially useful when using **API**'s (tomorrow's session)\n",
    "    - **HTML**: pd.read_html()       \n",
    "        - Especially useful when scraping html (tomorrow's session)\n",
    "    - and many more."
   ]
  },
  {
   "cell_type": "markdown",
   "metadata": {},
   "source": [
    "**Example.** Let's now actually read in the running example file. It is a .csv file. Let's check if the read in worked fine by looking at the first lines, the last lines, the column names, the data types of the columns, and the dimensions. Let's also check if there are any missing values. "
   ]
  },
  {
   "cell_type": "code",
   "execution_count": 4,
   "metadata": {
    "scrolled": true
   },
   "outputs": [
    {
     "data": {
      "text/html": [
       "<div>\n",
       "<style scoped>\n",
       "    .dataframe tbody tr th:only-of-type {\n",
       "        vertical-align: middle;\n",
       "    }\n",
       "\n",
       "    .dataframe tbody tr th {\n",
       "        vertical-align: top;\n",
       "    }\n",
       "\n",
       "    .dataframe thead th {\n",
       "        text-align: right;\n",
       "    }\n",
       "</style>\n",
       "<table border=\"1\" class=\"dataframe\">\n",
       "  <thead>\n",
       "    <tr style=\"text-align: right;\">\n",
       "      <th></th>\n",
       "      <th>year</th>\n",
       "      <th>id</th>\n",
       "      <th>age</th>\n",
       "      <th>region_of_interview</th>\n",
       "      <th>size</th>\n",
       "      <th>party</th>\n",
       "      <th>pres_approval</th>\n",
       "    </tr>\n",
       "  </thead>\n",
       "  <tbody>\n",
       "    <tr>\n",
       "      <th>0</th>\n",
       "      <td>2012</td>\n",
       "      <td>5</td>\n",
       "      <td>70</td>\n",
       "      <td>Middle atlantic</td>\n",
       "      <td>24</td>\n",
       "      <td>Strong democrat</td>\n",
       "      <td>Approve</td>\n",
       "    </tr>\n",
       "    <tr>\n",
       "      <th>1</th>\n",
       "      <td>2012</td>\n",
       "      <td>6</td>\n",
       "      <td>50</td>\n",
       "      <td>Middle atlantic</td>\n",
       "      <td>24</td>\n",
       "      <td>Strong democrat</td>\n",
       "      <td>Disapprove</td>\n",
       "    </tr>\n",
       "    <tr>\n",
       "      <th>2</th>\n",
       "      <td>2012</td>\n",
       "      <td>29</td>\n",
       "      <td>81</td>\n",
       "      <td>Middle atlantic</td>\n",
       "      <td>17</td>\n",
       "      <td>Strong democrat</td>\n",
       "      <td>Approve</td>\n",
       "    </tr>\n",
       "    <tr>\n",
       "      <th>3</th>\n",
       "      <td>2012</td>\n",
       "      <td>32</td>\n",
       "      <td>63</td>\n",
       "      <td>Middle atlantic</td>\n",
       "      <td>43</td>\n",
       "      <td>Strong democrat</td>\n",
       "      <td>Approve</td>\n",
       "    </tr>\n",
       "    <tr>\n",
       "      <th>4</th>\n",
       "      <td>2012</td>\n",
       "      <td>33</td>\n",
       "      <td>73</td>\n",
       "      <td>Middle atlantic</td>\n",
       "      <td>43</td>\n",
       "      <td>Strong democrat</td>\n",
       "      <td>Approve</td>\n",
       "    </tr>\n",
       "  </tbody>\n",
       "</table>\n",
       "</div>"
      ],
      "text/plain": [
       "   year  id  age region_of_interview  size            party pres_approval\n",
       "0  2012   5   70     Middle atlantic    24  Strong democrat       Approve\n",
       "1  2012   6   50     Middle atlantic    24  Strong democrat    Disapprove\n",
       "2  2012  29   81     Middle atlantic    17  Strong democrat       Approve\n",
       "3  2012  32   63     Middle atlantic    43  Strong democrat       Approve\n",
       "4  2012  33   73     Middle atlantic    43  Strong democrat       Approve"
      ]
     },
     "execution_count": 4,
     "metadata": {},
     "output_type": "execute_result"
    }
   ],
   "source": [
    "# Read in the comma separated EXAMPLE file as a dataframe called df. \n",
    "df = pd.read_csv('GSS2012Extract_PresApproval_StrongPartyAffiliation_CLEAN.csv', sep = ',')\n",
    "df.head() # check the first lines of the read in "
   ]
  },
  {
   "cell_type": "code",
   "execution_count": 5,
   "metadata": {
    "scrolled": false
   },
   "outputs": [
    {
     "data": {
      "text/html": [
       "<div>\n",
       "<style scoped>\n",
       "    .dataframe tbody tr th:only-of-type {\n",
       "        vertical-align: middle;\n",
       "    }\n",
       "\n",
       "    .dataframe tbody tr th {\n",
       "        vertical-align: top;\n",
       "    }\n",
       "\n",
       "    .dataframe thead th {\n",
       "        text-align: right;\n",
       "    }\n",
       "</style>\n",
       "<table border=\"1\" class=\"dataframe\">\n",
       "  <thead>\n",
       "    <tr style=\"text-align: right;\">\n",
       "      <th></th>\n",
       "      <th>year</th>\n",
       "      <th>id</th>\n",
       "      <th>age</th>\n",
       "      <th>region_of_interview</th>\n",
       "      <th>size</th>\n",
       "      <th>party</th>\n",
       "      <th>pres_approval</th>\n",
       "    </tr>\n",
       "  </thead>\n",
       "  <tbody>\n",
       "    <tr>\n",
       "      <th>333</th>\n",
       "      <td>2012</td>\n",
       "      <td>1931</td>\n",
       "      <td>73</td>\n",
       "      <td>South atlantic</td>\n",
       "      <td>5</td>\n",
       "      <td>Strong republican</td>\n",
       "      <td>Disapprove</td>\n",
       "    </tr>\n",
       "    <tr>\n",
       "      <th>334</th>\n",
       "      <td>2012</td>\n",
       "      <td>1951</td>\n",
       "      <td>40</td>\n",
       "      <td>New england</td>\n",
       "      <td>6</td>\n",
       "      <td>Strong democrat</td>\n",
       "      <td>Approve</td>\n",
       "    </tr>\n",
       "    <tr>\n",
       "      <th>335</th>\n",
       "      <td>2012</td>\n",
       "      <td>1957</td>\n",
       "      <td>42</td>\n",
       "      <td>New england</td>\n",
       "      <td>2</td>\n",
       "      <td>Strong democrat</td>\n",
       "      <td>Approve</td>\n",
       "    </tr>\n",
       "    <tr>\n",
       "      <th>336</th>\n",
       "      <td>2012</td>\n",
       "      <td>1965</td>\n",
       "      <td>65</td>\n",
       "      <td>New england</td>\n",
       "      <td>1</td>\n",
       "      <td>Strong democrat</td>\n",
       "      <td>Approve</td>\n",
       "    </tr>\n",
       "    <tr>\n",
       "      <th>337</th>\n",
       "      <td>2012</td>\n",
       "      <td>1967</td>\n",
       "      <td>69</td>\n",
       "      <td>New england</td>\n",
       "      <td>1</td>\n",
       "      <td>Strong republican</td>\n",
       "      <td>Approve</td>\n",
       "    </tr>\n",
       "  </tbody>\n",
       "</table>\n",
       "</div>"
      ],
      "text/plain": [
       "     year    id  age region_of_interview  size              party  \\\n",
       "333  2012  1931   73      South atlantic     5  Strong republican   \n",
       "334  2012  1951   40         New england     6    Strong democrat   \n",
       "335  2012  1957   42         New england     2    Strong democrat   \n",
       "336  2012  1965   65         New england     1    Strong democrat   \n",
       "337  2012  1967   69         New england     1  Strong republican   \n",
       "\n",
       "    pres_approval  \n",
       "333    Disapprove  \n",
       "334       Approve  \n",
       "335       Approve  \n",
       "336       Approve  \n",
       "337       Approve  "
      ]
     },
     "execution_count": 5,
     "metadata": {},
     "output_type": "execute_result"
    }
   ],
   "source": [
    "# it is good practice to also look at the last lines\n",
    "df.tail()"
   ]
  },
  {
   "cell_type": "code",
   "execution_count": 6,
   "metadata": {
    "scrolled": true
   },
   "outputs": [
    {
     "data": {
      "text/plain": [
       "Index(['year', 'id', 'age', 'region_of_interview', 'size', 'party',\n",
       "       'pres_approval'],\n",
       "      dtype='object')"
      ]
     },
     "execution_count": 6,
     "metadata": {},
     "output_type": "execute_result"
    }
   ],
   "source": [
    "# It is also a good practice to check if the names read in properly. \n",
    "df.columns\n",
    "# looks good, no unexpected spaces in column names\n",
    "# capitalization is consistent. "
   ]
  },
  {
   "cell_type": "code",
   "execution_count": 7,
   "metadata": {},
   "outputs": [
    {
     "data": {
      "text/plain": [
       "year                    int64\n",
       "id                      int64\n",
       "age                     int64\n",
       "region_of_interview    object\n",
       "size                    int64\n",
       "party                  object\n",
       "pres_approval          object\n",
       "dtype: object"
      ]
     },
     "execution_count": 7,
     "metadata": {},
     "output_type": "execute_result"
    }
   ],
   "source": [
    "# Let's check if pandas inferred the correct data types of the columns\n",
    "df.dtypes\n",
    "# Note: \"object\" type in pandas actually means string!\n",
    "# The data types are as they should be. "
   ]
  },
  {
   "cell_type": "code",
   "execution_count": 8,
   "metadata": {},
   "outputs": [
    {
     "data": {
      "text/plain": [
       "year                   0\n",
       "id                     0\n",
       "age                    0\n",
       "region_of_interview    0\n",
       "size                   0\n",
       "party                  0\n",
       "pres_approval          0\n",
       "dtype: int64"
      ]
     },
     "execution_count": 8,
     "metadata": {},
     "output_type": "execute_result"
    }
   ],
   "source": [
    "# Are there any missing values? \n",
    "df.isnull().sum()\n",
    "# Great, no missing values. "
   ]
  },
  {
   "cell_type": "code",
   "execution_count": 9,
   "metadata": {},
   "outputs": [
    {
     "data": {
      "text/plain": [
       "(338, 7)"
      ]
     },
     "execution_count": 9,
     "metadata": {},
     "output_type": "execute_result"
    }
   ],
   "source": [
    "df.shape # find the dimensions of the data frame as\n",
    "# (number of rows, number of columns)\n",
    "# The header does not count as a row. "
   ]
  },
  {
   "cell_type": "markdown",
   "metadata": {},
   "source": [
    "Everything looks great! That's because the data was cleaned in advance... Later we'll see how to discover problems at read in and fix them."
   ]
  },
  {
   "cell_type": "markdown",
   "metadata": {},
   "source": [
    "### How to Save an Internal DataFrame to an External File \n",
    "\n",
    "Now let's go in the opposite direction. If you have cleaned a dataframe in Python in the course of an analysis, you will likely want to save it to an external file for future use, reproducibility, or for collaborators. We don't need this now, but here are the commands to store an internal dataframe to an external file. Of course, don't run this now."
   ]
  },
  {
   "cell_type": "code",
   "execution_count": 10,
   "metadata": {},
   "outputs": [],
   "source": [
    "if False:# ignore \"if False\", don't indent following when you use it\n",
    "\n",
    "    # to save dataframe df to a comma separated file (.csv)\n",
    "    df.to_csv('filename.csv', sep = ',',  index = False)\n",
    "\n",
    "    # to save dataframe df to a tab separated file (.tsv)\n",
    "    df.to_csv('filename.tsv', sep = '\\t', index = False) \n",
    "\n",
    "    # to save dataframe df to a comma separated text file (.txt)\n",
    "    df.to_csv('filename.txt', sep = ',', index = False) \n",
    "\n",
    "    # to save dataframe df to a tab separated text file (.txt)\n",
    "    df.to_csv('filename.txt', sep = '\\t', index = False) \n",
    "\n",
    "    # to save dataframe df to an excel file\n",
    "    df.to_excel('filename.xlsx', index_label='label')"
   ]
  },
  {
   "cell_type": "markdown",
   "metadata": {},
   "source": [
    "Tip: It might be better to store your dataframe as a **.tsv** file rather than .csv file because there may be commas in the values (e.g. \"Lastname, Firstname\")."
   ]
  },
  {
   "cell_type": "markdown",
   "metadata": {},
   "source": [
    "- Other formats you can save to\n",
    "    - **LaTeX**: df.to_latex()\n",
    "    - **JSON**: df.to_json()\n",
    "    - **Stata**: df.to_stata(name='file_name')\n",
    "    - **SQL**: df.to_sql(name='file_name', con='engine_name')\n",
    "    - and many more."
   ]
  },
  {
   "cell_type": "markdown",
   "metadata": {},
   "source": [
    "### Given a DataFrame, How to Rename, Add, and Remove Rows/Columns, and Make Entries of a Column Lower Case \n"
   ]
  },
  {
   "cell_type": "markdown",
   "metadata": {},
   "source": [
    "Notice that all of these methods return a new dataframe which I then store in the old variable name. These methods do **not** change the dataframe *in place\" as you may have seen with some list methods. "
   ]
  },
  {
   "cell_type": "markdown",
   "metadata": {},
   "source": [
    "#### Rename a column"
   ]
  },
  {
   "cell_type": "code",
   "execution_count": 11,
   "metadata": {
    "scrolled": false
   },
   "outputs": [
    {
     "data": {
      "text/html": [
       "<div>\n",
       "<style scoped>\n",
       "    .dataframe tbody tr th:only-of-type {\n",
       "        vertical-align: middle;\n",
       "    }\n",
       "\n",
       "    .dataframe tbody tr th {\n",
       "        vertical-align: top;\n",
       "    }\n",
       "\n",
       "    .dataframe thead th {\n",
       "        text-align: right;\n",
       "    }\n",
       "</style>\n",
       "<table border=\"1\" class=\"dataframe\">\n",
       "  <thead>\n",
       "    <tr style=\"text-align: right;\">\n",
       "      <th></th>\n",
       "      <th>year</th>\n",
       "      <th>ID</th>\n",
       "      <th>AGE</th>\n",
       "      <th>region_of_interview</th>\n",
       "      <th>size</th>\n",
       "      <th>party</th>\n",
       "      <th>pres_approval</th>\n",
       "    </tr>\n",
       "  </thead>\n",
       "  <tbody>\n",
       "    <tr>\n",
       "      <th>0</th>\n",
       "      <td>2012</td>\n",
       "      <td>5</td>\n",
       "      <td>70</td>\n",
       "      <td>Middle atlantic</td>\n",
       "      <td>24</td>\n",
       "      <td>Strong democrat</td>\n",
       "      <td>Approve</td>\n",
       "    </tr>\n",
       "    <tr>\n",
       "      <th>1</th>\n",
       "      <td>2012</td>\n",
       "      <td>6</td>\n",
       "      <td>50</td>\n",
       "      <td>Middle atlantic</td>\n",
       "      <td>24</td>\n",
       "      <td>Strong democrat</td>\n",
       "      <td>Disapprove</td>\n",
       "    </tr>\n",
       "    <tr>\n",
       "      <th>2</th>\n",
       "      <td>2012</td>\n",
       "      <td>29</td>\n",
       "      <td>81</td>\n",
       "      <td>Middle atlantic</td>\n",
       "      <td>17</td>\n",
       "      <td>Strong democrat</td>\n",
       "      <td>Approve</td>\n",
       "    </tr>\n",
       "    <tr>\n",
       "      <th>3</th>\n",
       "      <td>2012</td>\n",
       "      <td>32</td>\n",
       "      <td>63</td>\n",
       "      <td>Middle atlantic</td>\n",
       "      <td>43</td>\n",
       "      <td>Strong democrat</td>\n",
       "      <td>Approve</td>\n",
       "    </tr>\n",
       "    <tr>\n",
       "      <th>4</th>\n",
       "      <td>2012</td>\n",
       "      <td>33</td>\n",
       "      <td>73</td>\n",
       "      <td>Middle atlantic</td>\n",
       "      <td>43</td>\n",
       "      <td>Strong democrat</td>\n",
       "      <td>Approve</td>\n",
       "    </tr>\n",
       "  </tbody>\n",
       "</table>\n",
       "</div>"
      ],
      "text/plain": [
       "   year  ID  AGE region_of_interview  size            party pres_approval\n",
       "0  2012   5   70     Middle atlantic    24  Strong democrat       Approve\n",
       "1  2012   6   50     Middle atlantic    24  Strong democrat    Disapprove\n",
       "2  2012  29   81     Middle atlantic    17  Strong democrat       Approve\n",
       "3  2012  32   63     Middle atlantic    43  Strong democrat       Approve\n",
       "4  2012  33   73     Middle atlantic    43  Strong democrat       Approve"
      ]
     },
     "execution_count": 11,
     "metadata": {},
     "output_type": "execute_result"
    }
   ],
   "source": [
    "# Change \"id\" to \"ID\" and \"age\" to \"AGE\"\n",
    "df = df.rename(columns={\"id\":\"ID\", \"age\": \"AGE\"}) # remember \" \"\n",
    "df.head()"
   ]
  },
  {
   "cell_type": "code",
   "execution_count": 12,
   "metadata": {},
   "outputs": [
    {
     "data": {
      "text/html": [
       "<div>\n",
       "<style scoped>\n",
       "    .dataframe tbody tr th:only-of-type {\n",
       "        vertical-align: middle;\n",
       "    }\n",
       "\n",
       "    .dataframe tbody tr th {\n",
       "        vertical-align: top;\n",
       "    }\n",
       "\n",
       "    .dataframe thead th {\n",
       "        text-align: right;\n",
       "    }\n",
       "</style>\n",
       "<table border=\"1\" class=\"dataframe\">\n",
       "  <thead>\n",
       "    <tr style=\"text-align: right;\">\n",
       "      <th></th>\n",
       "      <th>year</th>\n",
       "      <th>id</th>\n",
       "      <th>age</th>\n",
       "      <th>region_of_interview</th>\n",
       "      <th>size</th>\n",
       "      <th>party</th>\n",
       "      <th>pres_approval</th>\n",
       "    </tr>\n",
       "  </thead>\n",
       "  <tbody>\n",
       "    <tr>\n",
       "      <th>0</th>\n",
       "      <td>2012</td>\n",
       "      <td>5</td>\n",
       "      <td>70</td>\n",
       "      <td>Middle atlantic</td>\n",
       "      <td>24</td>\n",
       "      <td>Strong democrat</td>\n",
       "      <td>Approve</td>\n",
       "    </tr>\n",
       "    <tr>\n",
       "      <th>1</th>\n",
       "      <td>2012</td>\n",
       "      <td>6</td>\n",
       "      <td>50</td>\n",
       "      <td>Middle atlantic</td>\n",
       "      <td>24</td>\n",
       "      <td>Strong democrat</td>\n",
       "      <td>Disapprove</td>\n",
       "    </tr>\n",
       "    <tr>\n",
       "      <th>2</th>\n",
       "      <td>2012</td>\n",
       "      <td>29</td>\n",
       "      <td>81</td>\n",
       "      <td>Middle atlantic</td>\n",
       "      <td>17</td>\n",
       "      <td>Strong democrat</td>\n",
       "      <td>Approve</td>\n",
       "    </tr>\n",
       "    <tr>\n",
       "      <th>3</th>\n",
       "      <td>2012</td>\n",
       "      <td>32</td>\n",
       "      <td>63</td>\n",
       "      <td>Middle atlantic</td>\n",
       "      <td>43</td>\n",
       "      <td>Strong democrat</td>\n",
       "      <td>Approve</td>\n",
       "    </tr>\n",
       "    <tr>\n",
       "      <th>4</th>\n",
       "      <td>2012</td>\n",
       "      <td>33</td>\n",
       "      <td>73</td>\n",
       "      <td>Middle atlantic</td>\n",
       "      <td>43</td>\n",
       "      <td>Strong democrat</td>\n",
       "      <td>Approve</td>\n",
       "    </tr>\n",
       "  </tbody>\n",
       "</table>\n",
       "</div>"
      ],
      "text/plain": [
       "   year  id  age region_of_interview  size            party pres_approval\n",
       "0  2012   5   70     Middle atlantic    24  Strong democrat       Approve\n",
       "1  2012   6   50     Middle atlantic    24  Strong democrat    Disapprove\n",
       "2  2012  29   81     Middle atlantic    17  Strong democrat       Approve\n",
       "3  2012  32   63     Middle atlantic    43  Strong democrat       Approve\n",
       "4  2012  33   73     Middle atlantic    43  Strong democrat       Approve"
      ]
     },
     "execution_count": 12,
     "metadata": {},
     "output_type": "execute_result"
    }
   ],
   "source": [
    "# Change \"ID\" to \"id\" and AGE\" to \"age\" back again\n",
    "df = df.rename(columns={\"ID\":\"id\", \"AGE\": \"age\"}) # remember \" \"\n",
    "df.head()"
   ]
  },
  {
   "cell_type": "markdown",
   "metadata": {},
   "source": [
    "#### Add a Column Using a List"
   ]
  },
  {
   "cell_type": "code",
   "execution_count": 13,
   "metadata": {},
   "outputs": [
    {
     "data": {
      "text/html": [
       "<div>\n",
       "<style scoped>\n",
       "    .dataframe tbody tr th:only-of-type {\n",
       "        vertical-align: middle;\n",
       "    }\n",
       "\n",
       "    .dataframe tbody tr th {\n",
       "        vertical-align: top;\n",
       "    }\n",
       "\n",
       "    .dataframe thead th {\n",
       "        text-align: right;\n",
       "    }\n",
       "</style>\n",
       "<table border=\"1\" class=\"dataframe\">\n",
       "  <thead>\n",
       "    <tr style=\"text-align: right;\">\n",
       "      <th></th>\n",
       "      <th>year</th>\n",
       "      <th>id</th>\n",
       "      <th>age</th>\n",
       "      <th>region_of_interview</th>\n",
       "      <th>size</th>\n",
       "      <th>party</th>\n",
       "      <th>pres_approval</th>\n",
       "      <th>default</th>\n",
       "    </tr>\n",
       "  </thead>\n",
       "  <tbody>\n",
       "    <tr>\n",
       "      <th>0</th>\n",
       "      <td>2012</td>\n",
       "      <td>5</td>\n",
       "      <td>70</td>\n",
       "      <td>Middle atlantic</td>\n",
       "      <td>24</td>\n",
       "      <td>Strong democrat</td>\n",
       "      <td>Approve</td>\n",
       "      <td>0</td>\n",
       "    </tr>\n",
       "    <tr>\n",
       "      <th>1</th>\n",
       "      <td>2012</td>\n",
       "      <td>6</td>\n",
       "      <td>50</td>\n",
       "      <td>Middle atlantic</td>\n",
       "      <td>24</td>\n",
       "      <td>Strong democrat</td>\n",
       "      <td>Disapprove</td>\n",
       "      <td>0</td>\n",
       "    </tr>\n",
       "    <tr>\n",
       "      <th>2</th>\n",
       "      <td>2012</td>\n",
       "      <td>29</td>\n",
       "      <td>81</td>\n",
       "      <td>Middle atlantic</td>\n",
       "      <td>17</td>\n",
       "      <td>Strong democrat</td>\n",
       "      <td>Approve</td>\n",
       "      <td>0</td>\n",
       "    </tr>\n",
       "    <tr>\n",
       "      <th>3</th>\n",
       "      <td>2012</td>\n",
       "      <td>32</td>\n",
       "      <td>63</td>\n",
       "      <td>Middle atlantic</td>\n",
       "      <td>43</td>\n",
       "      <td>Strong democrat</td>\n",
       "      <td>Approve</td>\n",
       "      <td>0</td>\n",
       "    </tr>\n",
       "    <tr>\n",
       "      <th>4</th>\n",
       "      <td>2012</td>\n",
       "      <td>33</td>\n",
       "      <td>73</td>\n",
       "      <td>Middle atlantic</td>\n",
       "      <td>43</td>\n",
       "      <td>Strong democrat</td>\n",
       "      <td>Approve</td>\n",
       "      <td>0</td>\n",
       "    </tr>\n",
       "  </tbody>\n",
       "</table>\n",
       "</div>"
      ],
      "text/plain": [
       "   year  id  age region_of_interview  size            party pres_approval  \\\n",
       "0  2012   5   70     Middle atlantic    24  Strong democrat       Approve   \n",
       "1  2012   6   50     Middle atlantic    24  Strong democrat    Disapprove   \n",
       "2  2012  29   81     Middle atlantic    17  Strong democrat       Approve   \n",
       "3  2012  32   63     Middle atlantic    43  Strong democrat       Approve   \n",
       "4  2012  33   73     Middle atlantic    43  Strong democrat       Approve   \n",
       "\n",
       "   default  \n",
       "0        0  \n",
       "1        0  \n",
       "2        0  \n",
       "3        0  \n",
       "4        0  "
      ]
     },
     "execution_count": 13,
     "metadata": {},
     "output_type": "execute_result"
    }
   ],
   "source": [
    "# add a column called 'default' that is all zeroes\n",
    "# dataframename['newcolumnname'] = list\n",
    "df['default'] = [0]*338 # list of 338 zeroes\n",
    "df.head()"
   ]
  },
  {
   "cell_type": "markdown",
   "metadata": {},
   "source": [
    "#### Remove a Column by Column Name\n"
   ]
  },
  {
   "cell_type": "code",
   "execution_count": 278,
   "metadata": {},
   "outputs": [
    {
     "data": {
      "text/html": [
       "<div>\n",
       "<style scoped>\n",
       "    .dataframe tbody tr th:only-of-type {\n",
       "        vertical-align: middle;\n",
       "    }\n",
       "\n",
       "    .dataframe tbody tr th {\n",
       "        vertical-align: top;\n",
       "    }\n",
       "\n",
       "    .dataframe thead th {\n",
       "        text-align: right;\n",
       "    }\n",
       "</style>\n",
       "<table border=\"1\" class=\"dataframe\">\n",
       "  <thead>\n",
       "    <tr style=\"text-align: right;\">\n",
       "      <th></th>\n",
       "      <th>year</th>\n",
       "      <th>id</th>\n",
       "      <th>age</th>\n",
       "      <th>region_of_interview</th>\n",
       "      <th>size</th>\n",
       "      <th>party</th>\n",
       "      <th>pres_approval</th>\n",
       "    </tr>\n",
       "  </thead>\n",
       "  <tbody>\n",
       "    <tr>\n",
       "      <th>0</th>\n",
       "      <td>2012</td>\n",
       "      <td>5</td>\n",
       "      <td>70</td>\n",
       "      <td>Middle atlantic</td>\n",
       "      <td>24</td>\n",
       "      <td>Strong democrat</td>\n",
       "      <td>Approve</td>\n",
       "    </tr>\n",
       "    <tr>\n",
       "      <th>1</th>\n",
       "      <td>2012</td>\n",
       "      <td>6</td>\n",
       "      <td>50</td>\n",
       "      <td>Middle atlantic</td>\n",
       "      <td>24</td>\n",
       "      <td>Strong democrat</td>\n",
       "      <td>Disapprove</td>\n",
       "    </tr>\n",
       "    <tr>\n",
       "      <th>2</th>\n",
       "      <td>2012</td>\n",
       "      <td>29</td>\n",
       "      <td>81</td>\n",
       "      <td>Middle atlantic</td>\n",
       "      <td>17</td>\n",
       "      <td>Strong democrat</td>\n",
       "      <td>Approve</td>\n",
       "    </tr>\n",
       "    <tr>\n",
       "      <th>3</th>\n",
       "      <td>2012</td>\n",
       "      <td>32</td>\n",
       "      <td>63</td>\n",
       "      <td>Middle atlantic</td>\n",
       "      <td>43</td>\n",
       "      <td>Strong democrat</td>\n",
       "      <td>Approve</td>\n",
       "    </tr>\n",
       "    <tr>\n",
       "      <th>4</th>\n",
       "      <td>2012</td>\n",
       "      <td>33</td>\n",
       "      <td>73</td>\n",
       "      <td>Middle atlantic</td>\n",
       "      <td>43</td>\n",
       "      <td>Strong democrat</td>\n",
       "      <td>Approve</td>\n",
       "    </tr>\n",
       "  </tbody>\n",
       "</table>\n",
       "</div>"
      ],
      "text/plain": [
       "   year  id  age region_of_interview  size            party pres_approval\n",
       "0  2012   5   70     Middle atlantic    24  Strong democrat       Approve\n",
       "1  2012   6   50     Middle atlantic    24  Strong democrat    Disapprove\n",
       "2  2012  29   81     Middle atlantic    17  Strong democrat       Approve\n",
       "3  2012  32   63     Middle atlantic    43  Strong democrat       Approve\n",
       "4  2012  33   73     Middle atlantic    43  Strong democrat       Approve"
      ]
     },
     "execution_count": 278,
     "metadata": {},
     "output_type": "execute_result"
    }
   ],
   "source": [
    "# remove the 'default' column\n",
    "# axis = 1 denotes that we are referring to a column, not a row\n",
    "df = df.drop('default', axis = 1)\n",
    "df.head()\n",
    "# we see the 'default' column is gone"
   ]
  },
  {
   "cell_type": "markdown",
   "metadata": {},
   "source": [
    "####  Add Rows Using `.append()`, i.e. Stack Two DataFrames"
   ]
  },
  {
   "cell_type": "code",
   "execution_count": 279,
   "metadata": {},
   "outputs": [
    {
     "data": {
      "text/plain": [
       "(338, 7)"
      ]
     },
     "execution_count": 279,
     "metadata": {},
     "output_type": "execute_result"
    }
   ],
   "source": [
    "# First, let's read in a second copy of the data set\n",
    "# just to have a second dataframe to work with\n",
    "df2 = pd.read_csv('GSS2012Extract_PresApproval_StrongPartyAffiliation_CLEAN.csv', sep = ',')\n",
    "df2.shape"
   ]
  },
  {
   "cell_type": "code",
   "execution_count": 280,
   "metadata": {},
   "outputs": [
    {
     "data": {
      "text/plain": [
       "(676, 7)"
      ]
     },
     "execution_count": 280,
     "metadata": {},
     "output_type": "execute_result"
    }
   ],
   "source": [
    "# Append the new dataframe df2 to the existing dataframe df\n",
    "dfstacked= df.append(df2, ignore_index=True)\n",
    "dfstacked.shape # see that we have double the rows\n",
    "# same number of columns"
   ]
  },
  {
   "cell_type": "markdown",
   "metadata": {},
   "source": [
    "Or an alternative way to stack dataframes is to use `pd.concat()`"
   ]
  },
  {
   "cell_type": "code",
   "execution_count": 281,
   "metadata": {},
   "outputs": [
    {
     "data": {
      "text/plain": [
       "(676, 7)"
      ]
     },
     "execution_count": 281,
     "metadata": {},
     "output_type": "execute_result"
    }
   ],
   "source": [
    "# We use axis = 0 to indicate we are stacking rows \n",
    "# rather than columns\n",
    "dfstacked = pd.concat([df, df2], axis = 0, ignore_index = True)    \n",
    "dfstacked.shape"
   ]
  },
  {
   "cell_type": "markdown",
   "metadata": {},
   "source": [
    "#### Remove a Row by Row Name/Number (Remember First Row is Zero)"
   ]
  },
  {
   "cell_type": "code",
   "execution_count": 282,
   "metadata": {
    "scrolled": true
   },
   "outputs": [
    {
     "data": {
      "text/html": [
       "<div>\n",
       "<style scoped>\n",
       "    .dataframe tbody tr th:only-of-type {\n",
       "        vertical-align: middle;\n",
       "    }\n",
       "\n",
       "    .dataframe tbody tr th {\n",
       "        vertical-align: top;\n",
       "    }\n",
       "\n",
       "    .dataframe thead th {\n",
       "        text-align: right;\n",
       "    }\n",
       "</style>\n",
       "<table border=\"1\" class=\"dataframe\">\n",
       "  <thead>\n",
       "    <tr style=\"text-align: right;\">\n",
       "      <th></th>\n",
       "      <th>year</th>\n",
       "      <th>id</th>\n",
       "      <th>age</th>\n",
       "      <th>region_of_interview</th>\n",
       "      <th>size</th>\n",
       "      <th>party</th>\n",
       "      <th>pres_approval</th>\n",
       "    </tr>\n",
       "  </thead>\n",
       "  <tbody>\n",
       "    <tr>\n",
       "      <th>670</th>\n",
       "      <td>2012</td>\n",
       "      <td>1919</td>\n",
       "      <td>66</td>\n",
       "      <td>South atlantic</td>\n",
       "      <td>4</td>\n",
       "      <td>Strong republican</td>\n",
       "      <td>Disapprove</td>\n",
       "    </tr>\n",
       "    <tr>\n",
       "      <th>671</th>\n",
       "      <td>2012</td>\n",
       "      <td>1931</td>\n",
       "      <td>73</td>\n",
       "      <td>South atlantic</td>\n",
       "      <td>5</td>\n",
       "      <td>Strong republican</td>\n",
       "      <td>Disapprove</td>\n",
       "    </tr>\n",
       "    <tr>\n",
       "      <th>672</th>\n",
       "      <td>2012</td>\n",
       "      <td>1951</td>\n",
       "      <td>40</td>\n",
       "      <td>New england</td>\n",
       "      <td>6</td>\n",
       "      <td>Strong democrat</td>\n",
       "      <td>Approve</td>\n",
       "    </tr>\n",
       "    <tr>\n",
       "      <th>673</th>\n",
       "      <td>2012</td>\n",
       "      <td>1957</td>\n",
       "      <td>42</td>\n",
       "      <td>New england</td>\n",
       "      <td>2</td>\n",
       "      <td>Strong democrat</td>\n",
       "      <td>Approve</td>\n",
       "    </tr>\n",
       "    <tr>\n",
       "      <th>674</th>\n",
       "      <td>2012</td>\n",
       "      <td>1965</td>\n",
       "      <td>65</td>\n",
       "      <td>New england</td>\n",
       "      <td>1</td>\n",
       "      <td>Strong democrat</td>\n",
       "      <td>Approve</td>\n",
       "    </tr>\n",
       "  </tbody>\n",
       "</table>\n",
       "</div>"
      ],
      "text/plain": [
       "     year    id  age region_of_interview  size              party  \\\n",
       "670  2012  1919   66      South atlantic     4  Strong republican   \n",
       "671  2012  1931   73      South atlantic     5  Strong republican   \n",
       "672  2012  1951   40         New england     6    Strong democrat   \n",
       "673  2012  1957   42         New england     2    Strong democrat   \n",
       "674  2012  1965   65         New england     1    Strong democrat   \n",
       "\n",
       "    pres_approval  \n",
       "670    Disapprove  \n",
       "671    Disapprove  \n",
       "672       Approve  \n",
       "673       Approve  \n",
       "674       Approve  "
      ]
     },
     "execution_count": 282,
     "metadata": {},
     "output_type": "execute_result"
    }
   ],
   "source": [
    "# The row names in the example are the row numers\n",
    "# Let's remove the 676th row, and \n",
    "# check it is gone\n",
    "dfstacked = dfstacked.drop(675) # remember 0 indexing in Python!\n",
    "dfstacked.tail()"
   ]
  },
  {
   "cell_type": "markdown",
   "metadata": {},
   "source": [
    "#### Remove Duplicate Rows"
   ]
  },
  {
   "cell_type": "markdown",
   "metadata": {},
   "source": [
    "First check whether or not there are any duplicate rows."
   ]
  },
  {
   "cell_type": "code",
   "execution_count": 283,
   "metadata": {},
   "outputs": [
    {
     "data": {
      "text/plain": [
       "True"
      ]
     },
     "execution_count": 283,
     "metadata": {},
     "output_type": "execute_result"
    }
   ],
   "source": [
    "# The method df.duplicated() returns a series of \n",
    "# True/False, True when a row is a duplicate of a previous row\n",
    "# any() asks if any of them are True\n",
    "any(dfstacked.duplicated())"
   ]
  },
  {
   "cell_type": "markdown",
   "metadata": {},
   "source": [
    "We see there are duplicates. Of course! `dftstacked` was the same dataframe repeated twice."
   ]
  },
  {
   "cell_type": "code",
   "execution_count": 284,
   "metadata": {},
   "outputs": [
    {
     "data": {
      "text/plain": [
       "(338, 7)"
      ]
     },
     "execution_count": 284,
     "metadata": {},
     "output_type": "execute_result"
    }
   ],
   "source": [
    "# If there are duplicates, then run the following code\n",
    "dfstacked_cleaned = dfstacked.drop_duplicates()\n",
    "dfstacked_cleaned.shape\n",
    "# dimensions confirm we removed all duplicates."
   ]
  },
  {
   "cell_type": "markdown",
   "metadata": {},
   "source": [
    "### Make Entries of a Column of Strings Lowercase"
   ]
  },
  {
   "cell_type": "code",
   "execution_count": 285,
   "metadata": {},
   "outputs": [
    {
     "data": {
      "text/html": [
       "<div>\n",
       "<style scoped>\n",
       "    .dataframe tbody tr th:only-of-type {\n",
       "        vertical-align: middle;\n",
       "    }\n",
       "\n",
       "    .dataframe tbody tr th {\n",
       "        vertical-align: top;\n",
       "    }\n",
       "\n",
       "    .dataframe thead th {\n",
       "        text-align: right;\n",
       "    }\n",
       "</style>\n",
       "<table border=\"1\" class=\"dataframe\">\n",
       "  <thead>\n",
       "    <tr style=\"text-align: right;\">\n",
       "      <th></th>\n",
       "      <th>year</th>\n",
       "      <th>id</th>\n",
       "      <th>age</th>\n",
       "      <th>region_of_interview</th>\n",
       "      <th>size</th>\n",
       "      <th>party</th>\n",
       "      <th>pres_approval</th>\n",
       "    </tr>\n",
       "  </thead>\n",
       "  <tbody>\n",
       "    <tr>\n",
       "      <th>0</th>\n",
       "      <td>2012</td>\n",
       "      <td>5</td>\n",
       "      <td>70</td>\n",
       "      <td>middle atlantic</td>\n",
       "      <td>24</td>\n",
       "      <td>strong democrat</td>\n",
       "      <td>approve</td>\n",
       "    </tr>\n",
       "    <tr>\n",
       "      <th>1</th>\n",
       "      <td>2012</td>\n",
       "      <td>6</td>\n",
       "      <td>50</td>\n",
       "      <td>middle atlantic</td>\n",
       "      <td>24</td>\n",
       "      <td>strong democrat</td>\n",
       "      <td>disapprove</td>\n",
       "    </tr>\n",
       "    <tr>\n",
       "      <th>2</th>\n",
       "      <td>2012</td>\n",
       "      <td>29</td>\n",
       "      <td>81</td>\n",
       "      <td>middle atlantic</td>\n",
       "      <td>17</td>\n",
       "      <td>strong democrat</td>\n",
       "      <td>approve</td>\n",
       "    </tr>\n",
       "    <tr>\n",
       "      <th>3</th>\n",
       "      <td>2012</td>\n",
       "      <td>32</td>\n",
       "      <td>63</td>\n",
       "      <td>middle atlantic</td>\n",
       "      <td>43</td>\n",
       "      <td>strong democrat</td>\n",
       "      <td>approve</td>\n",
       "    </tr>\n",
       "    <tr>\n",
       "      <th>4</th>\n",
       "      <td>2012</td>\n",
       "      <td>33</td>\n",
       "      <td>73</td>\n",
       "      <td>middle atlantic</td>\n",
       "      <td>43</td>\n",
       "      <td>strong democrat</td>\n",
       "      <td>approve</td>\n",
       "    </tr>\n",
       "  </tbody>\n",
       "</table>\n",
       "</div>"
      ],
      "text/plain": [
       "   year  id  age region_of_interview  size            party pres_approval\n",
       "0  2012   5   70     middle atlantic    24  strong democrat       approve\n",
       "1  2012   6   50     middle atlantic    24  strong democrat    disapprove\n",
       "2  2012  29   81     middle atlantic    17  strong democrat       approve\n",
       "3  2012  32   63     middle atlantic    43  strong democrat       approve\n",
       "4  2012  33   73     middle atlantic    43  strong democrat       approve"
      ]
     },
     "execution_count": 285,
     "metadata": {},
     "output_type": "execute_result"
    }
   ],
   "source": [
    "df['region_of_interview'] = df['region_of_interview'].str.lower()\n",
    "df['party'] = df['party'].str.lower()\n",
    "df['pres_approval'] = df['pres_approval'].str.lower()\n",
    "df.head()"
   ]
  },
  {
   "cell_type": "markdown",
   "metadata": {},
   "source": [
    "### How to See What is in a DataFrame, Sort a DataFrame, and Obtain Columns, Rows, and Sub DataFrames \n",
    "#### Print the First and Last Rows of the DataFrame"
   ]
  },
  {
   "cell_type": "code",
   "execution_count": 286,
   "metadata": {},
   "outputs": [
    {
     "data": {
      "text/html": [
       "<div>\n",
       "<style scoped>\n",
       "    .dataframe tbody tr th:only-of-type {\n",
       "        vertical-align: middle;\n",
       "    }\n",
       "\n",
       "    .dataframe tbody tr th {\n",
       "        vertical-align: top;\n",
       "    }\n",
       "\n",
       "    .dataframe thead th {\n",
       "        text-align: right;\n",
       "    }\n",
       "</style>\n",
       "<table border=\"1\" class=\"dataframe\">\n",
       "  <thead>\n",
       "    <tr style=\"text-align: right;\">\n",
       "      <th></th>\n",
       "      <th>year</th>\n",
       "      <th>id</th>\n",
       "      <th>age</th>\n",
       "      <th>region_of_interview</th>\n",
       "      <th>size</th>\n",
       "      <th>party</th>\n",
       "      <th>pres_approval</th>\n",
       "    </tr>\n",
       "  </thead>\n",
       "  <tbody>\n",
       "    <tr>\n",
       "      <th>0</th>\n",
       "      <td>2012</td>\n",
       "      <td>5</td>\n",
       "      <td>70</td>\n",
       "      <td>middle atlantic</td>\n",
       "      <td>24</td>\n",
       "      <td>strong democrat</td>\n",
       "      <td>approve</td>\n",
       "    </tr>\n",
       "    <tr>\n",
       "      <th>1</th>\n",
       "      <td>2012</td>\n",
       "      <td>6</td>\n",
       "      <td>50</td>\n",
       "      <td>middle atlantic</td>\n",
       "      <td>24</td>\n",
       "      <td>strong democrat</td>\n",
       "      <td>disapprove</td>\n",
       "    </tr>\n",
       "    <tr>\n",
       "      <th>2</th>\n",
       "      <td>2012</td>\n",
       "      <td>29</td>\n",
       "      <td>81</td>\n",
       "      <td>middle atlantic</td>\n",
       "      <td>17</td>\n",
       "      <td>strong democrat</td>\n",
       "      <td>approve</td>\n",
       "    </tr>\n",
       "  </tbody>\n",
       "</table>\n",
       "</div>"
      ],
      "text/plain": [
       "   year  id  age region_of_interview  size            party pres_approval\n",
       "0  2012   5   70     middle atlantic    24  strong democrat       approve\n",
       "1  2012   6   50     middle atlantic    24  strong democrat    disapprove\n",
       "2  2012  29   81     middle atlantic    17  strong democrat       approve"
      ]
     },
     "execution_count": 286,
     "metadata": {},
     "output_type": "execute_result"
    }
   ],
   "source": [
    "# Print the first 3 rows\n",
    "df.head(3) "
   ]
  },
  {
   "cell_type": "code",
   "execution_count": 287,
   "metadata": {},
   "outputs": [
    {
     "data": {
      "text/html": [
       "<div>\n",
       "<style scoped>\n",
       "    .dataframe tbody tr th:only-of-type {\n",
       "        vertical-align: middle;\n",
       "    }\n",
       "\n",
       "    .dataframe tbody tr th {\n",
       "        vertical-align: top;\n",
       "    }\n",
       "\n",
       "    .dataframe thead th {\n",
       "        text-align: right;\n",
       "    }\n",
       "</style>\n",
       "<table border=\"1\" class=\"dataframe\">\n",
       "  <thead>\n",
       "    <tr style=\"text-align: right;\">\n",
       "      <th></th>\n",
       "      <th>year</th>\n",
       "      <th>id</th>\n",
       "      <th>age</th>\n",
       "      <th>region_of_interview</th>\n",
       "      <th>size</th>\n",
       "      <th>party</th>\n",
       "      <th>pres_approval</th>\n",
       "    </tr>\n",
       "  </thead>\n",
       "  <tbody>\n",
       "    <tr>\n",
       "      <th>334</th>\n",
       "      <td>2012</td>\n",
       "      <td>1951</td>\n",
       "      <td>40</td>\n",
       "      <td>new england</td>\n",
       "      <td>6</td>\n",
       "      <td>strong democrat</td>\n",
       "      <td>approve</td>\n",
       "    </tr>\n",
       "    <tr>\n",
       "      <th>335</th>\n",
       "      <td>2012</td>\n",
       "      <td>1957</td>\n",
       "      <td>42</td>\n",
       "      <td>new england</td>\n",
       "      <td>2</td>\n",
       "      <td>strong democrat</td>\n",
       "      <td>approve</td>\n",
       "    </tr>\n",
       "    <tr>\n",
       "      <th>336</th>\n",
       "      <td>2012</td>\n",
       "      <td>1965</td>\n",
       "      <td>65</td>\n",
       "      <td>new england</td>\n",
       "      <td>1</td>\n",
       "      <td>strong democrat</td>\n",
       "      <td>approve</td>\n",
       "    </tr>\n",
       "    <tr>\n",
       "      <th>337</th>\n",
       "      <td>2012</td>\n",
       "      <td>1967</td>\n",
       "      <td>69</td>\n",
       "      <td>new england</td>\n",
       "      <td>1</td>\n",
       "      <td>strong republican</td>\n",
       "      <td>approve</td>\n",
       "    </tr>\n",
       "  </tbody>\n",
       "</table>\n",
       "</div>"
      ],
      "text/plain": [
       "     year    id  age region_of_interview  size              party  \\\n",
       "334  2012  1951   40         new england     6    strong democrat   \n",
       "335  2012  1957   42         new england     2    strong democrat   \n",
       "336  2012  1965   65         new england     1    strong democrat   \n",
       "337  2012  1967   69         new england     1  strong republican   \n",
       "\n",
       "    pres_approval  \n",
       "334       approve  \n",
       "335       approve  \n",
       "336       approve  \n",
       "337       approve  "
      ]
     },
     "execution_count": 287,
     "metadata": {},
     "output_type": "execute_result"
    }
   ],
   "source": [
    "# Print the last 4 rows\n",
    "df.tail(4) "
   ]
  },
  {
   "cell_type": "markdown",
   "metadata": {},
   "source": [
    "#### Display the Row Names, Column Names, and the Underlying Data"
   ]
  },
  {
   "cell_type": "code",
   "execution_count": 288,
   "metadata": {},
   "outputs": [
    {
     "data": {
      "text/plain": [
       "RangeIndex(start=0, stop=338, step=1)"
      ]
     },
     "execution_count": 288,
     "metadata": {},
     "output_type": "execute_result"
    }
   ],
   "source": [
    "# display the row names, which are called indices\n",
    "df.index\n",
    "# in this example, the row names are \n",
    "# just the integer row numbers, \n",
    "# of course using 0-indexing!"
   ]
  },
  {
   "cell_type": "code",
   "execution_count": 289,
   "metadata": {},
   "outputs": [
    {
     "data": {
      "text/plain": [
       "Index(['year', 'id', 'age', 'region_of_interview', 'size', 'party',\n",
       "       'pres_approval'],\n",
       "      dtype='object')"
      ]
     },
     "execution_count": 289,
     "metadata": {},
     "output_type": "execute_result"
    }
   ],
   "source": [
    "# display the column names\n",
    "df.columns"
   ]
  },
  {
   "cell_type": "code",
   "execution_count": 290,
   "metadata": {},
   "outputs": [
    {
     "data": {
      "text/plain": [
       "array([[2012, 5, 70, ..., 24, 'strong democrat', 'approve'],\n",
       "       [2012, 6, 50, ..., 24, 'strong democrat', 'disapprove'],\n",
       "       [2012, 29, 81, ..., 17, 'strong democrat', 'approve'],\n",
       "       ...,\n",
       "       [2012, 1957, 42, ..., 2, 'strong democrat', 'approve'],\n",
       "       [2012, 1965, 65, ..., 1, 'strong democrat', 'approve'],\n",
       "       [2012, 1967, 69, ..., 1, 'strong republican', 'approve']],\n",
       "      dtype=object)"
      ]
     },
     "execution_count": 290,
     "metadata": {},
     "output_type": "execute_result"
    }
   ],
   "source": [
    "# display the rows\n",
    "df.values"
   ]
  },
  {
   "cell_type": "markdown",
   "metadata": {},
   "source": [
    "#### Select a Column Using `dataframename[  'columnname'  ]`"
   ]
  },
  {
   "cell_type": "code",
   "execution_count": 291,
   "metadata": {},
   "outputs": [
    {
     "data": {
      "text/plain": [
       "0    middle atlantic\n",
       "1    middle atlantic\n",
       "2    middle atlantic\n",
       "3    middle atlantic\n",
       "4    middle atlantic\n",
       "Name: region_of_interview, dtype: object"
      ]
     },
     "execution_count": 291,
     "metadata": {},
     "output_type": "execute_result"
    }
   ],
   "source": [
    "df[ 'region_of_interview' ].head()\n",
    "# here .head() was included for readability of output"
   ]
  },
  {
   "cell_type": "markdown",
   "metadata": {},
   "source": [
    "#### Select a Column Using `dataframename.columnname`"
   ]
  },
  {
   "cell_type": "code",
   "execution_count": 292,
   "metadata": {
    "scrolled": true
   },
   "outputs": [
    {
     "data": {
      "text/plain": [
       "0    middle atlantic\n",
       "1    middle atlantic\n",
       "2    middle atlantic\n",
       "3    middle atlantic\n",
       "4    middle atlantic\n",
       "Name: region_of_interview, dtype: object"
      ]
     },
     "execution_count": 292,
     "metadata": {},
     "output_type": "execute_result"
    }
   ],
   "source": [
    "df.region_of_interview.head()\n",
    "# here .head() was included for readability of output"
   ]
  },
  {
   "cell_type": "markdown",
   "metadata": {},
   "source": [
    "#### Select Multiple Columns with `df[  [listof'colnames']  ]`"
   ]
  },
  {
   "cell_type": "code",
   "execution_count": 293,
   "metadata": {},
   "outputs": [
    {
     "data": {
      "text/html": [
       "<div>\n",
       "<style scoped>\n",
       "    .dataframe tbody tr th:only-of-type {\n",
       "        vertical-align: middle;\n",
       "    }\n",
       "\n",
       "    .dataframe tbody tr th {\n",
       "        vertical-align: top;\n",
       "    }\n",
       "\n",
       "    .dataframe thead th {\n",
       "        text-align: right;\n",
       "    }\n",
       "</style>\n",
       "<table border=\"1\" class=\"dataframe\">\n",
       "  <thead>\n",
       "    <tr style=\"text-align: right;\">\n",
       "      <th></th>\n",
       "      <th>region_of_interview</th>\n",
       "      <th>age</th>\n",
       "    </tr>\n",
       "  </thead>\n",
       "  <tbody>\n",
       "    <tr>\n",
       "      <th>0</th>\n",
       "      <td>middle atlantic</td>\n",
       "      <td>70</td>\n",
       "    </tr>\n",
       "    <tr>\n",
       "      <th>1</th>\n",
       "      <td>middle atlantic</td>\n",
       "      <td>50</td>\n",
       "    </tr>\n",
       "    <tr>\n",
       "      <th>2</th>\n",
       "      <td>middle atlantic</td>\n",
       "      <td>81</td>\n",
       "    </tr>\n",
       "    <tr>\n",
       "      <th>3</th>\n",
       "      <td>middle atlantic</td>\n",
       "      <td>63</td>\n",
       "    </tr>\n",
       "    <tr>\n",
       "      <th>4</th>\n",
       "      <td>middle atlantic</td>\n",
       "      <td>73</td>\n",
       "    </tr>\n",
       "  </tbody>\n",
       "</table>\n",
       "</div>"
      ],
      "text/plain": [
       "  region_of_interview  age\n",
       "0     middle atlantic   70\n",
       "1     middle atlantic   50\n",
       "2     middle atlantic   81\n",
       "3     middle atlantic   63\n",
       "4     middle atlantic   73"
      ]
     },
     "execution_count": 293,
     "metadata": {},
     "output_type": "execute_result"
    }
   ],
   "source": [
    "df[ ['region_of_interview','age']  ].head()"
   ]
  },
  {
   "cell_type": "markdown",
   "metadata": {},
   "source": [
    "#### Select a Row Based on a Unique Identifier or Characteristic"
   ]
  },
  {
   "cell_type": "markdown",
   "metadata": {},
   "source": [
    "Display the row with `id` number 797, not row number 797. **NOTE:** This is the recommended way to find a row, instead of trying to index in using a row number.  "
   ]
  },
  {
   "cell_type": "code",
   "execution_count": 294,
   "metadata": {},
   "outputs": [
    {
     "data": {
      "text/html": [
       "<div>\n",
       "<style scoped>\n",
       "    .dataframe tbody tr th:only-of-type {\n",
       "        vertical-align: middle;\n",
       "    }\n",
       "\n",
       "    .dataframe tbody tr th {\n",
       "        vertical-align: top;\n",
       "    }\n",
       "\n",
       "    .dataframe thead th {\n",
       "        text-align: right;\n",
       "    }\n",
       "</style>\n",
       "<table border=\"1\" class=\"dataframe\">\n",
       "  <thead>\n",
       "    <tr style=\"text-align: right;\">\n",
       "      <th></th>\n",
       "      <th>year</th>\n",
       "      <th>id</th>\n",
       "      <th>age</th>\n",
       "      <th>region_of_interview</th>\n",
       "      <th>size</th>\n",
       "      <th>party</th>\n",
       "      <th>pres_approval</th>\n",
       "    </tr>\n",
       "  </thead>\n",
       "  <tbody>\n",
       "    <tr>\n",
       "      <th>132</th>\n",
       "      <td>2012</td>\n",
       "      <td>797</td>\n",
       "      <td>51</td>\n",
       "      <td>pacific</td>\n",
       "      <td>466</td>\n",
       "      <td>strong republican</td>\n",
       "      <td>disapprove</td>\n",
       "    </tr>\n",
       "  </tbody>\n",
       "</table>\n",
       "</div>"
      ],
      "text/plain": [
       "     year   id  age region_of_interview  size              party pres_approval\n",
       "132  2012  797   51             pacific   466  strong republican    disapprove"
      ]
     },
     "execution_count": 294,
     "metadata": {},
     "output_type": "execute_result"
    }
   ],
   "source": [
    "df[ df.id==797 ]\n",
    "# or\n",
    "df[ df['id']==797 ]"
   ]
  },
  {
   "cell_type": "markdown",
   "metadata": {},
   "source": [
    "####  Obtain the Sub DataFrame of Rows that Satisfy a Condition Using `dataframename[ BooleanCondition ] `"
   ]
  },
  {
   "cell_type": "code",
   "execution_count": 295,
   "metadata": {},
   "outputs": [
    {
     "data": {
      "text/html": [
       "<div>\n",
       "<style scoped>\n",
       "    .dataframe tbody tr th:only-of-type {\n",
       "        vertical-align: middle;\n",
       "    }\n",
       "\n",
       "    .dataframe tbody tr th {\n",
       "        vertical-align: top;\n",
       "    }\n",
       "\n",
       "    .dataframe thead th {\n",
       "        text-align: right;\n",
       "    }\n",
       "</style>\n",
       "<table border=\"1\" class=\"dataframe\">\n",
       "  <thead>\n",
       "    <tr style=\"text-align: right;\">\n",
       "      <th></th>\n",
       "      <th>year</th>\n",
       "      <th>id</th>\n",
       "      <th>age</th>\n",
       "      <th>region_of_interview</th>\n",
       "      <th>size</th>\n",
       "      <th>party</th>\n",
       "      <th>pres_approval</th>\n",
       "    </tr>\n",
       "  </thead>\n",
       "  <tbody>\n",
       "    <tr>\n",
       "      <th>0</th>\n",
       "      <td>2012</td>\n",
       "      <td>5</td>\n",
       "      <td>70</td>\n",
       "      <td>middle atlantic</td>\n",
       "      <td>24</td>\n",
       "      <td>strong democrat</td>\n",
       "      <td>approve</td>\n",
       "    </tr>\n",
       "    <tr>\n",
       "      <th>2</th>\n",
       "      <td>2012</td>\n",
       "      <td>29</td>\n",
       "      <td>81</td>\n",
       "      <td>middle atlantic</td>\n",
       "      <td>17</td>\n",
       "      <td>strong democrat</td>\n",
       "      <td>approve</td>\n",
       "    </tr>\n",
       "    <tr>\n",
       "      <th>3</th>\n",
       "      <td>2012</td>\n",
       "      <td>32</td>\n",
       "      <td>63</td>\n",
       "      <td>middle atlantic</td>\n",
       "      <td>43</td>\n",
       "      <td>strong democrat</td>\n",
       "      <td>approve</td>\n",
       "    </tr>\n",
       "  </tbody>\n",
       "</table>\n",
       "</div>"
      ],
      "text/plain": [
       "   year  id  age region_of_interview  size            party pres_approval\n",
       "0  2012   5   70     middle atlantic    24  strong democrat       approve\n",
       "2  2012  29   81     middle atlantic    17  strong democrat       approve\n",
       "3  2012  32   63     middle atlantic    43  strong democrat       approve"
      ]
     },
     "execution_count": 295,
     "metadata": {},
     "output_type": "execute_result"
    }
   ],
   "source": [
    "# Take the sub dataframe of only those who approved \n",
    "df_only_approve = df[ df.pres_approval == 'approve' ]\n",
    "# or\n",
    "df_only_approve = df[ df['pres_approval'] == 'approve' ]\n",
    "\n",
    "df_only_approve.head(3)"
   ]
  },
  {
   "cell_type": "markdown",
   "metadata": {},
   "source": [
    "How can we count the number of participants who indicated 'Approve'?"
   ]
  },
  {
   "cell_type": "code",
   "execution_count": 296,
   "metadata": {
    "scrolled": true
   },
   "outputs": [
    {
     "data": {
      "text/plain": [
       "(203, 7)"
      ]
     },
     "execution_count": 296,
     "metadata": {},
     "output_type": "execute_result"
    }
   ],
   "source": [
    "df_only_approve.shape"
   ]
  },
  {
   "cell_type": "code",
   "execution_count": 297,
   "metadata": {},
   "outputs": [
    {
     "data": {
      "text/html": [
       "<div>\n",
       "<style scoped>\n",
       "    .dataframe tbody tr th:only-of-type {\n",
       "        vertical-align: middle;\n",
       "    }\n",
       "\n",
       "    .dataframe tbody tr th {\n",
       "        vertical-align: top;\n",
       "    }\n",
       "\n",
       "    .dataframe thead th {\n",
       "        text-align: right;\n",
       "    }\n",
       "</style>\n",
       "<table border=\"1\" class=\"dataframe\">\n",
       "  <thead>\n",
       "    <tr style=\"text-align: right;\">\n",
       "      <th></th>\n",
       "      <th>year</th>\n",
       "      <th>id</th>\n",
       "      <th>age</th>\n",
       "      <th>region_of_interview</th>\n",
       "      <th>size</th>\n",
       "      <th>party</th>\n",
       "      <th>pres_approval</th>\n",
       "    </tr>\n",
       "  </thead>\n",
       "  <tbody>\n",
       "    <tr>\n",
       "      <th>63</th>\n",
       "      <td>2012</td>\n",
       "      <td>431</td>\n",
       "      <td>87</td>\n",
       "      <td>w. sou. central</td>\n",
       "      <td>1198</td>\n",
       "      <td>strong republican</td>\n",
       "      <td>disapprove</td>\n",
       "    </tr>\n",
       "    <tr>\n",
       "      <th>89</th>\n",
       "      <td>2012</td>\n",
       "      <td>558</td>\n",
       "      <td>86</td>\n",
       "      <td>south atlantic</td>\n",
       "      <td>166</td>\n",
       "      <td>strong democrat</td>\n",
       "      <td>approve</td>\n",
       "    </tr>\n",
       "    <tr>\n",
       "      <th>290</th>\n",
       "      <td>2012</td>\n",
       "      <td>1709</td>\n",
       "      <td>88</td>\n",
       "      <td>mountain</td>\n",
       "      <td>26</td>\n",
       "      <td>strong republican</td>\n",
       "      <td>disapprove</td>\n",
       "    </tr>\n",
       "  </tbody>\n",
       "</table>\n",
       "</div>"
      ],
      "text/plain": [
       "     year    id  age region_of_interview  size              party  \\\n",
       "63   2012   431   87     w. sou. central  1198  strong republican   \n",
       "89   2012   558   86      south atlantic   166    strong democrat   \n",
       "290  2012  1709   88            mountain    26  strong republican   \n",
       "\n",
       "    pres_approval  \n",
       "63     disapprove  \n",
       "89        approve  \n",
       "290    disapprove  "
      ]
     },
     "execution_count": 297,
     "metadata": {},
     "output_type": "execute_result"
    }
   ],
   "source": [
    "# Take the sub dataframe of those over 85\n",
    "df[ df.age>85 ]\n",
    "# or\n",
    "df[ df['age']>85 ]"
   ]
  },
  {
   "cell_type": "markdown",
   "metadata": {},
   "source": [
    "#### Select Entry of Sub DataFrame Using Matrix-like Notation withnames `dataframename.loc[\"rowname\",\"columnname\"]` "
   ]
  },
  {
   "cell_type": "code",
   "execution_count": 298,
   "metadata": {},
   "outputs": [
    {
     "data": {
      "text/plain": [
       "70"
      ]
     },
     "execution_count": 298,
     "metadata": {},
     "output_type": "execute_result"
    }
   ],
   "source": [
    "# dataframename.loc[\"rowname\",\"columnname\"]\n",
    "df.loc[0,'age'] # notice loc without i\n",
    "# in this example the rownames are the integer row numbers"
   ]
  },
  {
   "cell_type": "markdown",
   "metadata": {},
   "source": [
    "#### Sort the Rows in Order by Values in a Designated Column: Ascending or Descending"
   ]
  },
  {
   "cell_type": "code",
   "execution_count": 299,
   "metadata": {},
   "outputs": [
    {
     "data": {
      "text/html": [
       "<div>\n",
       "<style scoped>\n",
       "    .dataframe tbody tr th:only-of-type {\n",
       "        vertical-align: middle;\n",
       "    }\n",
       "\n",
       "    .dataframe tbody tr th {\n",
       "        vertical-align: top;\n",
       "    }\n",
       "\n",
       "    .dataframe thead th {\n",
       "        text-align: right;\n",
       "    }\n",
       "</style>\n",
       "<table border=\"1\" class=\"dataframe\">\n",
       "  <thead>\n",
       "    <tr style=\"text-align: right;\">\n",
       "      <th></th>\n",
       "      <th>year</th>\n",
       "      <th>id</th>\n",
       "      <th>age</th>\n",
       "      <th>region_of_interview</th>\n",
       "      <th>size</th>\n",
       "      <th>party</th>\n",
       "      <th>pres_approval</th>\n",
       "    </tr>\n",
       "  </thead>\n",
       "  <tbody>\n",
       "    <tr>\n",
       "      <th>285</th>\n",
       "      <td>2012</td>\n",
       "      <td>1679</td>\n",
       "      <td>18</td>\n",
       "      <td>pacific</td>\n",
       "      <td>1</td>\n",
       "      <td>strong democrat</td>\n",
       "      <td>approve</td>\n",
       "    </tr>\n",
       "    <tr>\n",
       "      <th>200</th>\n",
       "      <td>2012</td>\n",
       "      <td>1187</td>\n",
       "      <td>19</td>\n",
       "      <td>south atlantic</td>\n",
       "      <td>67</td>\n",
       "      <td>strong republican</td>\n",
       "      <td>disapprove</td>\n",
       "    </tr>\n",
       "    <tr>\n",
       "      <th>159</th>\n",
       "      <td>2012</td>\n",
       "      <td>963</td>\n",
       "      <td>19</td>\n",
       "      <td>e. nor. central</td>\n",
       "      <td>40</td>\n",
       "      <td>strong republican</td>\n",
       "      <td>disapprove</td>\n",
       "    </tr>\n",
       "    <tr>\n",
       "      <th>32</th>\n",
       "      <td>2012</td>\n",
       "      <td>202</td>\n",
       "      <td>20</td>\n",
       "      <td>pacific</td>\n",
       "      <td>23</td>\n",
       "      <td>strong democrat</td>\n",
       "      <td>approve</td>\n",
       "    </tr>\n",
       "  </tbody>\n",
       "</table>\n",
       "</div>"
      ],
      "text/plain": [
       "     year    id  age region_of_interview  size              party  \\\n",
       "285  2012  1679   18             pacific     1    strong democrat   \n",
       "200  2012  1187   19      south atlantic    67  strong republican   \n",
       "159  2012   963   19     e. nor. central    40  strong republican   \n",
       "32   2012   202   20             pacific    23    strong democrat   \n",
       "\n",
       "    pres_approval  \n",
       "285       approve  \n",
       "200    disapprove  \n",
       "159    disapprove  \n",
       "32        approve  "
      ]
     },
     "execution_count": 299,
     "metadata": {},
     "output_type": "execute_result"
    }
   ],
   "source": [
    "# Ascending order is default\n",
    "df_sorted_by_age = df.sort_values(by='age')   \n",
    "df_sorted_by_age.head(4) \n",
    "# The original dataframe is unchanged!\n",
    "# Like the others, this does not sort \"in place\". \n",
    "# Rows with missing values in the sorting variable\n",
    "# are at the end. "
   ]
  },
  {
   "cell_type": "code",
   "execution_count": 300,
   "metadata": {
    "scrolled": true
   },
   "outputs": [
    {
     "data": {
      "text/html": [
       "<div>\n",
       "<style scoped>\n",
       "    .dataframe tbody tr th:only-of-type {\n",
       "        vertical-align: middle;\n",
       "    }\n",
       "\n",
       "    .dataframe tbody tr th {\n",
       "        vertical-align: top;\n",
       "    }\n",
       "\n",
       "    .dataframe thead th {\n",
       "        text-align: right;\n",
       "    }\n",
       "</style>\n",
       "<table border=\"1\" class=\"dataframe\">\n",
       "  <thead>\n",
       "    <tr style=\"text-align: right;\">\n",
       "      <th></th>\n",
       "      <th>year</th>\n",
       "      <th>id</th>\n",
       "      <th>age</th>\n",
       "      <th>region_of_interview</th>\n",
       "      <th>size</th>\n",
       "      <th>party</th>\n",
       "      <th>pres_approval</th>\n",
       "    </tr>\n",
       "  </thead>\n",
       "  <tbody>\n",
       "    <tr>\n",
       "      <th>290</th>\n",
       "      <td>2012</td>\n",
       "      <td>1709</td>\n",
       "      <td>88</td>\n",
       "      <td>mountain</td>\n",
       "      <td>26</td>\n",
       "      <td>strong republican</td>\n",
       "      <td>disapprove</td>\n",
       "    </tr>\n",
       "    <tr>\n",
       "      <th>63</th>\n",
       "      <td>2012</td>\n",
       "      <td>431</td>\n",
       "      <td>87</td>\n",
       "      <td>w. sou. central</td>\n",
       "      <td>1198</td>\n",
       "      <td>strong republican</td>\n",
       "      <td>disapprove</td>\n",
       "    </tr>\n",
       "    <tr>\n",
       "      <th>89</th>\n",
       "      <td>2012</td>\n",
       "      <td>558</td>\n",
       "      <td>86</td>\n",
       "      <td>south atlantic</td>\n",
       "      <td>166</td>\n",
       "      <td>strong democrat</td>\n",
       "      <td>approve</td>\n",
       "    </tr>\n",
       "    <tr>\n",
       "      <th>214</th>\n",
       "      <td>2012</td>\n",
       "      <td>1242</td>\n",
       "      <td>84</td>\n",
       "      <td>e. sou. central</td>\n",
       "      <td>22</td>\n",
       "      <td>strong republican</td>\n",
       "      <td>disapprove</td>\n",
       "    </tr>\n",
       "  </tbody>\n",
       "</table>\n",
       "</div>"
      ],
      "text/plain": [
       "     year    id  age region_of_interview  size              party  \\\n",
       "290  2012  1709   88            mountain    26  strong republican   \n",
       "63   2012   431   87     w. sou. central  1198  strong republican   \n",
       "89   2012   558   86      south atlantic   166    strong democrat   \n",
       "214  2012  1242   84     e. sou. central    22  strong republican   \n",
       "\n",
       "    pres_approval  \n",
       "290    disapprove  \n",
       "63     disapprove  \n",
       "89        approve  \n",
       "214    disapprove  "
      ]
     },
     "execution_count": 300,
     "metadata": {},
     "output_type": "execute_result"
    }
   ],
   "source": [
    "# Descending order is an option\n",
    "df_sorted_by_age = df.sort_values(by='age', ascending=False)\n",
    "df_sorted_by_age.head(4)\n",
    "# The original dataframe is unchanged!\n",
    "# Like the others, does not sort \"in place\". \n",
    "# Rows with missing values in the sorting variable\n",
    "# are at the end. "
   ]
  },
  {
   "cell_type": "markdown",
   "metadata": {},
   "source": [
    "### How to Merge Two DataFrames Using `merge`\n"
   ]
  },
  {
   "cell_type": "code",
   "execution_count": 301,
   "metadata": {},
   "outputs": [],
   "source": [
    "if False:# ignore \"if False\", don't indent following when you use it\n",
    "    \n",
    "    dataframename1.merge(dataframename2, on='columnname')"
   ]
  },
  {
   "cell_type": "markdown",
   "metadata": {},
   "source": [
    "**Important parameter in `merge`: how = {'left', 'right', 'outer', 'inner'}**\n",
    " \n",
    "**inner** (*default*): use intersection of keys from both frames, similar to a SQL inner join; preserve the order of the left keys\n",
    " \n",
    "**outer**: use union of keys from both frames, similar to a SQL full outer join; sort keys lexicographically\n",
    " \n",
    "**left**: use only keys from left frame, similar to a SQL left outer join; preserve key order\n",
    "\n",
    "**right**: use only keys from right frame, similar to a SQL right outer join; preserve key order"
   ]
  },
  {
   "cell_type": "markdown",
   "metadata": {},
   "source": [
    "### Missing data: Identifying Missing Data and Options to Handle Missing Data\n",
    "\n",
    "### Warning: Be Careful about Removing Rows/Columns with Missing Data! Consult with the  Experimenters. Determine if there is a pattern or missing at random, etc. Consult with an expert on data imputation."
   ]
  },
  {
   "cell_type": "code",
   "execution_count": 302,
   "metadata": {},
   "outputs": [
    {
     "data": {
      "text/html": [
       "<div>\n",
       "<style scoped>\n",
       "    .dataframe tbody tr th:only-of-type {\n",
       "        vertical-align: middle;\n",
       "    }\n",
       "\n",
       "    .dataframe tbody tr th {\n",
       "        vertical-align: top;\n",
       "    }\n",
       "\n",
       "    .dataframe thead th {\n",
       "        text-align: right;\n",
       "    }\n",
       "</style>\n",
       "<table border=\"1\" class=\"dataframe\">\n",
       "  <thead>\n",
       "    <tr style=\"text-align: right;\">\n",
       "      <th></th>\n",
       "      <th>year</th>\n",
       "      <th>id</th>\n",
       "      <th>age</th>\n",
       "      <th>region_of_interview</th>\n",
       "      <th>size</th>\n",
       "      <th>party</th>\n",
       "      <th>pres_approval</th>\n",
       "    </tr>\n",
       "  </thead>\n",
       "  <tbody>\n",
       "    <tr>\n",
       "      <th>336</th>\n",
       "      <td>2012.0</td>\n",
       "      <td>1957.0</td>\n",
       "      <td>42</td>\n",
       "      <td>New england</td>\n",
       "      <td>2.0</td>\n",
       "      <td>Strong democrat</td>\n",
       "      <td>Approve</td>\n",
       "    </tr>\n",
       "    <tr>\n",
       "      <th>337</th>\n",
       "      <td>2012.0</td>\n",
       "      <td>1965.0</td>\n",
       "      <td>65</td>\n",
       "      <td>New england</td>\n",
       "      <td>1.0</td>\n",
       "      <td>Strong democrat</td>\n",
       "      <td>Approve</td>\n",
       "    </tr>\n",
       "    <tr>\n",
       "      <th>338</th>\n",
       "      <td>2012.0</td>\n",
       "      <td>1967.0</td>\n",
       "      <td>69</td>\n",
       "      <td>New england</td>\n",
       "      <td>1.0</td>\n",
       "      <td>Strong republican</td>\n",
       "      <td>Approve</td>\n",
       "    </tr>\n",
       "    <tr>\n",
       "      <th>339</th>\n",
       "      <td>NaN</td>\n",
       "      <td>NaN</td>\n",
       "      <td>NaN</td>\n",
       "      <td>NaN</td>\n",
       "      <td>NaN</td>\n",
       "      <td>NaN</td>\n",
       "      <td>NaN</td>\n",
       "    </tr>\n",
       "    <tr>\n",
       "      <th>340</th>\n",
       "      <td>NaN</td>\n",
       "      <td>NaN</td>\n",
       "      <td>NaN</td>\n",
       "      <td>NaN</td>\n",
       "      <td>NaN</td>\n",
       "      <td>NaN</td>\n",
       "      <td>NaN</td>\n",
       "    </tr>\n",
       "  </tbody>\n",
       "</table>\n",
       "</div>"
      ],
      "text/plain": [
       "     year                    id  age region_of_interview  size  \\\n",
       "336              2012.0  1957.0   42         New england   2.0   \n",
       "337              2012.0  1965.0   65         New england   1.0   \n",
       "338              2012.0  1967.0   69         New england   1.0   \n",
       "339                 NaN     NaN  NaN                 NaN   NaN   \n",
       "340                 NaN     NaN  NaN                 NaN   NaN   \n",
       "\n",
       "                 party pres_approval  \n",
       "336    Strong democrat       Approve  \n",
       "337    Strong democrat       Approve  \n",
       "338  Strong republican       Approve  \n",
       "339                NaN           NaN  \n",
       "340                NaN           NaN  "
      ]
     },
     "execution_count": 302,
     "metadata": {},
     "output_type": "execute_result"
    }
   ],
   "source": [
    "# Read in the original NOT PRE-CLEANED example file\n",
    "df_original = pd.read_csv('GSS2012Extract_PresApproval_StrongPartyAffiliation.csv', sep = ',')\n",
    "df_original.tail()"
   ]
  },
  {
   "cell_type": "markdown",
   "metadata": {},
   "source": [
    "####  Check whether there is missing data"
   ]
  },
  {
   "cell_type": "code",
   "execution_count": 303,
   "metadata": {
    "scrolled": true
   },
   "outputs": [
    {
     "data": {
      "text/plain": [
       "year                   2\n",
       "id                     2\n",
       "age                    2\n",
       "region_of_interview    2\n",
       "size                   2\n",
       "party                  2\n",
       "pres_approval          2\n",
       "dtype: int64"
      ]
     },
     "execution_count": 303,
     "metadata": {},
     "output_type": "execute_result"
    }
   ],
   "source": [
    "df_original.isnull().sum()"
   ]
  },
  {
   "cell_type": "markdown",
   "metadata": {},
   "source": [
    "#### Option 1: Drop All Rows with Any Missing Data"
   ]
  },
  {
   "cell_type": "code",
   "execution_count": 304,
   "metadata": {},
   "outputs": [
    {
     "data": {
      "text/html": [
       "<div>\n",
       "<style scoped>\n",
       "    .dataframe tbody tr th:only-of-type {\n",
       "        vertical-align: middle;\n",
       "    }\n",
       "\n",
       "    .dataframe tbody tr th {\n",
       "        vertical-align: top;\n",
       "    }\n",
       "\n",
       "    .dataframe thead th {\n",
       "        text-align: right;\n",
       "    }\n",
       "</style>\n",
       "<table border=\"1\" class=\"dataframe\">\n",
       "  <thead>\n",
       "    <tr style=\"text-align: right;\">\n",
       "      <th></th>\n",
       "      <th>year</th>\n",
       "      <th>id</th>\n",
       "      <th>age</th>\n",
       "      <th>region_of_interview</th>\n",
       "      <th>size</th>\n",
       "      <th>party</th>\n",
       "      <th>pres_approval</th>\n",
       "    </tr>\n",
       "  </thead>\n",
       "  <tbody>\n",
       "    <tr>\n",
       "      <th>336</th>\n",
       "      <td>2012.0</td>\n",
       "      <td>1957.0</td>\n",
       "      <td>42</td>\n",
       "      <td>New england</td>\n",
       "      <td>2.0</td>\n",
       "      <td>Strong democrat</td>\n",
       "      <td>Approve</td>\n",
       "    </tr>\n",
       "    <tr>\n",
       "      <th>337</th>\n",
       "      <td>2012.0</td>\n",
       "      <td>1965.0</td>\n",
       "      <td>65</td>\n",
       "      <td>New england</td>\n",
       "      <td>1.0</td>\n",
       "      <td>Strong democrat</td>\n",
       "      <td>Approve</td>\n",
       "    </tr>\n",
       "    <tr>\n",
       "      <th>338</th>\n",
       "      <td>2012.0</td>\n",
       "      <td>1967.0</td>\n",
       "      <td>69</td>\n",
       "      <td>New england</td>\n",
       "      <td>1.0</td>\n",
       "      <td>Strong republican</td>\n",
       "      <td>Approve</td>\n",
       "    </tr>\n",
       "  </tbody>\n",
       "</table>\n",
       "</div>"
      ],
      "text/plain": [
       "     year                    id age region_of_interview  size  \\\n",
       "336              2012.0  1957.0  42         New england   2.0   \n",
       "337              2012.0  1965.0  65         New england   1.0   \n",
       "338              2012.0  1967.0  69         New england   1.0   \n",
       "\n",
       "                 party pres_approval  \n",
       "336    Strong democrat       Approve  \n",
       "337    Strong democrat       Approve  \n",
       "338  Strong republican       Approve  "
      ]
     },
     "execution_count": 304,
     "metadata": {},
     "output_type": "execute_result"
    }
   ],
   "source": [
    "df_original_droppedrows = df_original.dropna(how='any')\n",
    "df_original_droppedrows.tail(3)"
   ]
  },
  {
   "cell_type": "markdown",
   "metadata": {},
   "source": [
    "#### Option 2: Drop All Columns with Missing Data (not a good option!)"
   ]
  },
  {
   "cell_type": "code",
   "execution_count": 305,
   "metadata": {},
   "outputs": [
    {
     "data": {
      "text/html": [
       "<div>\n",
       "<style scoped>\n",
       "    .dataframe tbody tr th:only-of-type {\n",
       "        vertical-align: middle;\n",
       "    }\n",
       "\n",
       "    .dataframe tbody tr th {\n",
       "        vertical-align: top;\n",
       "    }\n",
       "\n",
       "    .dataframe thead th {\n",
       "        text-align: right;\n",
       "    }\n",
       "</style>\n",
       "<table border=\"1\" class=\"dataframe\">\n",
       "  <thead>\n",
       "    <tr style=\"text-align: right;\">\n",
       "      <th></th>\n",
       "    </tr>\n",
       "  </thead>\n",
       "  <tbody>\n",
       "    <tr>\n",
       "      <th>338</th>\n",
       "    </tr>\n",
       "    <tr>\n",
       "      <th>339</th>\n",
       "    </tr>\n",
       "    <tr>\n",
       "      <th>340</th>\n",
       "    </tr>\n",
       "  </tbody>\n",
       "</table>\n",
       "</div>"
      ],
      "text/plain": [
       "Empty DataFrame\n",
       "Columns: []\n",
       "Index: [338, 339, 340]"
      ]
     },
     "execution_count": 305,
     "metadata": {},
     "output_type": "execute_result"
    }
   ],
   "source": [
    "# axis = 1 denotes that we are referring to a column, not a row\n",
    "df_original_droppedcolumns = df_original.dropna(how='any', axis = 1)\n",
    "df_original_droppedcolumns.tail(3)"
   ]
  },
  {
   "cell_type": "markdown",
   "metadata": {},
   "source": [
    "####  Option 3: Fill in ALL missing data with a single value"
   ]
  },
  {
   "cell_type": "code",
   "execution_count": 306,
   "metadata": {
    "scrolled": true
   },
   "outputs": [
    {
     "data": {
      "text/html": [
       "<div>\n",
       "<style scoped>\n",
       "    .dataframe tbody tr th:only-of-type {\n",
       "        vertical-align: middle;\n",
       "    }\n",
       "\n",
       "    .dataframe tbody tr th {\n",
       "        vertical-align: top;\n",
       "    }\n",
       "\n",
       "    .dataframe thead th {\n",
       "        text-align: right;\n",
       "    }\n",
       "</style>\n",
       "<table border=\"1\" class=\"dataframe\">\n",
       "  <thead>\n",
       "    <tr style=\"text-align: right;\">\n",
       "      <th></th>\n",
       "      <th>year</th>\n",
       "      <th>id</th>\n",
       "      <th>age</th>\n",
       "      <th>region_of_interview</th>\n",
       "      <th>size</th>\n",
       "      <th>party</th>\n",
       "      <th>pres_approval</th>\n",
       "    </tr>\n",
       "  </thead>\n",
       "  <tbody>\n",
       "    <tr>\n",
       "      <th>336</th>\n",
       "      <td>2012.0</td>\n",
       "      <td>1957.0</td>\n",
       "      <td>42</td>\n",
       "      <td>New england</td>\n",
       "      <td>2.0</td>\n",
       "      <td>Strong democrat</td>\n",
       "      <td>Approve</td>\n",
       "    </tr>\n",
       "    <tr>\n",
       "      <th>337</th>\n",
       "      <td>2012.0</td>\n",
       "      <td>1965.0</td>\n",
       "      <td>65</td>\n",
       "      <td>New england</td>\n",
       "      <td>1.0</td>\n",
       "      <td>Strong democrat</td>\n",
       "      <td>Approve</td>\n",
       "    </tr>\n",
       "    <tr>\n",
       "      <th>338</th>\n",
       "      <td>2012.0</td>\n",
       "      <td>1967.0</td>\n",
       "      <td>69</td>\n",
       "      <td>New england</td>\n",
       "      <td>1.0</td>\n",
       "      <td>Strong republican</td>\n",
       "      <td>Approve</td>\n",
       "    </tr>\n",
       "    <tr>\n",
       "      <th>339</th>\n",
       "      <td>0.0</td>\n",
       "      <td>0.0</td>\n",
       "      <td>0</td>\n",
       "      <td>0</td>\n",
       "      <td>0.0</td>\n",
       "      <td>0</td>\n",
       "      <td>0</td>\n",
       "    </tr>\n",
       "    <tr>\n",
       "      <th>340</th>\n",
       "      <td>0.0</td>\n",
       "      <td>0.0</td>\n",
       "      <td>0</td>\n",
       "      <td>0</td>\n",
       "      <td>0.0</td>\n",
       "      <td>0</td>\n",
       "      <td>0</td>\n",
       "    </tr>\n",
       "  </tbody>\n",
       "</table>\n",
       "</div>"
      ],
      "text/plain": [
       "     year                    id age region_of_interview  size  \\\n",
       "336              2012.0  1957.0  42         New england   2.0   \n",
       "337              2012.0  1965.0  65         New england   1.0   \n",
       "338              2012.0  1967.0  69         New england   1.0   \n",
       "339                 0.0     0.0   0                   0   0.0   \n",
       "340                 0.0     0.0   0                   0   0.0   \n",
       "\n",
       "                 party pres_approval  \n",
       "336    Strong democrat       Approve  \n",
       "337    Strong democrat       Approve  \n",
       "338  Strong republican       Approve  \n",
       "339                  0             0  \n",
       "340                  0             0  "
      ]
     },
     "execution_count": 306,
     "metadata": {},
     "output_type": "execute_result"
    }
   ],
   "source": [
    "df_original_filled0 = df_original.fillna(value = 0)\n",
    "df_original_filled0.tail()\n",
    "# Dangerous because 0 could be misinterpreted! \n",
    "# Not recommended except for special use cases. \n",
    "# Might want to instead fill in certain entries\n",
    "# with the mean or median of that variable in similar rows, etc."
   ]
  },
  {
   "cell_type": "markdown",
   "metadata": {},
   "source": [
    "#### Option 4: Fill in a value by name location (if you obtained the value, or if you have a reasonable value to fill in with, such as the mean or median of that variable in similar rows)"
   ]
  },
  {
   "cell_type": "code",
   "execution_count": 307,
   "metadata": {
    "scrolled": false
   },
   "outputs": [
    {
     "data": {
      "text/html": [
       "<div>\n",
       "<style scoped>\n",
       "    .dataframe tbody tr th:only-of-type {\n",
       "        vertical-align: middle;\n",
       "    }\n",
       "\n",
       "    .dataframe tbody tr th {\n",
       "        vertical-align: top;\n",
       "    }\n",
       "\n",
       "    .dataframe thead th {\n",
       "        text-align: right;\n",
       "    }\n",
       "</style>\n",
       "<table border=\"1\" class=\"dataframe\">\n",
       "  <thead>\n",
       "    <tr style=\"text-align: right;\">\n",
       "      <th></th>\n",
       "      <th>year</th>\n",
       "      <th>id</th>\n",
       "      <th>age</th>\n",
       "      <th>region_of_interview</th>\n",
       "      <th>size</th>\n",
       "      <th>party</th>\n",
       "      <th>pres_approval</th>\n",
       "    </tr>\n",
       "  </thead>\n",
       "  <tbody>\n",
       "    <tr>\n",
       "      <th>336</th>\n",
       "      <td>2012.0</td>\n",
       "      <td>1957.0</td>\n",
       "      <td>42</td>\n",
       "      <td>New england</td>\n",
       "      <td>2.0</td>\n",
       "      <td>Strong democrat</td>\n",
       "      <td>Approve</td>\n",
       "    </tr>\n",
       "    <tr>\n",
       "      <th>337</th>\n",
       "      <td>2012.0</td>\n",
       "      <td>1965.0</td>\n",
       "      <td>65</td>\n",
       "      <td>New england</td>\n",
       "      <td>1.0</td>\n",
       "      <td>Strong democrat</td>\n",
       "      <td>Approve</td>\n",
       "    </tr>\n",
       "    <tr>\n",
       "      <th>338</th>\n",
       "      <td>2012.0</td>\n",
       "      <td>1967.0</td>\n",
       "      <td>69</td>\n",
       "      <td>New england</td>\n",
       "      <td>1.0</td>\n",
       "      <td>Strong republican</td>\n",
       "      <td>Approve</td>\n",
       "    </tr>\n",
       "    <tr>\n",
       "      <th>339</th>\n",
       "      <td>NaN</td>\n",
       "      <td>NaN</td>\n",
       "      <td>55</td>\n",
       "      <td>NaN</td>\n",
       "      <td>NaN</td>\n",
       "      <td>NaN</td>\n",
       "      <td>NaN</td>\n",
       "    </tr>\n",
       "    <tr>\n",
       "      <th>340</th>\n",
       "      <td>NaN</td>\n",
       "      <td>NaN</td>\n",
       "      <td>NaN</td>\n",
       "      <td>NaN</td>\n",
       "      <td>NaN</td>\n",
       "      <td>NaN</td>\n",
       "      <td>NaN</td>\n",
       "    </tr>\n",
       "  </tbody>\n",
       "</table>\n",
       "</div>"
      ],
      "text/plain": [
       "     year                    id  age region_of_interview  size  \\\n",
       "336              2012.0  1957.0   42         New england   2.0   \n",
       "337              2012.0  1965.0   65         New england   1.0   \n",
       "338              2012.0  1967.0   69         New england   1.0   \n",
       "339                 NaN     NaN   55                 NaN   NaN   \n",
       "340                 NaN     NaN  NaN                 NaN   NaN   \n",
       "\n",
       "                 party pres_approval  \n",
       "336    Strong democrat       Approve  \n",
       "337    Strong democrat       Approve  \n",
       "338  Strong republican       Approve  \n",
       "339                NaN           NaN  \n",
       "340                NaN           NaN  "
      ]
     },
     "execution_count": 307,
     "metadata": {},
     "output_type": "execute_result"
    }
   ],
   "source": [
    "df_original.loc[339, 'age'] = 55\n",
    "df_original.tail()"
   ]
  },
  {
   "cell_type": "markdown",
   "metadata": {},
   "source": [
    "**Tip**: There are actually more missing values than the two rows detected by Python! The method `dataframename.isnull().sum()` did not see the missing value that a human coded as \"No Answer\"! Later we'll see how to discover it... "
   ]
  },
  {
   "cell_type": "markdown",
   "metadata": {},
   "source": [
    "### Data Read-In Issues and How to Fix Them: Data Cleaning "
   ]
  },
  {
   "cell_type": "code",
   "execution_count": 308,
   "metadata": {
    "scrolled": true
   },
   "outputs": [
    {
     "data": {
      "text/html": [
       "<div>\n",
       "<style scoped>\n",
       "    .dataframe tbody tr th:only-of-type {\n",
       "        vertical-align: middle;\n",
       "    }\n",
       "\n",
       "    .dataframe tbody tr th {\n",
       "        vertical-align: top;\n",
       "    }\n",
       "\n",
       "    .dataframe thead th {\n",
       "        text-align: right;\n",
       "    }\n",
       "</style>\n",
       "<table border=\"1\" class=\"dataframe\">\n",
       "  <thead>\n",
       "    <tr style=\"text-align: right;\">\n",
       "      <th></th>\n",
       "      <th>year</th>\n",
       "      <th>id</th>\n",
       "      <th>age</th>\n",
       "      <th>region_of_interview</th>\n",
       "      <th>size</th>\n",
       "      <th>party</th>\n",
       "      <th>pres_approval</th>\n",
       "    </tr>\n",
       "  </thead>\n",
       "  <tbody>\n",
       "    <tr>\n",
       "      <th>0</th>\n",
       "      <td>2012.0</td>\n",
       "      <td>5.0</td>\n",
       "      <td>70</td>\n",
       "      <td>Middle atlantic</td>\n",
       "      <td>24.0</td>\n",
       "      <td>Strong democrat</td>\n",
       "      <td>Approve</td>\n",
       "    </tr>\n",
       "    <tr>\n",
       "      <th>1</th>\n",
       "      <td>2012.0</td>\n",
       "      <td>6.0</td>\n",
       "      <td>50</td>\n",
       "      <td>Middle atlantic</td>\n",
       "      <td>24.0</td>\n",
       "      <td>Strong democrat</td>\n",
       "      <td>Disapprove</td>\n",
       "    </tr>\n",
       "    <tr>\n",
       "      <th>2</th>\n",
       "      <td>2012.0</td>\n",
       "      <td>29.0</td>\n",
       "      <td>81</td>\n",
       "      <td>Middle atlantic</td>\n",
       "      <td>17.0</td>\n",
       "      <td>Strong democrat</td>\n",
       "      <td>Approve</td>\n",
       "    </tr>\n",
       "    <tr>\n",
       "      <th>3</th>\n",
       "      <td>2012.0</td>\n",
       "      <td>32.0</td>\n",
       "      <td>63</td>\n",
       "      <td>Middle atlantic</td>\n",
       "      <td>43.0</td>\n",
       "      <td>Strong democrat</td>\n",
       "      <td>Approve</td>\n",
       "    </tr>\n",
       "    <tr>\n",
       "      <th>4</th>\n",
       "      <td>2012.0</td>\n",
       "      <td>33.0</td>\n",
       "      <td>73</td>\n",
       "      <td>Middle atlantic</td>\n",
       "      <td>43.0</td>\n",
       "      <td>Strong democrat</td>\n",
       "      <td>Approve</td>\n",
       "    </tr>\n",
       "  </tbody>\n",
       "</table>\n",
       "</div>"
      ],
      "text/plain": [
       "   year                  id age region_of_interview  size            party  \\\n",
       "0              2012.0   5.0  70     Middle atlantic  24.0  Strong democrat   \n",
       "1              2012.0   6.0  50     Middle atlantic  24.0  Strong democrat   \n",
       "2              2012.0  29.0  81     Middle atlantic  17.0  Strong democrat   \n",
       "3              2012.0  32.0  63     Middle atlantic  43.0  Strong democrat   \n",
       "4              2012.0  33.0  73     Middle atlantic  43.0  Strong democrat   \n",
       "\n",
       "  pres_approval  \n",
       "0       Approve  \n",
       "1    Disapprove  \n",
       "2       Approve  \n",
       "3       Approve  \n",
       "4       Approve  "
      ]
     },
     "execution_count": 308,
     "metadata": {},
     "output_type": "execute_result"
    }
   ],
   "source": [
    "# Read in the original NOT PRE-CLEANED example file\n",
    "df_original = pd.read_csv('GSS2012Extract_PresApproval_StrongPartyAffiliation.csv', sep = ',')\n",
    "df_original.head() # check the first lines of the read in "
   ]
  },
  {
   "cell_type": "markdown",
   "metadata": {},
   "source": [
    "By checking the first few lines above, we already see problems. The year was read in as float, as was the id. What could cause that? Next look at the tail and we see there were some completely empty rows at the end. "
   ]
  },
  {
   "cell_type": "code",
   "execution_count": 309,
   "metadata": {
    "scrolled": true
   },
   "outputs": [
    {
     "data": {
      "text/html": [
       "<div>\n",
       "<style scoped>\n",
       "    .dataframe tbody tr th:only-of-type {\n",
       "        vertical-align: middle;\n",
       "    }\n",
       "\n",
       "    .dataframe tbody tr th {\n",
       "        vertical-align: top;\n",
       "    }\n",
       "\n",
       "    .dataframe thead th {\n",
       "        text-align: right;\n",
       "    }\n",
       "</style>\n",
       "<table border=\"1\" class=\"dataframe\">\n",
       "  <thead>\n",
       "    <tr style=\"text-align: right;\">\n",
       "      <th></th>\n",
       "      <th>year</th>\n",
       "      <th>id</th>\n",
       "      <th>age</th>\n",
       "      <th>region_of_interview</th>\n",
       "      <th>size</th>\n",
       "      <th>party</th>\n",
       "      <th>pres_approval</th>\n",
       "    </tr>\n",
       "  </thead>\n",
       "  <tbody>\n",
       "    <tr>\n",
       "      <th>336</th>\n",
       "      <td>2012.0</td>\n",
       "      <td>1957.0</td>\n",
       "      <td>42</td>\n",
       "      <td>New england</td>\n",
       "      <td>2.0</td>\n",
       "      <td>Strong democrat</td>\n",
       "      <td>Approve</td>\n",
       "    </tr>\n",
       "    <tr>\n",
       "      <th>337</th>\n",
       "      <td>2012.0</td>\n",
       "      <td>1965.0</td>\n",
       "      <td>65</td>\n",
       "      <td>New england</td>\n",
       "      <td>1.0</td>\n",
       "      <td>Strong democrat</td>\n",
       "      <td>Approve</td>\n",
       "    </tr>\n",
       "    <tr>\n",
       "      <th>338</th>\n",
       "      <td>2012.0</td>\n",
       "      <td>1967.0</td>\n",
       "      <td>69</td>\n",
       "      <td>New england</td>\n",
       "      <td>1.0</td>\n",
       "      <td>Strong republican</td>\n",
       "      <td>Approve</td>\n",
       "    </tr>\n",
       "    <tr>\n",
       "      <th>339</th>\n",
       "      <td>NaN</td>\n",
       "      <td>NaN</td>\n",
       "      <td>NaN</td>\n",
       "      <td>NaN</td>\n",
       "      <td>NaN</td>\n",
       "      <td>NaN</td>\n",
       "      <td>NaN</td>\n",
       "    </tr>\n",
       "    <tr>\n",
       "      <th>340</th>\n",
       "      <td>NaN</td>\n",
       "      <td>NaN</td>\n",
       "      <td>NaN</td>\n",
       "      <td>NaN</td>\n",
       "      <td>NaN</td>\n",
       "      <td>NaN</td>\n",
       "      <td>NaN</td>\n",
       "    </tr>\n",
       "  </tbody>\n",
       "</table>\n",
       "</div>"
      ],
      "text/plain": [
       "     year                    id  age region_of_interview  size  \\\n",
       "336              2012.0  1957.0   42         New england   2.0   \n",
       "337              2012.0  1965.0   65         New england   1.0   \n",
       "338              2012.0  1967.0   69         New england   1.0   \n",
       "339                 NaN     NaN  NaN                 NaN   NaN   \n",
       "340                 NaN     NaN  NaN                 NaN   NaN   \n",
       "\n",
       "                 party pres_approval  \n",
       "336    Strong democrat       Approve  \n",
       "337    Strong democrat       Approve  \n",
       "338  Strong republican       Approve  \n",
       "339                NaN           NaN  \n",
       "340                NaN           NaN  "
      ]
     },
     "execution_count": 309,
     "metadata": {},
     "output_type": "execute_result"
    }
   ],
   "source": [
    "df_original.tail()"
   ]
  },
  {
   "cell_type": "markdown",
   "metadata": {},
   "source": [
    "Let's have a look at the column names. We see that the first column name has unnoticed spaces. "
   ]
  },
  {
   "cell_type": "code",
   "execution_count": 310,
   "metadata": {
    "scrolled": true
   },
   "outputs": [
    {
     "data": {
      "text/plain": [
       "Index(['year              ', 'id', 'age', 'region_of_interview', 'size',\n",
       "       'party', 'pres_approval'],\n",
       "      dtype='object')"
      ]
     },
     "execution_count": 310,
     "metadata": {},
     "output_type": "execute_result"
    }
   ],
   "source": [
    "df_original.columns"
   ]
  },
  {
   "cell_type": "markdown",
   "metadata": {},
   "source": [
    "**Funny thing: None of the above problems are visible in the excel file. Open it and look! Even when I open the csv file in excel it isn't visible. Some of the problems you can see in the csv file in a text editor.**"
   ]
  },
  {
   "cell_type": "markdown",
   "metadata": {},
   "source": [
    "Let's check the data types of the columns to see if anything else when wrong. Bizarre: `age` was read in as a string.  "
   ]
  },
  {
   "cell_type": "code",
   "execution_count": 311,
   "metadata": {
    "scrolled": true
   },
   "outputs": [
    {
     "data": {
      "text/plain": [
       "year                   float64\n",
       "id                     float64\n",
       "age                     object\n",
       "region_of_interview     object\n",
       "size                   float64\n",
       "party                   object\n",
       "pres_approval           object\n",
       "dtype: object"
      ]
     },
     "execution_count": 311,
     "metadata": {},
     "output_type": "execute_result"
    }
   ],
   "source": [
    "# find the data types of the columns\n",
    "df_original.dtypes"
   ]
  },
  {
   "cell_type": "markdown",
   "metadata": {},
   "source": [
    "A lot went wrong. Let's fix the data types. \n",
    "\n",
    "**Warning:** In pandas, you cannot cast `NaN` as an integer! It gives an error. You can only cast `NaN` to a float.  So I have to first remove the `NaN`'s if I want to cast to an integer, or I have to just be satisfied with `id` numbers being floats if there are `NaN`'s in the `id` column.\n",
    "\n",
    "**Warning:** Even after removing all `NaN`, I tried to cast `age` as an integer and it still didn't work! The error message indicated there was a row with `No answer` for `age`, so we must also remove that row, or change that entry to `NaN`. "
   ]
  },
  {
   "cell_type": "code",
   "execution_count": 312,
   "metadata": {
    "scrolled": false
   },
   "outputs": [
    {
     "data": {
      "text/plain": [
       "year                     int32\n",
       "id                       int32\n",
       "age                      int32\n",
       "region_of_interview     object\n",
       "size                   float64\n",
       "party                   object\n",
       "pres_approval           object\n",
       "dtype: object"
      ]
     },
     "execution_count": 312,
     "metadata": {},
     "output_type": "execute_result"
    }
   ],
   "source": [
    "# rename year without spaces\n",
    "df_cleaned = df_original.rename(columns={'year              ':'year'})\n",
    "\n",
    "# remove row with id 1273 because it has age with \"No Answer\"\n",
    "df_cleaned = df_cleaned[ df_original.id != 1273 ]\n",
    "\n",
    "# remove all rows with any NaN\n",
    "df_cleaned = df_cleaned.dropna(how='any')\n",
    "\n",
    "# change the data type to integer where it should be integer\n",
    "df_cleaned = df_cleaned.astype({'year':'int',\n",
    "                                'id':'int',\n",
    "                                'age':'int'})\n",
    "\n",
    "# view the data types again to confirm the changes\n",
    "df_cleaned.dtypes"
   ]
  },
  {
   "cell_type": "markdown",
   "metadata": {},
   "source": [
    "It would have been a lot easier to clean the data in excel before read in! But altering in excel wouldn't be recorded for reproducible research..."
   ]
  },
  {
   "cell_type": "markdown",
   "metadata": {},
   "source": [
    "### Descriptive Statistics of Numerical Columns of a DataFrame"
   ]
  },
  {
   "cell_type": "markdown",
   "metadata": {},
   "source": [
    "#### The Method `describe` Shows Quick Summary Statistics of Numerical Variables"
   ]
  },
  {
   "cell_type": "code",
   "execution_count": 313,
   "metadata": {},
   "outputs": [
    {
     "data": {
      "text/html": [
       "<div>\n",
       "<style scoped>\n",
       "    .dataframe tbody tr th:only-of-type {\n",
       "        vertical-align: middle;\n",
       "    }\n",
       "\n",
       "    .dataframe tbody tr th {\n",
       "        vertical-align: top;\n",
       "    }\n",
       "\n",
       "    .dataframe thead th {\n",
       "        text-align: right;\n",
       "    }\n",
       "</style>\n",
       "<table border=\"1\" class=\"dataframe\">\n",
       "  <thead>\n",
       "    <tr style=\"text-align: right;\">\n",
       "      <th></th>\n",
       "      <th>year</th>\n",
       "      <th>age</th>\n",
       "      <th>size</th>\n",
       "    </tr>\n",
       "  </thead>\n",
       "  <tbody>\n",
       "    <tr>\n",
       "      <th>count</th>\n",
       "      <td>338.0</td>\n",
       "      <td>338.000000</td>\n",
       "      <td>338.000000</td>\n",
       "    </tr>\n",
       "    <tr>\n",
       "      <th>mean</th>\n",
       "      <td>2012.0</td>\n",
       "      <td>52.420118</td>\n",
       "      <td>494.142012</td>\n",
       "    </tr>\n",
       "    <tr>\n",
       "      <th>std</th>\n",
       "      <td>0.0</td>\n",
       "      <td>16.821135</td>\n",
       "      <td>1639.194581</td>\n",
       "    </tr>\n",
       "    <tr>\n",
       "      <th>min</th>\n",
       "      <td>2012.0</td>\n",
       "      <td>18.000000</td>\n",
       "      <td>0.000000</td>\n",
       "    </tr>\n",
       "    <tr>\n",
       "      <th>25%</th>\n",
       "      <td>2012.0</td>\n",
       "      <td>39.250000</td>\n",
       "      <td>8.000000</td>\n",
       "    </tr>\n",
       "    <tr>\n",
       "      <th>50%</th>\n",
       "      <td>2012.0</td>\n",
       "      <td>53.000000</td>\n",
       "      <td>30.000000</td>\n",
       "    </tr>\n",
       "    <tr>\n",
       "      <th>75%</th>\n",
       "      <td>2012.0</td>\n",
       "      <td>65.000000</td>\n",
       "      <td>136.250000</td>\n",
       "    </tr>\n",
       "    <tr>\n",
       "      <th>max</th>\n",
       "      <td>2012.0</td>\n",
       "      <td>88.000000</td>\n",
       "      <td>8175.000000</td>\n",
       "    </tr>\n",
       "  </tbody>\n",
       "</table>\n",
       "</div>"
      ],
      "text/plain": [
       "         year         age         size\n",
       "count   338.0  338.000000   338.000000\n",
       "mean   2012.0   52.420118   494.142012\n",
       "std       0.0   16.821135  1639.194581\n",
       "min    2012.0   18.000000     0.000000\n",
       "25%    2012.0   39.250000     8.000000\n",
       "50%    2012.0   53.000000    30.000000\n",
       "75%    2012.0   65.000000   136.250000\n",
       "max    2012.0   88.000000  8175.000000"
      ]
     },
     "execution_count": 313,
     "metadata": {},
     "output_type": "execute_result"
    }
   ],
   "source": [
    "# change id to categorical variable so it isn't averaged in summary statistics\n",
    "df = df.astype({'id':'category'}) \n",
    "\n",
    "df.describe()"
   ]
  },
  {
   "cell_type": "markdown",
   "metadata": {},
   "source": [
    "TOO MANY ZEROS! Let's round to 1 decimal places. "
   ]
  },
  {
   "cell_type": "code",
   "execution_count": 314,
   "metadata": {},
   "outputs": [
    {
     "data": {
      "text/html": [
       "<div>\n",
       "<style scoped>\n",
       "    .dataframe tbody tr th:only-of-type {\n",
       "        vertical-align: middle;\n",
       "    }\n",
       "\n",
       "    .dataframe tbody tr th {\n",
       "        vertical-align: top;\n",
       "    }\n",
       "\n",
       "    .dataframe thead th {\n",
       "        text-align: right;\n",
       "    }\n",
       "</style>\n",
       "<table border=\"1\" class=\"dataframe\">\n",
       "  <thead>\n",
       "    <tr style=\"text-align: right;\">\n",
       "      <th></th>\n",
       "      <th>year</th>\n",
       "      <th>age</th>\n",
       "      <th>size</th>\n",
       "    </tr>\n",
       "  </thead>\n",
       "  <tbody>\n",
       "    <tr>\n",
       "      <th>count</th>\n",
       "      <td>338.0</td>\n",
       "      <td>338.0</td>\n",
       "      <td>338.0</td>\n",
       "    </tr>\n",
       "    <tr>\n",
       "      <th>mean</th>\n",
       "      <td>2012.0</td>\n",
       "      <td>52.4</td>\n",
       "      <td>494.1</td>\n",
       "    </tr>\n",
       "    <tr>\n",
       "      <th>std</th>\n",
       "      <td>0.0</td>\n",
       "      <td>16.8</td>\n",
       "      <td>1639.2</td>\n",
       "    </tr>\n",
       "    <tr>\n",
       "      <th>min</th>\n",
       "      <td>2012.0</td>\n",
       "      <td>18.0</td>\n",
       "      <td>0.0</td>\n",
       "    </tr>\n",
       "    <tr>\n",
       "      <th>25%</th>\n",
       "      <td>2012.0</td>\n",
       "      <td>39.2</td>\n",
       "      <td>8.0</td>\n",
       "    </tr>\n",
       "    <tr>\n",
       "      <th>50%</th>\n",
       "      <td>2012.0</td>\n",
       "      <td>53.0</td>\n",
       "      <td>30.0</td>\n",
       "    </tr>\n",
       "    <tr>\n",
       "      <th>75%</th>\n",
       "      <td>2012.0</td>\n",
       "      <td>65.0</td>\n",
       "      <td>136.2</td>\n",
       "    </tr>\n",
       "    <tr>\n",
       "      <th>max</th>\n",
       "      <td>2012.0</td>\n",
       "      <td>88.0</td>\n",
       "      <td>8175.0</td>\n",
       "    </tr>\n",
       "  </tbody>\n",
       "</table>\n",
       "</div>"
      ],
      "text/plain": [
       "         year    age    size\n",
       "count   338.0  338.0   338.0\n",
       "mean   2012.0   52.4   494.1\n",
       "std       0.0   16.8  1639.2\n",
       "min    2012.0   18.0     0.0\n",
       "25%    2012.0   39.2     8.0\n",
       "50%    2012.0   53.0    30.0\n",
       "75%    2012.0   65.0   136.2\n",
       "max    2012.0   88.0  8175.0"
      ]
     },
     "execution_count": 314,
     "metadata": {},
     "output_type": "execute_result"
    }
   ],
   "source": [
    "df.describe().round(1)"
   ]
  },
  {
   "cell_type": "markdown",
   "metadata": {},
   "source": [
    "####  Find the Means of Numerical Columns"
   ]
  },
  {
   "cell_type": "code",
   "execution_count": 315,
   "metadata": {},
   "outputs": [
    {
     "data": {
      "text/plain": [
       "year    2012.0\n",
       "id       994.3\n",
       "age       52.4\n",
       "size     494.1\n",
       "dtype: float64"
      ]
     },
     "execution_count": 315,
     "metadata": {},
     "output_type": "execute_result"
    }
   ],
   "source": [
    "df.mean().round(1)"
   ]
  },
  {
   "cell_type": "markdown",
   "metadata": {},
   "source": [
    "####  Find the Medians of Numerical Columns"
   ]
  },
  {
   "cell_type": "code",
   "execution_count": 316,
   "metadata": {},
   "outputs": [
    {
     "data": {
      "text/plain": [
       "year    2012.0\n",
       "id      1022.5\n",
       "age       53.0\n",
       "size      30.0\n",
       "dtype: float64"
      ]
     },
     "execution_count": 316,
     "metadata": {},
     "output_type": "execute_result"
    }
   ],
   "source": [
    "df.median().round(2)"
   ]
  },
  {
   "cell_type": "markdown",
   "metadata": {},
   "source": [
    "#### Find the Min/Max of a Column"
   ]
  },
  {
   "cell_type": "code",
   "execution_count": 317,
   "metadata": {},
   "outputs": [
    {
     "data": {
      "text/plain": [
       "18"
      ]
     },
     "execution_count": 317,
     "metadata": {},
     "output_type": "execute_result"
    }
   ],
   "source": [
    "df['age'].min().round(2)"
   ]
  },
  {
   "cell_type": "code",
   "execution_count": 318,
   "metadata": {},
   "outputs": [
    {
     "data": {
      "text/plain": [
       "88"
      ]
     },
     "execution_count": 318,
     "metadata": {},
     "output_type": "execute_result"
    }
   ],
   "source": [
    "df['age'].max().round(2)"
   ]
  },
  {
   "cell_type": "markdown",
   "metadata": {},
   "source": [
    "#### Find the Variance of Numerical Columns"
   ]
  },
  {
   "cell_type": "code",
   "execution_count": 319,
   "metadata": {},
   "outputs": [
    {
     "data": {
      "text/plain": [
       "year          0.00\n",
       "id       310414.64\n",
       "age         282.95\n",
       "size    2686958.88\n",
       "dtype: float64"
      ]
     },
     "execution_count": 319,
     "metadata": {},
     "output_type": "execute_result"
    }
   ],
   "source": [
    "df.var().round(2)"
   ]
  },
  {
   "cell_type": "markdown",
   "metadata": {},
   "source": [
    "#### Find the Correlation of Numerical Columns"
   ]
  },
  {
   "cell_type": "code",
   "execution_count": 320,
   "metadata": {},
   "outputs": [
    {
     "data": {
      "text/html": [
       "<div>\n",
       "<style scoped>\n",
       "    .dataframe tbody tr th:only-of-type {\n",
       "        vertical-align: middle;\n",
       "    }\n",
       "\n",
       "    .dataframe tbody tr th {\n",
       "        vertical-align: top;\n",
       "    }\n",
       "\n",
       "    .dataframe thead th {\n",
       "        text-align: right;\n",
       "    }\n",
       "</style>\n",
       "<table border=\"1\" class=\"dataframe\">\n",
       "  <thead>\n",
       "    <tr style=\"text-align: right;\">\n",
       "      <th></th>\n",
       "      <th>year</th>\n",
       "      <th>age</th>\n",
       "      <th>size</th>\n",
       "    </tr>\n",
       "  </thead>\n",
       "  <tbody>\n",
       "    <tr>\n",
       "      <th>year</th>\n",
       "      <td>NaN</td>\n",
       "      <td>NaN</td>\n",
       "      <td>NaN</td>\n",
       "    </tr>\n",
       "    <tr>\n",
       "      <th>age</th>\n",
       "      <td>NaN</td>\n",
       "      <td>1.0</td>\n",
       "      <td>0.0</td>\n",
       "    </tr>\n",
       "    <tr>\n",
       "      <th>size</th>\n",
       "      <td>NaN</td>\n",
       "      <td>0.0</td>\n",
       "      <td>1.0</td>\n",
       "    </tr>\n",
       "  </tbody>\n",
       "</table>\n",
       "</div>"
      ],
      "text/plain": [
       "      year  age  size\n",
       "year   NaN  NaN   NaN\n",
       "age    NaN  1.0   0.0\n",
       "size   NaN  0.0   1.0"
      ]
     },
     "execution_count": 320,
     "metadata": {},
     "output_type": "execute_result"
    }
   ],
   "source": [
    "df.corr().round(2)"
   ]
  },
  {
   "cell_type": "markdown",
   "metadata": {},
   "source": [
    "### Split-Apply-Combine for Computing Descriptive Statistics on Groups and Arranging the Group Statistics in a DataFrame for Easy Comparison\n",
    "\n",
    "* Split the data into groups based on some criteria (e.g. entry in a column)\n",
    "* Apply a function (e.g. mean) to each group independently\n",
    "* Combine the results into a data structure (e.g. a data frame)"
   ]
  },
  {
   "cell_type": "code",
   "execution_count": 321,
   "metadata": {},
   "outputs": [
    {
     "data": {
      "text/html": [
       "<div>\n",
       "<style scoped>\n",
       "    .dataframe tbody tr th:only-of-type {\n",
       "        vertical-align: middle;\n",
       "    }\n",
       "\n",
       "    .dataframe tbody tr th {\n",
       "        vertical-align: top;\n",
       "    }\n",
       "\n",
       "    .dataframe thead th {\n",
       "        text-align: right;\n",
       "    }\n",
       "</style>\n",
       "<table border=\"1\" class=\"dataframe\">\n",
       "  <thead>\n",
       "    <tr style=\"text-align: right;\">\n",
       "      <th></th>\n",
       "      <th>year</th>\n",
       "      <th>age</th>\n",
       "      <th>size</th>\n",
       "    </tr>\n",
       "    <tr>\n",
       "      <th>region_of_interview</th>\n",
       "      <th></th>\n",
       "      <th></th>\n",
       "      <th></th>\n",
       "    </tr>\n",
       "  </thead>\n",
       "  <tbody>\n",
       "    <tr>\n",
       "      <th>e. nor. central</th>\n",
       "      <td>2012.0</td>\n",
       "      <td>51.323077</td>\n",
       "      <td>184.338462</td>\n",
       "    </tr>\n",
       "    <tr>\n",
       "      <th>e. sou. central</th>\n",
       "      <td>2012.0</td>\n",
       "      <td>51.962963</td>\n",
       "      <td>116.296296</td>\n",
       "    </tr>\n",
       "    <tr>\n",
       "      <th>middle atlantic</th>\n",
       "      <td>2012.0</td>\n",
       "      <td>54.024390</td>\n",
       "      <td>2879.902439</td>\n",
       "    </tr>\n",
       "    <tr>\n",
       "      <th>mountain</th>\n",
       "      <td>2012.0</td>\n",
       "      <td>54.470588</td>\n",
       "      <td>351.352941</td>\n",
       "    </tr>\n",
       "    <tr>\n",
       "      <th>new england</th>\n",
       "      <td>2012.0</td>\n",
       "      <td>51.230769</td>\n",
       "      <td>20.615385</td>\n",
       "    </tr>\n",
       "    <tr>\n",
       "      <th>pacific</th>\n",
       "      <td>2012.0</td>\n",
       "      <td>51.138889</td>\n",
       "      <td>150.833333</td>\n",
       "    </tr>\n",
       "    <tr>\n",
       "      <th>south atlantic</th>\n",
       "      <td>2012.0</td>\n",
       "      <td>52.809524</td>\n",
       "      <td>127.476190</td>\n",
       "    </tr>\n",
       "    <tr>\n",
       "      <th>w. nor. central</th>\n",
       "      <td>2012.0</td>\n",
       "      <td>48.722222</td>\n",
       "      <td>77.388889</td>\n",
       "    </tr>\n",
       "    <tr>\n",
       "      <th>w. sou. central</th>\n",
       "      <td>2012.0</td>\n",
       "      <td>54.540541</td>\n",
       "      <td>271.621622</td>\n",
       "    </tr>\n",
       "  </tbody>\n",
       "</table>\n",
       "</div>"
      ],
      "text/plain": [
       "                       year        age         size\n",
       "region_of_interview                                \n",
       "e. nor. central      2012.0  51.323077   184.338462\n",
       "e. sou. central      2012.0  51.962963   116.296296\n",
       "middle atlantic      2012.0  54.024390  2879.902439\n",
       "mountain             2012.0  54.470588   351.352941\n",
       "new england          2012.0  51.230769    20.615385\n",
       "pacific              2012.0  51.138889   150.833333\n",
       "south atlantic       2012.0  52.809524   127.476190\n",
       "w. nor. central      2012.0  48.722222    77.388889\n",
       "w. sou. central      2012.0  54.540541   271.621622"
      ]
     },
     "execution_count": 321,
     "metadata": {},
     "output_type": "execute_result"
    }
   ],
   "source": [
    "df.groupby('region_of_interview').mean()"
   ]
  },
  {
   "cell_type": "markdown",
   "metadata": {},
   "source": [
    "We can further subdivide the groups according to a second variable. "
   ]
  },
  {
   "cell_type": "code",
   "execution_count": 322,
   "metadata": {},
   "outputs": [
    {
     "data": {
      "text/html": [
       "<div>\n",
       "<style scoped>\n",
       "    .dataframe tbody tr th:only-of-type {\n",
       "        vertical-align: middle;\n",
       "    }\n",
       "\n",
       "    .dataframe tbody tr th {\n",
       "        vertical-align: top;\n",
       "    }\n",
       "\n",
       "    .dataframe thead th {\n",
       "        text-align: right;\n",
       "    }\n",
       "</style>\n",
       "<table border=\"1\" class=\"dataframe\">\n",
       "  <thead>\n",
       "    <tr style=\"text-align: right;\">\n",
       "      <th></th>\n",
       "      <th></th>\n",
       "      <th>year</th>\n",
       "      <th>age</th>\n",
       "      <th>size</th>\n",
       "    </tr>\n",
       "    <tr>\n",
       "      <th>region_of_interview</th>\n",
       "      <th>pres_approval</th>\n",
       "      <th></th>\n",
       "      <th></th>\n",
       "      <th></th>\n",
       "    </tr>\n",
       "  </thead>\n",
       "  <tbody>\n",
       "    <tr>\n",
       "      <th rowspan=\"2\" valign=\"top\">e. nor. central</th>\n",
       "      <th>approve</th>\n",
       "      <td>2012.0</td>\n",
       "      <td>51.531250</td>\n",
       "      <td>267.906250</td>\n",
       "    </tr>\n",
       "    <tr>\n",
       "      <th>disapprove</th>\n",
       "      <td>2012.0</td>\n",
       "      <td>51.121212</td>\n",
       "      <td>103.303030</td>\n",
       "    </tr>\n",
       "    <tr>\n",
       "      <th rowspan=\"2\" valign=\"top\">e. sou. central</th>\n",
       "      <th>approve</th>\n",
       "      <td>2012.0</td>\n",
       "      <td>55.000000</td>\n",
       "      <td>120.142857</td>\n",
       "    </tr>\n",
       "    <tr>\n",
       "      <th>disapprove</th>\n",
       "      <td>2012.0</td>\n",
       "      <td>48.692308</td>\n",
       "      <td>112.153846</td>\n",
       "    </tr>\n",
       "    <tr>\n",
       "      <th rowspan=\"2\" valign=\"top\">middle atlantic</th>\n",
       "      <th>approve</th>\n",
       "      <td>2012.0</td>\n",
       "      <td>54.529412</td>\n",
       "      <td>3228.588235</td>\n",
       "    </tr>\n",
       "    <tr>\n",
       "      <th>disapprove</th>\n",
       "      <td>2012.0</td>\n",
       "      <td>51.571429</td>\n",
       "      <td>1186.285714</td>\n",
       "    </tr>\n",
       "    <tr>\n",
       "      <th rowspan=\"2\" valign=\"top\">mountain</th>\n",
       "      <th>approve</th>\n",
       "      <td>2012.0</td>\n",
       "      <td>50.571429</td>\n",
       "      <td>539.714286</td>\n",
       "    </tr>\n",
       "    <tr>\n",
       "      <th>disapprove</th>\n",
       "      <td>2012.0</td>\n",
       "      <td>57.200000</td>\n",
       "      <td>219.500000</td>\n",
       "    </tr>\n",
       "    <tr>\n",
       "      <th rowspan=\"2\" valign=\"top\">new england</th>\n",
       "      <th>approve</th>\n",
       "      <td>2012.0</td>\n",
       "      <td>49.636364</td>\n",
       "      <td>22.363636</td>\n",
       "    </tr>\n",
       "    <tr>\n",
       "      <th>disapprove</th>\n",
       "      <td>2012.0</td>\n",
       "      <td>60.000000</td>\n",
       "      <td>11.000000</td>\n",
       "    </tr>\n",
       "    <tr>\n",
       "      <th rowspan=\"2\" valign=\"top\">pacific</th>\n",
       "      <th>approve</th>\n",
       "      <td>2012.0</td>\n",
       "      <td>52.259259</td>\n",
       "      <td>144.925926</td>\n",
       "    </tr>\n",
       "    <tr>\n",
       "      <th>disapprove</th>\n",
       "      <td>2012.0</td>\n",
       "      <td>47.777778</td>\n",
       "      <td>168.555556</td>\n",
       "    </tr>\n",
       "    <tr>\n",
       "      <th rowspan=\"2\" valign=\"top\">south atlantic</th>\n",
       "      <th>approve</th>\n",
       "      <td>2012.0</td>\n",
       "      <td>51.725490</td>\n",
       "      <td>140.941176</td>\n",
       "    </tr>\n",
       "    <tr>\n",
       "      <th>disapprove</th>\n",
       "      <td>2012.0</td>\n",
       "      <td>54.484848</td>\n",
       "      <td>106.666667</td>\n",
       "    </tr>\n",
       "    <tr>\n",
       "      <th rowspan=\"2\" valign=\"top\">w. nor. central</th>\n",
       "      <th>approve</th>\n",
       "      <td>2012.0</td>\n",
       "      <td>46.615385</td>\n",
       "      <td>94.384615</td>\n",
       "    </tr>\n",
       "    <tr>\n",
       "      <th>disapprove</th>\n",
       "      <td>2012.0</td>\n",
       "      <td>54.200000</td>\n",
       "      <td>33.200000</td>\n",
       "    </tr>\n",
       "    <tr>\n",
       "      <th rowspan=\"2\" valign=\"top\">w. sou. central</th>\n",
       "      <th>approve</th>\n",
       "      <td>2012.0</td>\n",
       "      <td>53.571429</td>\n",
       "      <td>355.571429</td>\n",
       "    </tr>\n",
       "    <tr>\n",
       "      <th>disapprove</th>\n",
       "      <td>2012.0</td>\n",
       "      <td>55.130435</td>\n",
       "      <td>220.521739</td>\n",
       "    </tr>\n",
       "  </tbody>\n",
       "</table>\n",
       "</div>"
      ],
      "text/plain": [
       "                                     year        age         size\n",
       "region_of_interview pres_approval                                \n",
       "e. nor. central     approve        2012.0  51.531250   267.906250\n",
       "                    disapprove     2012.0  51.121212   103.303030\n",
       "e. sou. central     approve        2012.0  55.000000   120.142857\n",
       "                    disapprove     2012.0  48.692308   112.153846\n",
       "middle atlantic     approve        2012.0  54.529412  3228.588235\n",
       "                    disapprove     2012.0  51.571429  1186.285714\n",
       "mountain            approve        2012.0  50.571429   539.714286\n",
       "                    disapprove     2012.0  57.200000   219.500000\n",
       "new england         approve        2012.0  49.636364    22.363636\n",
       "                    disapprove     2012.0  60.000000    11.000000\n",
       "pacific             approve        2012.0  52.259259   144.925926\n",
       "                    disapprove     2012.0  47.777778   168.555556\n",
       "south atlantic      approve        2012.0  51.725490   140.941176\n",
       "                    disapprove     2012.0  54.484848   106.666667\n",
       "w. nor. central     approve        2012.0  46.615385    94.384615\n",
       "                    disapprove     2012.0  54.200000    33.200000\n",
       "w. sou. central     approve        2012.0  53.571429   355.571429\n",
       "                    disapprove     2012.0  55.130435   220.521739"
      ]
     },
     "execution_count": 322,
     "metadata": {},
     "output_type": "execute_result"
    }
   ],
   "source": [
    "df.groupby(['region_of_interview', 'pres_approval']).mean()"
   ]
  },
  {
   "cell_type": "markdown",
   "metadata": {},
   "source": [
    "#### Pivot tables"
   ]
  },
  {
   "cell_type": "markdown",
   "metadata": {},
   "source": [
    "[https://pandas.pydata.org/pandas-docs/stable/reference/api/pandas.pivot_table.html](https://pandas.pydata.org/pandas-docs/stable/reference/api/pandas.pivot_table.html)"
   ]
  },
  {
   "cell_type": "markdown",
   "metadata": {},
   "source": [
    "### Linear Regression (Ordinary Least Squares)"
   ]
  },
  {
   "cell_type": "markdown",
   "metadata": {},
   "source": [
    "Let's first create a dataframe called `proportions` which has two columns. The first column is the proportion of strong democrats amongst those who indicated strong party affiliation, grouped by region. The second column is the proportion of presidential approval amongst those who indicated strong party affiliation, grouped by region.\n",
    "Don't worry about understanding this code. We will use these two columns for the regression. "
   ]
  },
  {
   "cell_type": "code",
   "execution_count": 323,
   "metadata": {},
   "outputs": [
    {
     "data": {
      "text/html": [
       "<div>\n",
       "<style scoped>\n",
       "    .dataframe tbody tr th:only-of-type {\n",
       "        vertical-align: middle;\n",
       "    }\n",
       "\n",
       "    .dataframe tbody tr th {\n",
       "        vertical-align: top;\n",
       "    }\n",
       "\n",
       "    .dataframe thead th {\n",
       "        text-align: right;\n",
       "    }\n",
       "</style>\n",
       "<table border=\"1\" class=\"dataframe\">\n",
       "  <thead>\n",
       "    <tr style=\"text-align: right;\">\n",
       "      <th></th>\n",
       "      <th>strong_dem_proportions</th>\n",
       "      <th>approval_proportions</th>\n",
       "    </tr>\n",
       "    <tr>\n",
       "      <th>region_of_interview</th>\n",
       "      <th></th>\n",
       "      <th></th>\n",
       "    </tr>\n",
       "  </thead>\n",
       "  <tbody>\n",
       "    <tr>\n",
       "      <th>e. nor. central</th>\n",
       "      <td>0.600000</td>\n",
       "      <td>0.492308</td>\n",
       "    </tr>\n",
       "    <tr>\n",
       "      <th>e. sou. central</th>\n",
       "      <td>0.555556</td>\n",
       "      <td>0.518519</td>\n",
       "    </tr>\n",
       "    <tr>\n",
       "      <th>middle atlantic</th>\n",
       "      <td>0.878049</td>\n",
       "      <td>0.829268</td>\n",
       "    </tr>\n",
       "    <tr>\n",
       "      <th>mountain</th>\n",
       "      <td>0.411765</td>\n",
       "      <td>0.411765</td>\n",
       "    </tr>\n",
       "  </tbody>\n",
       "</table>\n",
       "</div>"
      ],
      "text/plain": [
       "                     strong_dem_proportions  approval_proportions\n",
       "region_of_interview                                              \n",
       "e. nor. central                    0.600000              0.492308\n",
       "e. sou. central                    0.555556              0.518519\n",
       "middle atlantic                    0.878049              0.829268\n",
       "mountain                           0.411765              0.411765"
      ]
     },
     "execution_count": 323,
     "metadata": {},
     "output_type": "execute_result"
    }
   ],
   "source": [
    "strong_dem_proportions=df.groupby('region_of_interview').party.apply(lambda x: (x == 'strong democrat').mean())\n",
    "approval_proportions=df.groupby('region_of_interview').pres_approval.apply(lambda x: (x == 'approve').mean())\n",
    "proportions = pd.DataFrame({'strong_dem_proportions':strong_dem_proportions,\n",
    "                           'approval_proportions':approval_proportions})\n",
    "proportions.head(4)"
   ]
  },
  {
   "cell_type": "markdown",
   "metadata": {},
   "source": [
    "Before computing the regression summary, let's look at a scatter plot and the best fit line. "
   ]
  },
  {
   "cell_type": "code",
   "execution_count": 324,
   "metadata": {
    "scrolled": false
   },
   "outputs": [
    {
     "data": {
      "text/plain": [
       "Text(0, 0.5, 'Proportion of Presidential Approval Amongst Voters with\\nStrong Party Affiliation in Region')"
      ]
     },
     "execution_count": 324,
     "metadata": {},
     "output_type": "execute_result"
    },
    {
     "data": {
      "image/png": "[encoded data removed]",
      "text/plain": [
       "<Figure size 432x288 with 1 Axes>"
      ]
     },
     "metadata": {
      "needs_background": "light"
     },
     "output_type": "display_data"
    }
   ],
   "source": [
    "import seaborn as sns\n",
    "myplot=sns.regplot(x=strong_dem_proportions, y=approval_proportions, data=proportions)\n",
    "myplot.set_title(\"Presidential Approval Proportion vs Democrat Proportion\\nby Region (Strong Affiliation ONLY!)\")\n",
    "myplot.set_xlabel(\"Proportion of Democrats Amongst Voters with\\nStrong Party Affiliation in Region\")\n",
    "myplot.set_ylabel(\"Proportion of Presidential Approval Amongst Voters with\\nStrong Party Affiliation in Region\")"
   ]
  },
  {
   "cell_type": "markdown",
   "metadata": {},
   "source": [
    "Now let's actually do the regression and look at the output. "
   ]
  },
  {
   "cell_type": "code",
   "execution_count": 325,
   "metadata": {
    "scrolled": true
   },
   "outputs": [
    {
     "name": "stdout",
     "output_type": "stream",
     "text": [
      "                             OLS Regression Results                             \n",
      "================================================================================\n",
      "Dep. Variable:     approval_proportions   R-squared:                       0.912\n",
      "Model:                              OLS   Adj. R-squared:                  0.900\n",
      "Method:                   Least Squares   F-statistic:                     72.91\n",
      "Date:                  Fri, 14 Jun 2019   Prob (F-statistic):           6.00e-05\n",
      "Time:                          14:16:49   Log-Likelihood:                 14.300\n",
      "No. Observations:                     9   AIC:                            -24.60\n",
      "Df Residuals:                         7   BIC:                            -24.20\n",
      "Df Model:                             1                                         \n",
      "Covariance Type:              nonrobust                                         \n",
      "==========================================================================================\n",
      "                             coef    std err          t      P>|t|      [0.025      0.975]\n",
      "------------------------------------------------------------------------------------------\n",
      "Intercept                 -0.0225      0.077     -0.291      0.780      -0.205       0.160\n",
      "strong_dem_proportions     0.9976      0.117      8.539      0.000       0.721       1.274\n",
      "==============================================================================\n",
      "Omnibus:                        1.203   Durbin-Watson:                   1.431\n",
      "Prob(Omnibus):                  0.548   Jarque-Bera (JB):                0.169\n",
      "Skew:                           0.336   Prob(JB):                        0.919\n",
      "Kurtosis:                       2.996   Cond. No.                         8.88\n",
      "==============================================================================\n",
      "\n",
      "Warnings:\n",
      "[1] Standard Errors assume that the covariance matrix of the errors is correctly specified.\n"
     ]
    },
    {
     "name": "stderr",
     "output_type": "stream",
     "text": [
      "C:\\Users\\Tom\\Anaconda3\\lib\\site-packages\\scipy\\stats\\stats.py:1394: UserWarning: kurtosistest only valid for n>=20 ... continuing anyway, n=9\n",
      "  \"anyway, n=%i\" % int(n))\n"
     ]
    }
   ],
   "source": [
    "import statsmodels.api as sm\n",
    "import statsmodels.formula.api as smf\n",
    "\n",
    "result_ols = smf.ols('approval_proportions~strong_dem_proportions', data=proportions).fit()\n",
    "print(result_ols.summary())"
   ]
  },
  {
   "cell_type": "markdown",
   "metadata": {},
   "source": [
    "Shockingly, the slope is essentially 1. But don't jump to any conclusions: the extracted data was only participants who indicated strong party affiliation! "
   ]
  },
  {
   "cell_type": "markdown",
   "metadata": {},
   "source": [
    "### Creating New Columns that are Transformations of Other Columns\n",
    "* Natural logarithm: `np.log()`\n",
    "* Base 10 logarithm: `np.log10()`\n",
    "* Base 2 logarithm: `np.log2()`\n",
    "* Square root: `np.sqrt()`\n",
    "* Square: `x**2`"
   ]
  },
  {
   "cell_type": "code",
   "execution_count": 326,
   "metadata": {},
   "outputs": [
    {
     "data": {
      "text/html": [
       "<div>\n",
       "<style scoped>\n",
       "    .dataframe tbody tr th:only-of-type {\n",
       "        vertical-align: middle;\n",
       "    }\n",
       "\n",
       "    .dataframe tbody tr th {\n",
       "        vertical-align: top;\n",
       "    }\n",
       "\n",
       "    .dataframe thead th {\n",
       "        text-align: right;\n",
       "    }\n",
       "</style>\n",
       "<table border=\"1\" class=\"dataframe\">\n",
       "  <thead>\n",
       "    <tr style=\"text-align: right;\">\n",
       "      <th></th>\n",
       "      <th>year</th>\n",
       "      <th>id</th>\n",
       "      <th>age</th>\n",
       "      <th>region_of_interview</th>\n",
       "      <th>size</th>\n",
       "      <th>party</th>\n",
       "      <th>pres_approval</th>\n",
       "      <th>size_squareroot</th>\n",
       "    </tr>\n",
       "  </thead>\n",
       "  <tbody>\n",
       "    <tr>\n",
       "      <th>0</th>\n",
       "      <td>2012</td>\n",
       "      <td>5</td>\n",
       "      <td>70</td>\n",
       "      <td>middle atlantic</td>\n",
       "      <td>24</td>\n",
       "      <td>strong democrat</td>\n",
       "      <td>approve</td>\n",
       "      <td>4.898979</td>\n",
       "    </tr>\n",
       "    <tr>\n",
       "      <th>1</th>\n",
       "      <td>2012</td>\n",
       "      <td>6</td>\n",
       "      <td>50</td>\n",
       "      <td>middle atlantic</td>\n",
       "      <td>24</td>\n",
       "      <td>strong democrat</td>\n",
       "      <td>disapprove</td>\n",
       "      <td>4.898979</td>\n",
       "    </tr>\n",
       "    <tr>\n",
       "      <th>2</th>\n",
       "      <td>2012</td>\n",
       "      <td>29</td>\n",
       "      <td>81</td>\n",
       "      <td>middle atlantic</td>\n",
       "      <td>17</td>\n",
       "      <td>strong democrat</td>\n",
       "      <td>approve</td>\n",
       "      <td>4.123106</td>\n",
       "    </tr>\n",
       "  </tbody>\n",
       "</table>\n",
       "</div>"
      ],
      "text/plain": [
       "   year  id  age region_of_interview  size            party pres_approval  \\\n",
       "0  2012   5   70     middle atlantic    24  strong democrat       approve   \n",
       "1  2012   6   50     middle atlantic    24  strong democrat    disapprove   \n",
       "2  2012  29   81     middle atlantic    17  strong democrat       approve   \n",
       "\n",
       "   size_squareroot  \n",
       "0         4.898979  \n",
       "1         4.898979  \n",
       "2         4.123106  "
      ]
     },
     "execution_count": 326,
     "metadata": {},
     "output_type": "execute_result"
    }
   ],
   "source": [
    "df['size_squareroot'] = np.sqrt(df['size'])\n",
    "df.head(3)"
   ]
  },
  {
   "cell_type": "code",
   "execution_count": 327,
   "metadata": {},
   "outputs": [
    {
     "data": {
      "text/html": [
       "<div>\n",
       "<style scoped>\n",
       "    .dataframe tbody tr th:only-of-type {\n",
       "        vertical-align: middle;\n",
       "    }\n",
       "\n",
       "    .dataframe tbody tr th {\n",
       "        vertical-align: top;\n",
       "    }\n",
       "\n",
       "    .dataframe thead th {\n",
       "        text-align: right;\n",
       "    }\n",
       "</style>\n",
       "<table border=\"1\" class=\"dataframe\">\n",
       "  <thead>\n",
       "    <tr style=\"text-align: right;\">\n",
       "      <th></th>\n",
       "      <th>year</th>\n",
       "      <th>id</th>\n",
       "      <th>age</th>\n",
       "      <th>region_of_interview</th>\n",
       "      <th>size</th>\n",
       "      <th>party</th>\n",
       "      <th>pres_approval</th>\n",
       "      <th>size_squareroot</th>\n",
       "      <th>age_squared</th>\n",
       "    </tr>\n",
       "  </thead>\n",
       "  <tbody>\n",
       "    <tr>\n",
       "      <th>0</th>\n",
       "      <td>2012</td>\n",
       "      <td>5</td>\n",
       "      <td>70</td>\n",
       "      <td>middle atlantic</td>\n",
       "      <td>24</td>\n",
       "      <td>strong democrat</td>\n",
       "      <td>approve</td>\n",
       "      <td>4.898979</td>\n",
       "      <td>4900</td>\n",
       "    </tr>\n",
       "    <tr>\n",
       "      <th>1</th>\n",
       "      <td>2012</td>\n",
       "      <td>6</td>\n",
       "      <td>50</td>\n",
       "      <td>middle atlantic</td>\n",
       "      <td>24</td>\n",
       "      <td>strong democrat</td>\n",
       "      <td>disapprove</td>\n",
       "      <td>4.898979</td>\n",
       "      <td>2500</td>\n",
       "    </tr>\n",
       "    <tr>\n",
       "      <th>2</th>\n",
       "      <td>2012</td>\n",
       "      <td>29</td>\n",
       "      <td>81</td>\n",
       "      <td>middle atlantic</td>\n",
       "      <td>17</td>\n",
       "      <td>strong democrat</td>\n",
       "      <td>approve</td>\n",
       "      <td>4.123106</td>\n",
       "      <td>6561</td>\n",
       "    </tr>\n",
       "  </tbody>\n",
       "</table>\n",
       "</div>"
      ],
      "text/plain": [
       "   year  id  age region_of_interview  size            party pres_approval  \\\n",
       "0  2012   5   70     middle atlantic    24  strong democrat       approve   \n",
       "1  2012   6   50     middle atlantic    24  strong democrat    disapprove   \n",
       "2  2012  29   81     middle atlantic    17  strong democrat       approve   \n",
       "\n",
       "   size_squareroot  age_squared  \n",
       "0         4.898979         4900  \n",
       "1         4.898979         2500  \n",
       "2         4.123106         6561  "
      ]
     },
     "execution_count": 327,
     "metadata": {},
     "output_type": "execute_result"
    }
   ],
   "source": [
    "df['age_squared'] = (df['age'])**2\n",
    "df.head(3)"
   ]
  },
  {
   "cell_type": "markdown",
   "metadata": {},
   "source": [
    "### Appendix 1: (Not for Beginners) How to Index into a DataFrame using Slicing and Matrix Notation"
   ]
  },
  {
   "cell_type": "markdown",
   "metadata": {},
   "source": [
    "#### Select Rows Using `dataframename[ slice ]`: NOT RECOMMENDED, better to select by content!"
   ]
  },
  {
   "cell_type": "markdown",
   "metadata": {},
   "source": [
    "`df[1]` will not give you row 1, it will be an error, but `df[0:3]` will give you rows 0,1,2. "
   ]
  },
  {
   "cell_type": "code",
   "execution_count": 328,
   "metadata": {
    "scrolled": true
   },
   "outputs": [
    {
     "data": {
      "text/html": [
       "<div>\n",
       "<style scoped>\n",
       "    .dataframe tbody tr th:only-of-type {\n",
       "        vertical-align: middle;\n",
       "    }\n",
       "\n",
       "    .dataframe tbody tr th {\n",
       "        vertical-align: top;\n",
       "    }\n",
       "\n",
       "    .dataframe thead th {\n",
       "        text-align: right;\n",
       "    }\n",
       "</style>\n",
       "<table border=\"1\" class=\"dataframe\">\n",
       "  <thead>\n",
       "    <tr style=\"text-align: right;\">\n",
       "      <th></th>\n",
       "      <th>year</th>\n",
       "      <th>id</th>\n",
       "      <th>age</th>\n",
       "      <th>region_of_interview</th>\n",
       "      <th>size</th>\n",
       "      <th>party</th>\n",
       "      <th>pres_approval</th>\n",
       "      <th>size_squareroot</th>\n",
       "      <th>age_squared</th>\n",
       "    </tr>\n",
       "  </thead>\n",
       "  <tbody>\n",
       "    <tr>\n",
       "      <th>0</th>\n",
       "      <td>2012</td>\n",
       "      <td>5</td>\n",
       "      <td>70</td>\n",
       "      <td>middle atlantic</td>\n",
       "      <td>24</td>\n",
       "      <td>strong democrat</td>\n",
       "      <td>approve</td>\n",
       "      <td>4.898979</td>\n",
       "      <td>4900</td>\n",
       "    </tr>\n",
       "    <tr>\n",
       "      <th>1</th>\n",
       "      <td>2012</td>\n",
       "      <td>6</td>\n",
       "      <td>50</td>\n",
       "      <td>middle atlantic</td>\n",
       "      <td>24</td>\n",
       "      <td>strong democrat</td>\n",
       "      <td>disapprove</td>\n",
       "      <td>4.898979</td>\n",
       "      <td>2500</td>\n",
       "    </tr>\n",
       "    <tr>\n",
       "      <th>2</th>\n",
       "      <td>2012</td>\n",
       "      <td>29</td>\n",
       "      <td>81</td>\n",
       "      <td>middle atlantic</td>\n",
       "      <td>17</td>\n",
       "      <td>strong democrat</td>\n",
       "      <td>approve</td>\n",
       "      <td>4.123106</td>\n",
       "      <td>6561</td>\n",
       "    </tr>\n",
       "  </tbody>\n",
       "</table>\n",
       "</div>"
      ],
      "text/plain": [
       "   year  id  age region_of_interview  size            party pres_approval  \\\n",
       "0  2012   5   70     middle atlantic    24  strong democrat       approve   \n",
       "1  2012   6   50     middle atlantic    24  strong democrat    disapprove   \n",
       "2  2012  29   81     middle atlantic    17  strong democrat       approve   \n",
       "\n",
       "   size_squareroot  age_squared  \n",
       "0         4.898979         4900  \n",
       "1         4.898979         2500  \n",
       "2         4.123106         6561  "
      ]
     },
     "execution_count": 328,
     "metadata": {},
     "output_type": "execute_result"
    }
   ],
   "source": [
    "df[0:3] # WARNING: different from R! \n",
    "# In python rows and columns are \n",
    "# selected the same way, just with slice\n",
    "# rather than name\n",
    "\n",
    "# This slicing does NOT include the last number"
   ]
  },
  {
   "cell_type": "markdown",
   "metadata": {},
   "source": [
    "### Appendix 2: (Not for Beginners) `iloc` versus `loc` in Regards to Slicing"
   ]
  },
  {
   "cell_type": "markdown",
   "metadata": {},
   "source": [
    "`iloc` is for integer matrix-like notation or `[integerrow,integercolumn]`, whereas `loc` uses names in both. "
   ]
  },
  {
   "cell_type": "code",
   "execution_count": 329,
   "metadata": {
    "scrolled": true
   },
   "outputs": [
    {
     "data": {
      "text/plain": [
       "'middle atlantic'"
      ]
     },
     "execution_count": 329,
     "metadata": {},
     "output_type": "execute_result"
    }
   ],
   "source": [
    "df.iloc[0,3]  # with i use indices, won't work with column names"
   ]
  },
  {
   "cell_type": "code",
   "execution_count": 330,
   "metadata": {},
   "outputs": [
    {
     "data": {
      "text/plain": [
       "'middle atlantic'"
      ]
     },
     "execution_count": 330,
     "metadata": {},
     "output_type": "execute_result"
    }
   ],
   "source": [
    "df.loc[0,'region_of_interview'] # without i use row name and column name\n",
    "# in this example the row names are the same as the row numbers"
   ]
  },
  {
   "cell_type": "code",
   "execution_count": 331,
   "metadata": {},
   "outputs": [
    {
     "data": {
      "text/html": [
       "<div>\n",
       "<style scoped>\n",
       "    .dataframe tbody tr th:only-of-type {\n",
       "        vertical-align: middle;\n",
       "    }\n",
       "\n",
       "    .dataframe tbody tr th {\n",
       "        vertical-align: top;\n",
       "    }\n",
       "\n",
       "    .dataframe thead th {\n",
       "        text-align: right;\n",
       "    }\n",
       "</style>\n",
       "<table border=\"1\" class=\"dataframe\">\n",
       "  <thead>\n",
       "    <tr style=\"text-align: right;\">\n",
       "      <th></th>\n",
       "      <th>age</th>\n",
       "      <th>region_of_interview</th>\n",
       "    </tr>\n",
       "  </thead>\n",
       "  <tbody>\n",
       "    <tr>\n",
       "      <th>10</th>\n",
       "      <td>49</td>\n",
       "      <td>middle atlantic</td>\n",
       "    </tr>\n",
       "    <tr>\n",
       "      <th>11</th>\n",
       "      <td>48</td>\n",
       "      <td>middle atlantic</td>\n",
       "    </tr>\n",
       "  </tbody>\n",
       "</table>\n",
       "</div>"
      ],
      "text/plain": [
       "    age region_of_interview\n",
       "10   49     middle atlantic\n",
       "11   48     middle atlantic"
      ]
     },
     "execution_count": 331,
     "metadata": {},
     "output_type": "execute_result"
    }
   ],
   "source": [
    "df.iloc[10:12,[2,3]] \n",
    "\n",
    "# this slicing with i of row numbers does NOT include the last number!"
   ]
  },
  {
   "cell_type": "code",
   "execution_count": 332,
   "metadata": {
    "scrolled": true
   },
   "outputs": [
    {
     "name": "stdout",
     "output_type": "stream",
     "text": [
      "    age region_of_interview\n",
      "10   49     middle atlantic\n",
      "11   48     middle atlantic\n",
      "12   43     middle atlantic\n"
     ]
    }
   ],
   "source": [
    "# Similarly get a sub dataframe \n",
    "# using a slice of row names and a list of \n",
    "# column names without i \n",
    "df=df.rename(index=str) # change row numbers to strings to be row names\n",
    "print(df.loc['10':'12',['age','region_of_interview']])\n",
    "\n",
    "# This slicing of row names without i includes the last number!\n",
    "# Contrast with previous example!\n",
    "# Better to select by content to avoid mistakes!\n",
    "\n",
    "# Let's change row names back to integers in order\n",
    "# to avoid messing up other parts of file\n",
    "df=df.rename(index=int) "
   ]
  },
  {
   "cell_type": "markdown",
   "metadata": {},
   "source": [
    "### Appendix 3: How to Create a DataFrame From a Dictionary"
   ]
  },
  {
   "cell_type": "code",
   "execution_count": 333,
   "metadata": {
    "scrolled": true
   },
   "outputs": [
    {
     "data": {
      "text/html": [
       "<div>\n",
       "<style scoped>\n",
       "    .dataframe tbody tr th:only-of-type {\n",
       "        vertical-align: middle;\n",
       "    }\n",
       "\n",
       "    .dataframe tbody tr th {\n",
       "        vertical-align: top;\n",
       "    }\n",
       "\n",
       "    .dataframe thead th {\n",
       "        text-align: right;\n",
       "    }\n",
       "</style>\n",
       "<table border=\"1\" class=\"dataframe\">\n",
       "  <thead>\n",
       "    <tr style=\"text-align: right;\">\n",
       "      <th></th>\n",
       "      <th>Course</th>\n",
       "      <th>Section</th>\n",
       "      <th>Names</th>\n",
       "      <th>Group</th>\n",
       "      <th>Date</th>\n",
       "    </tr>\n",
       "  </thead>\n",
       "  <tbody>\n",
       "    <tr>\n",
       "      <th>0</th>\n",
       "      <td>Intro to Big Data</td>\n",
       "      <td>4</td>\n",
       "      <td>Abigail</td>\n",
       "      <td>1</td>\n",
       "      <td>2019-06-14</td>\n",
       "    </tr>\n",
       "    <tr>\n",
       "      <th>1</th>\n",
       "      <td>Intro to Big Data</td>\n",
       "      <td>4</td>\n",
       "      <td>Jeff</td>\n",
       "      <td>1</td>\n",
       "      <td>2019-06-14</td>\n",
       "    </tr>\n",
       "    <tr>\n",
       "      <th>2</th>\n",
       "      <td>Intro to Big Data</td>\n",
       "      <td>4</td>\n",
       "      <td>Mana</td>\n",
       "      <td>2</td>\n",
       "      <td>2019-06-14</td>\n",
       "    </tr>\n",
       "    <tr>\n",
       "      <th>3</th>\n",
       "      <td>Intro to Big Data</td>\n",
       "      <td>4</td>\n",
       "      <td>Patrick</td>\n",
       "      <td>2</td>\n",
       "      <td>2019-06-14</td>\n",
       "    </tr>\n",
       "  </tbody>\n",
       "</table>\n",
       "</div>"
      ],
      "text/plain": [
       "              Course  Section    Names Group        Date\n",
       "0  Intro to Big Data        4  Abigail     1  2019-06-14\n",
       "1  Intro to Big Data        4     Jeff     1  2019-06-14\n",
       "2  Intro to Big Data        4     Mana     2  2019-06-14\n",
       "3  Intro to Big Data        4  Patrick     2  2019-06-14"
      ]
     },
     "execution_count": 333,
     "metadata": {},
     "output_type": "execute_result"
    }
   ],
   "source": [
    "# data is stored as a dictionary {key1: value1, ...}\n",
    "data = {'Course'  : 'Intro to Big Data', # Strings\n",
    "        'Section' : 4, # Int\n",
    "        'Names'   : ['Abigail', 'Jeff', 'Mana', 'Patrick'], # List\n",
    "        'Group'   : ['1'] * 2 + ['2'] * 2,\n",
    "        'Date'    : pd.Timestamp.today().date()} # Time stamps\n",
    "\n",
    "df1 = pd.DataFrame(data)\n",
    "df1"
   ]
  }
 ],
 "metadata": {
  "kernelspec": {
   "display_name": "Python 3",
   "language": "python",
   "name": "python3"
  },
  "language_info": {
   "codemirror_mode": {
    "name": "ipython",
    "version": 3
   },
   "file_extension": ".py",
   "mimetype": "text/x-python",
   "name": "python",
   "nbconvert_exporter": "python",
   "pygments_lexer": "ipython3",
   "version": "3.6.6"
  }
 },
 "nbformat": 4,
 "nbformat_minor": 2
}

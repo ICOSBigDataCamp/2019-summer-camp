{
 "cells": [
  {
   "cell_type": "markdown",
   "metadata": {},
   "source": [
    "# Scraping Reddit\n",
    "\n",
    "After creating a Reddit account, head over to https://www.reddit.com/prefs/apps. Create a new app, select the 'script' option, and set the redirect uri to http://localhost:8000. \n",
    "\n",
    "Check out the PRAW documentation! https://praw.readthedocs.io/en/latest/"
   ]
  },
  {
   "cell_type": "markdown",
   "metadata": {},
   "source": [
    "## Imports\n",
    "- `pandas` is a package for handling and manipulating data.\n",
    "- `praw` is a package that helps you use the Reddit API in python (Python Reddit API Wrapper).\n",
    "- `time` is a package that lets you work with time in python. \n",
    "- `json` is a package for handling data in json format "
   ]
  },
  {
   "cell_type": "code",
   "execution_count": null,
   "metadata": {},
   "outputs": [],
   "source": [
    "import pandas as pd\n",
    "import praw\n",
    "import time\n",
    "import json"
   ]
  },
  {
   "cell_type": "markdown",
   "metadata": {},
   "source": [
    "## Keys and Credentials\n",
    "- You'll need API keys from the app you created to use the Reddit API. Fill them out here."
   ]
  },
  {
   "cell_type": "code",
   "execution_count": null,
   "metadata": {},
   "outputs": [],
   "source": [
    "keys = {\n",
    "    'client_id': 'SHORT_STRING_OF_GARBAGE',\n",
    "    'client_secret': 'LONGER_STRING_OF_GARBAGE'\n",
    "}\n",
    "\n",
    "app_name = \"Data Camp\"\n",
    "\n",
    "user_info = {\n",
    "    'username':'YOUR_USERNAME',\n",
    "    'password':'YOUR_PASSWORD'\n",
    "}"
   ]
  },
  {
   "cell_type": "markdown",
   "metadata": {},
   "source": [
    "### Using keys\n",
    "- Give your credentials and keys to `praw` so that it can use them to get the data you request."
   ]
  },
  {
   "cell_type": "code",
   "execution_count": null,
   "metadata": {},
   "outputs": [],
   "source": [
    "reddit = praw.Reddit(client_id=keys['client_id'], \\\n",
    "                     client_secret=keys['client_secret'], \\\n",
    "                     user_agent=app_name, \\\n",
    "                     username=user_info['username'], \\\n",
    "                     password=user_info['password']\n",
    ")"
   ]
  },
  {
   "cell_type": "markdown",
   "metadata": {},
   "source": [
    "## Using PRAW models"
   ]
  },
  {
   "cell_type": "code",
   "execution_count": null,
   "metadata": {},
   "outputs": [],
   "source": [
    "# get an instance of the PRAW subreddit model for the NASA subreddit\n",
    "nasa = reddit.subreddit('nasa')\n",
    "\n",
    "# get the 5 hottest posts in the NASA subreddit\n",
    "nasa_submissions = nasa.hot(limit=5)\n",
    "\n",
    "# loop through the posts and print their titles\n",
    "for submission in nasa_submissions:\n",
    "    print(submission.title)"
   ]
  },
  {
   "cell_type": "markdown",
   "metadata": {},
   "source": [
    "### Try it out!\n",
    "\n",
    "In the cell below, get the 10 hottest submissions for a subreddit of your choice and print out their titles.\n",
    "\n"
   ]
  },
  {
   "cell_type": "code",
   "execution_count": null,
   "metadata": {},
   "outputs": [],
   "source": [
    "# get an instance of the PRAW subreddit model for your chosen subreddit\n",
    "\n",
    "# get the 10 hottest posts in your chosen subreddit\n",
    "\n",
    "# loop through the posts and print their titles\n"
   ]
  },
  {
   "cell_type": "markdown",
   "metadata": {},
   "source": [
    "[Challenge] Use the documentation to print the titles of the top submissions from user GovSchwarzenegger.\n",
    "\n",
    "https://praw.readthedocs.io/en/latest/code_overview/models/redditor.html#praw.models.Redditor.top"
   ]
  },
  {
   "cell_type": "code",
   "execution_count": null,
   "metadata": {},
   "outputs": [],
   "source": [
    "# get top submissions for GovSchwarzenegger\n",
    "\n",
    "# loop through the submissions and print titles\n"
   ]
  },
  {
   "cell_type": "markdown",
   "metadata": {},
   "source": [
    "## A view of the Democratic 2020 Presidential Candidates\n",
    "Some say it's hard to tell them apart. Let's get the top comments on subreddits dedicated to different candidates and see if we can sort them out."
   ]
  },
  {
   "cell_type": "code",
   "execution_count": null,
   "metadata": {},
   "outputs": [],
   "source": [
    "candidates = ['SandersForPresident', 'ElizabethWarren', 'JoeBiden', 'Pete_Buttigieg', 'Kamala', 'YangForPresidentHQ']\n",
    "\n",
    "subreddits = [reddit.subreddit(i) for i in candidates]"
   ]
  },
  {
   "cell_type": "code",
   "execution_count": null,
   "metadata": {},
   "outputs": [],
   "source": [
    "all_candidates_posts = []\n",
    "\n",
    "for subreddit in subreddits:\n",
    "    subreddit_name = subreddit.display_name\n",
    "    for submission in subreddit.top(limit=100):\n",
    "        candidate_posts = {}\n",
    "        candidate_posts[\"title\"] = submission.title\n",
    "        candidate_posts[\"score\"] = submission.score\n",
    "        candidate_posts[\"id\"] = submission.id\n",
    "        candidate_posts[\"url\"] = submission.url\n",
    "        candidate_posts[\"created\"] = submission.created\n",
    "        candidate_posts[\"author\"] = submission.author\n",
    "        candidate_posts[\"body\"] = submission.selftext\n",
    "        candidate_posts[\"name\"] = subreddit_name\n",
    "        all_candidates_posts.append(candidate_posts)"
   ]
  },
  {
   "cell_type": "markdown",
   "metadata": {},
   "source": [
    "## Convert the data to pandas"
   ]
  },
  {
   "cell_type": "code",
   "execution_count": null,
   "metadata": {},
   "outputs": [],
   "source": [
    "df = pd.DataFrame(all_candidates_posts)\n",
    "df.head()"
   ]
  },
  {
   "cell_type": "code",
   "execution_count": null,
   "metadata": {},
   "outputs": [],
   "source": [
    "jb = df[df.name==\"JoeBiden\"]\n",
    "jb.head()"
   ]
  }
 ],
 "metadata": {
  "kernelspec": {
   "display_name": "Python 3",
   "language": "python",
   "name": "python3"
  },
  "language_info": {
   "codemirror_mode": {
    "name": "ipython",
    "version": 2
   },
   "file_extension": ".py",
   "mimetype": "text/x-python",
   "name": "python",
   "nbconvert_exporter": "python",
   "pygments_lexer": "ipython2",
   "version": "2.7.15"
  }
 },
 "nbformat": 4,
 "nbformat_minor": 2
}

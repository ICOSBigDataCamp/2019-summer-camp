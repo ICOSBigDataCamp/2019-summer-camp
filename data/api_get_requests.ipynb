{
 "cells": [
  {
   "cell_type": "markdown",
   "metadata": {},
   "source": [
    "# Issuing Requests to an API\n",
    "\n",
    "We will learn how to work with JSON, issue requests to an API, and set up credentials for APIs that require authorization.\n"
   ]
  },
  {
   "cell_type": "markdown",
   "metadata": {},
   "source": [
    "## Imports\n",
    "- `requests` is a package for issuing HTTP/1.1 requests.\n",
    "- `json` is a package for handling data in json format "
   ]
  },
  {
   "cell_type": "code",
   "execution_count": null,
   "metadata": {},
   "outputs": [],
   "source": [
    "import requests\n",
    "import json\n",
    "import pandas as pd"
   ]
  },
  {
   "cell_type": "markdown",
   "metadata": {},
   "source": [
    "## Working with JSON "
   ]
  },
  {
   "cell_type": "code",
   "execution_count": null,
   "metadata": {},
   "outputs": [],
   "source": [
    "# some JSON:\n",
    "person =  '{ \"name\":\"Miki\", \"age\":32, \"hometown\":\"New York\"}'\n",
    "\n",
    "# parse the JSON:\n",
    "person_dict = json.loads(person)\n",
    "\n",
    "# the result is a Python dictionary, which is comprised of key/value pairs:\n",
    "person_dict"
   ]
  },
  {
   "cell_type": "code",
   "execution_count": null,
   "metadata": {},
   "outputs": [],
   "source": [
    "# put the key in the square brackets to access the value\n",
    "person_dict[\"age\"]"
   ]
  },
  {
   "cell_type": "code",
   "execution_count": null,
   "metadata": {},
   "outputs": [],
   "source": [
    "person_dict[\"hometown\"]"
   ]
  },
  {
   "cell_type": "code",
   "execution_count": null,
   "metadata": {},
   "outputs": [],
   "source": [
    "# some JSON:\n",
    "soylent_flavors =  '[\"original\", \"chai\", \"strawberry\", \"cacao\", \"nectar\"]'\n",
    "\n",
    "# parse the JSON:\n",
    "soylent_flavors_array = json.loads(soylent_flavors)\n",
    "\n",
    "# the result is a Python list:\n",
    "soylent_flavors_array"
   ]
  },
  {
   "cell_type": "code",
   "execution_count": null,
   "metadata": {},
   "outputs": [],
   "source": [
    "# put a number in square brackets to access the string at that index\n",
    "soylent_flavors_array[0]"
   ]
  },
  {
   "cell_type": "code",
   "execution_count": null,
   "metadata": {},
   "outputs": [],
   "source": [
    "# some JSON:\n",
    "lucille = '{ \"name\": \"Lucille\",\"age\": 65,\"children\": [\"GOB\",\"Michael\", \"Lindsay\", \"Buster\", \"Annyong\"],\"inventory\": [{\"item\": \"furs\", \"cost\": 2000.30},{\"item\": \"banana\", \"cost\": 10.00}]}'\n",
    "\n",
    "# parse the JSON:\n",
    "lucille = json.loads(lucille)\n",
    "\n",
    "# the result is a Python object that has nested lists and objects =0\n",
    "lucille"
   ]
  },
  {
   "cell_type": "code",
   "execution_count": null,
   "metadata": {},
   "outputs": [],
   "source": [
    "lucille[\"children\"]"
   ]
  },
  {
   "cell_type": "code",
   "execution_count": null,
   "metadata": {},
   "outputs": [],
   "source": [
    "lucille[\"children\"][3]"
   ]
  },
  {
   "cell_type": "code",
   "execution_count": null,
   "metadata": {},
   "outputs": [],
   "source": [
    "lucille[\"inventory\"]"
   ]
  },
  {
   "cell_type": "code",
   "execution_count": null,
   "metadata": {},
   "outputs": [],
   "source": [
    "lucille[\"inventory\"][1]"
   ]
  },
  {
   "cell_type": "code",
   "execution_count": null,
   "metadata": {},
   "outputs": [],
   "source": [
    "lucille[\"inventory\"][1][\"item\"]"
   ]
  },
  {
   "cell_type": "markdown",
   "metadata": {},
   "source": [
    "### Try it out!"
   ]
  },
  {
   "cell_type": "code",
   "execution_count": null,
   "metadata": {},
   "outputs": [],
   "source": [
    "barn = [\"sheep\", \"cow\", \"hamster\"]\n",
    "\n",
    "# write code that will select the item \"cow\" from the barn list\n",
    "\n"
   ]
  },
  {
   "cell_type": "code",
   "execution_count": null,
   "metadata": {},
   "outputs": [],
   "source": [
    "dragon = {\n",
    "    \"name\" : \"Puff\",\n",
    "    \"magic\": True,\n",
    "    \"home\": \"Honahlee\"\n",
    "}\n",
    "\n",
    "# write code that will access the value \"Puff\"\n",
    "\n"
   ]
  },
  {
   "cell_type": "code",
   "execution_count": null,
   "metadata": {},
   "outputs": [],
   "source": [
    "shoes = {\n",
    "    \"type\" : \"sandals\",\n",
    "    \"cost\" : 20,\n",
    "    \"size_availability\" : {\n",
    "        7: True,\n",
    "        8: False,\n",
    "        9: True,\n",
    "        10: False\n",
    "    }\n",
    "}\n",
    "\n",
    "# write code that will access the availability of size 9 shoes\n",
    "\n"
   ]
  },
  {
   "cell_type": "code",
   "execution_count": null,
   "metadata": {},
   "outputs": [],
   "source": [
    "tweet = {\n",
    "    \"date\" : \"10-09-2018\",\n",
    "    \"text\" : \"my baby smells like dirt\",\n",
    "    \"liked_by\" : [\"wint\", \"taylorswift\", \"jack\"],\n",
    "    \"retweeted_by\" : [\"horse_ebooks\"]\n",
    "}\n",
    "\n",
    "# write code that will access the value \"jack\"\n",
    "\n"
   ]
  },
  {
   "cell_type": "markdown",
   "metadata": {},
   "source": [
    "## Issuing GET Requests to the PokéAPI\n",
    "\n",
    "Check out the documentation! https://pokeapi.co/\n",
    "\n",
    "There are many different endpoints. We will start by getting information about Pokémon\n",
    "\n",
    "`GET /api/v2/pokemon/{id or name}/`"
   ]
  },
  {
   "cell_type": "code",
   "execution_count": null,
   "metadata": {},
   "outputs": [],
   "source": [
    "# specify the url of the API endpoint and fill in any required fields\n",
    "\n",
    "pikachu_info_url = \"https://pokeapi.co/api/v2/pokemon/pikachu\""
   ]
  },
  {
   "cell_type": "code",
   "execution_count": null,
   "metadata": {},
   "outputs": [],
   "source": [
    "r = requests.get(pikachu_info_url)\n",
    "\n",
    "r"
   ]
  },
  {
   "cell_type": "code",
   "execution_count": null,
   "metadata": {},
   "outputs": [],
   "source": [
    "pika_info = r.json()\n",
    "pika_info"
   ]
  },
  {
   "cell_type": "code",
   "execution_count": null,
   "metadata": {},
   "outputs": [],
   "source": [
    "pika_info['id']"
   ]
  },
  {
   "cell_type": "code",
   "execution_count": null,
   "metadata": {},
   "outputs": [],
   "source": [
    "pika_info['types']"
   ]
  },
  {
   "cell_type": "code",
   "execution_count": null,
   "metadata": {},
   "outputs": [],
   "source": [
    "types = pika_info['types']\n",
    "\n",
    "for type in types:\n",
    "    print(type['type']['name'])"
   ]
  },
  {
   "cell_type": "markdown",
   "metadata": {},
   "source": [
    "### Try it out!\n",
    "In the cell below, issue a request to get information about your favorite Pokémon. Use the response to print the height of your favorite Pokémon (e.g. Togepi, Snorlax).\n",
    "\n",
    "`GET /api/v2/pokemon/{id or name}/`"
   ]
  },
  {
   "cell_type": "code",
   "execution_count": null,
   "metadata": {},
   "outputs": [],
   "source": [
    "# specify the url \n",
    "\n",
    "# issue a get request to that url and store the response\n",
    "\n",
    "# extract the json from the response\n",
    "\n",
    "# get the value associated with the \"height\" key\n",
    "\n"
   ]
  },
  {
   "cell_type": "markdown",
   "metadata": {},
   "source": [
    "[Challenge] In the cell below, issue a request to get information about your favorite *type* of Pokémon (e.g. ghost, flying, fairy). Use the response to print the name of a Pokémon that matches that type. (e.g. for type \"electric\", print \"Pikachu\"). Check out the documentation for information about formatting!\n",
    "\n",
    "`GET /api/v2/type/{id or name}/`"
   ]
  },
  {
   "cell_type": "code",
   "execution_count": null,
   "metadata": {},
   "outputs": [],
   "source": [
    "# specify the url \n",
    "\n",
    "# issue a get request to that url and store the response\n",
    "\n",
    "# extract the json from the response\n",
    "\n",
    "# find the name of a pokemon inside that json \n",
    "\n"
   ]
  },
  {
   "cell_type": "markdown",
   "metadata": {},
   "source": [
    "[Challenge] In the cell below, issue a to get information about a series of Pokémon evolutions (e.g. \"Charmander, Charmeleon, Charizard\" are associated with id number 2). Use the response to print all the Pokémon in that series. Check out the documentation for information about formatting!\n",
    "\n",
    "`GET /api/v2/evolution-chain/{id}/`"
   ]
  },
  {
   "cell_type": "code",
   "execution_count": null,
   "metadata": {},
   "outputs": [],
   "source": [
    "# specify the url \n",
    "\n",
    "# issue a get request to that url and store the response\n",
    "\n",
    "# extract the json from the response\n",
    "\n",
    "# find the names of all pokemon species in the evolution chain \n"
   ]
  },
  {
   "cell_type": "markdown",
   "metadata": {},
   "source": [
    "## New York Times API\n",
    "Follow this guide: https://developer.nytimes.com/get-started. You'll have to sign up for an account and create a new app."
   ]
  },
  {
   "cell_type": "markdown",
   "metadata": {},
   "source": [
    "We will be using the Most Popular API. We will compare the most emailed and the most viewed articles. Check out the documentation! https://developer.nytimes.com/docs/most-popular-product/1/overview\n",
    "\n",
    "First, we get the most emailed articles of the last week.\n",
    "\n",
    "`GET /emailed/{period}.json`"
   ]
  },
  {
   "cell_type": "code",
   "execution_count": null,
   "metadata": {},
   "outputs": [],
   "source": [
    "most_emailed_url = 'https://api.nytimes.com/svc/mostpopular/v2/emailed/7.json'\n",
    "\n",
    "r = requests.get(most_emailed_url)\n",
    "r"
   ]
  },
  {
   "cell_type": "markdown",
   "metadata": {},
   "source": [
    "From the documentation:\n",
    "**401: Unauthorized request. Make sure api-key is set.**\n",
    "\n",
    "\n",
    "### Using keys\n",
    "- You'll need to provide API keys so that NYT can authenticate your request.\n",
    "- API keys can be found in the Apps tab and are associated with a particular app"
   ]
  },
  {
   "cell_type": "code",
   "execution_count": null,
   "metadata": {},
   "outputs": [],
   "source": [
    "params = {\n",
    "    'api-key': 'YOUR_API_KET',\n",
    "}\n",
    "r = requests.get(most_emailed_url, params=params)"
   ]
  },
  {
   "cell_type": "code",
   "execution_count": null,
   "metadata": {},
   "outputs": [],
   "source": [
    "most_emailed_7_days = r.json()\n",
    "most_emailed_7_days"
   ]
  },
  {
   "cell_type": "code",
   "execution_count": null,
   "metadata": {},
   "outputs": [],
   "source": [
    "most_emailed_7_days[\"results\"]"
   ]
  },
  {
   "cell_type": "code",
   "execution_count": null,
   "metadata": {},
   "outputs": [],
   "source": [
    "top_10_results = most_emailed_7_days[\"results\"][:10]\n",
    "\n",
    "for result in top_10_results:\n",
    "    print(result[\"title\"])"
   ]
  },
  {
   "cell_type": "markdown",
   "metadata": {},
   "source": [
    "### Try it out!\n",
    "\n",
    "Now, we need the most viewed articles of the week.\n",
    "\n",
    "`GET /viewed/{period}.json`"
   ]
  },
  {
   "cell_type": "code",
   "execution_count": null,
   "metadata": {},
   "outputs": [],
   "source": [
    "# specify the url\n",
    "\n",
    "# issue the request (don't forget to include your key by passing in the params!)\n",
    "\n",
    "# convert to json"
   ]
  },
  {
   "cell_type": "markdown",
   "metadata": {},
   "source": [
    "## Convert the data to pandas"
   ]
  },
  {
   "cell_type": "code",
   "execution_count": null,
   "metadata": {},
   "outputs": [],
   "source": [
    "df = pd.DataFrame(most_emailed_7_days)\n",
    "df.head()"
   ]
  },
  {
   "cell_type": "markdown",
   "metadata": {},
   "source": [
    "Oh dear! That doesn't look very useful."
   ]
  },
  {
   "cell_type": "code",
   "execution_count": null,
   "metadata": {
    "scrolled": true
   },
   "outputs": [],
   "source": [
    "df = pd.DataFrame(most_emailed_7_days[\"results\"])\n",
    "df.head()"
   ]
  },
  {
   "cell_type": "markdown",
   "metadata": {},
   "source": [
    "### Try it out!\n",
    "Make a new dataframe with the results of your call to get the most viewed aricles of the past week. Then, merge the two dataframes."
   ]
  },
  {
   "cell_type": "code",
   "execution_count": null,
   "metadata": {},
   "outputs": [],
   "source": [
    "# convert the most viewed data into pandas\n",
    "\n",
    "# merge with most emailed dataframe on the \"asset_id\" column\n",
    "\n"
   ]
  }
 ],
 "metadata": {
  "kernelspec": {
   "display_name": "Python 3",
   "language": "python",
   "name": "python3"
  },
  "language_info": {
   "codemirror_mode": {
    "name": "ipython",
    "version": 2
   },
   "file_extension": ".py",
   "mimetype": "text/x-python",
   "name": "python",
   "nbconvert_exporter": "python",
   "pygments_lexer": "ipython2",
   "version": "2.7.15"
  }
 },
 "nbformat": 4,
 "nbformat_minor": 2
}
